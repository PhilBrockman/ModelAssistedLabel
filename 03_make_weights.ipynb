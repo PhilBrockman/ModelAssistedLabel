{
 "cells": [
  {
   "cell_type": "code",
   "execution_count": null,
   "metadata": {},
   "outputs": [],
   "source": [
    "# default_exp core"
   ]
  },
  {
   "cell_type": "code",
   "execution_count": null,
   "metadata": {},
   "outputs": [
    {
     "name": "stdout",
     "output_type": "stream",
     "text": [
      "Mounted at /content/drive\n"
     ]
    }
   ],
   "source": [
    "#hide\n",
    "from google.colab import drive\n",
    "drive.mount(\"/content/drive\")"
   ]
  },
  {
   "cell_type": "code",
   "execution_count": null,
   "metadata": {},
   "outputs": [
    {
     "name": "stdout",
     "output_type": "stream",
     "text": [
      "Collecting fastcore\n",
      "\u001b[?25l  Downloading https://files.pythonhosted.org/packages/0c/98/60404e2817cff113a6ae4023bc1772e23179408fdf7857fa410551758dfe/fastcore-1.3.19-py3-none-any.whl (53kB)\n",
      "\r\u001b[K     |██████▏                         | 10kB 17.7MB/s eta 0:00:01\r\u001b[K     |████████████▍                   | 20kB 20.6MB/s eta 0:00:01\r\u001b[K     |██████████████████▌             | 30kB 10.4MB/s eta 0:00:01\r\u001b[K     |████████████████████████▊       | 40kB 8.5MB/s eta 0:00:01\r\u001b[K     |██████████████████████████████▉ | 51kB 7.2MB/s eta 0:00:01\r\u001b[K     |████████████████████████████████| 61kB 4.5MB/s \n",
      "\u001b[?25hRequirement already satisfied: packaging in /usr/local/lib/python3.7/dist-packages (from fastcore) (20.9)\n",
      "Requirement already satisfied: pip in /usr/local/lib/python3.7/dist-packages (from fastcore) (19.3.1)\n",
      "Requirement already satisfied: pyparsing>=2.0.2 in /usr/local/lib/python3.7/dist-packages (from packaging->fastcore) (2.4.7)\n",
      "Installing collected packages: fastcore\n",
      "Successfully installed fastcore-1.3.19\n",
      "/content/drive/MyDrive/Coding/ModelAssistedLabel\n"
     ]
    }
   ],
   "source": [
    "#hide\n",
    "!pip install fastcore\n",
    "from fastcore.all import *\n",
    "%load_ext autoreload \n",
    "%autoreload 2\n",
    "%cd \"/content/drive/MyDrive/Coding/ModelAssistedLabel\""
   ]
  },
  {
   "cell_type": "code",
   "execution_count": null,
   "metadata": {},
   "outputs": [],
   "source": [
    "from ModelAssistedLabel.core import Generation, Defaults"
   ]
  },
  {
   "cell_type": "code",
   "execution_count": null,
   "metadata": {},
   "outputs": [],
   "source": [
    "# export\n",
    "from ModelAssistedLabel.core import Trainer\n",
    "from datetime import datetime\n",
    "\n",
    "class WeightMaker():\n",
    "  def __init__(self, resource_dir, name=\"DEFAULT\"):\n",
    "    self.resource_dir = resource_dir\n",
    "    self.name = name\n",
    "    self.g = None\n",
    "    self.resource_paths = [\"test/\", \"train/\", \"valid/\", \"data.yaml\"]\n",
    "\n",
    "  def cleanup():\n",
    "    for r in self.resource_paths:\n",
    "      os.system(f\"rm -f -r '{r}'\")\n",
    "\n",
    "  def prepare_split(self, out_dir, data_yaml=None, MAX_SIZE=5, verbose=True):\n",
    "    if data_yaml is None:\n",
    "      data_yaml = Defaults().data_yaml\n",
    "\n",
    "    g = Generation(repo=self.resource_dir, out_dir=out_dir, data_yaml=data_yaml)\n",
    "    g.set_split(MAX_SIZE=MAX_SIZE)\n",
    "\n",
    "    if verbose:\n",
    "      def tostr(split):\n",
    "        return [{k: len(v)} for k,v in split.items()]\n",
    "      def sumg(split):\n",
    "        return sum([list(x.values())[0] for x in tostr(split)])\n",
    "      print(\"summary: \", tostr(g.split))\n",
    "      print(\"checksum:\", sumg(g.split))\n",
    "\n",
    "    self.g = g\n",
    "  \n",
    "  def split_and_organize_folders(self):\n",
    "    assert self.g is not None, \"run `prepare_split` first\"\n",
    "    zipped = self.g.process_split(self.name) #create a zip file in the ROOT directory\n",
    "    local = os.path.basename(zipped)\n",
    "    os.system(f'unzip \"{local}\"') #grab data\n",
    "    #move the contents of the zip file into postion within the ROOT directory\n",
    "    for content in self.resource_paths:\n",
    "      os.system(f\"mv '{local[:-4]}/{content}' .\")\n",
    "    #remove zip file\n",
    "    os.system(f\"rm -f -r '{local}'\")\n",
    "    #removed the folder that was taken out of the zip\n",
    "    os.system(f\"rm -f -r '{local[:-4]}'\")\n",
    "\n",
    "  def generate_weights(self, epochs, out_dir = \".\", train_path = \"yolov5/runs/train\"):\n",
    "    self.prepare_split(out_dir)\n",
    "    self.split_and_organize_folders()\n",
    "\n",
    "    t = Trainer(self.name)\n",
    "    ldir = lambda path: set(os.listdir(path))\n",
    "\n",
    "    before = ldir(train_path)\n",
    "    t.train(epochs)\n",
    "    after = ldir(train_path)\n",
    "    \n",
    "    test_eq(len(after), len(before)+1) #only should have made one new file\n",
    "    diff = list(after - before)[0]\n",
    "    return os.path.join(train_path, diff)\n",
    "\n",
    "  def tidy_weights(self, out_dir=None):\n",
    "    if out_dir is None:\n",
    "      out_dir = repo\n",
    "    results_path = self.generate_weights()\n",
    "\n",
    "    while True:\n",
    "      now = datetime.now()\n",
    "      out = \"{os.path.basename(results_path)}-{now.strftime('%f')}\"\n",
    "      outfolder = os.path.join(out_dir, moved_filename)\n",
    "      if not os.path.exists(outfolder):\n",
    "        break\n",
    "    os.system(f\"mv '{results_path}' '{outfolder}'\")\n",
    "    return outfolder"
   ]
  },
  {
   "cell_type": "code",
   "execution_count": null,
   "metadata": {},
   "outputs": [],
   "source": [
    "repo = \"/content/drive/MyDrive/Coding/Roboflow Export (841)\"\n",
    "name = \"nospaces\"\n",
    "wm = WeightMaker(repo, name)"
   ]
  },
  {
   "cell_type": "code",
   "execution_count": null,
   "metadata": {},
   "outputs": [
    {
     "ename": "TypeError",
     "evalue": "ignored",
     "output_type": "error",
     "traceback": [
      "\u001b[0;31m---------------------------------------------------------------------------\u001b[0m",
      "\u001b[0;31mTypeError\u001b[0m                                 Traceback (most recent call last)",
      "\u001b[0;32m<ipython-input-38-8c4673994751>\u001b[0m in \u001b[0;36m<module>\u001b[0;34m()\u001b[0m\n\u001b[0;32m----> 1\u001b[0;31m \u001b[0mwm\u001b[0m\u001b[0;34m.\u001b[0m\u001b[0mprepare_split\u001b[0m\u001b[0;34m(\u001b[0m\u001b[0;34m)\u001b[0m\u001b[0;34m\u001b[0m\u001b[0;34m\u001b[0m\u001b[0m\n\u001b[0m",
      "\u001b[0;31mTypeError\u001b[0m: prepare_split() missing 1 required positional argument: 'out_dir'"
     ]
    }
   ],
   "source": [
    "wm.prepare_split()"
   ]
  },
  {
   "cell_type": "code",
   "execution_count": null,
   "metadata": {},
   "outputs": [],
   "source": [
    "t.train(1)"
   ]
  },
  {
   "cell_type": "code",
   "execution_count": null,
   "metadata": {},
   "outputs": [
    {
     "name": "stdout",
     "output_type": "stream",
     "text": [
      "confusion_matrix.png                               results.png\n",
      "events.out.tfevents.1615897485.64fc78c672e1.711.0  results.txt\n",
      "hyp.yaml                                           test_batch0_labels.jpg\n",
      "labels_correlogram.jpg                             test_batch0_pred.jpg\n",
      "labels.jpg                                         train_batch0.jpg\n",
      "opt.yaml                                           \u001b[0m\u001b[01;34mweights\u001b[0m/\n"
     ]
    }
   ],
   "source": [
    "%ls yolov5/runs/train/newname"
   ]
  },
  {
   "cell_type": "code",
   "execution_count": null,
   "metadata": {},
   "outputs": [
    {
     "name": "stdout",
     "output_type": "stream",
     "text": [
      "00_ultralytics.ipynb   docker-compose.yml  \u001b[0m\u001b[01;34mModelAssistedLabel\u001b[0m/  \u001b[01;34mtrain\u001b[0m/\n",
      "01_split.ipynb         \u001b[01;34mdocs\u001b[0m/               README.md            \u001b[01;34mvalid\u001b[0m/\n",
      "02_train.ipynb         index.ipynb         settings.ini         \u001b[01;34myolov5\u001b[0m/\n",
      "03_make_weights.ipynb  LICENSE             setup.py\n",
      "CONTRIBUTING.md        Makefile            _Synch.ipynb\n",
      "data.yaml              MANIFEST.in         \u001b[01;34mtest\u001b[0m/\n"
     ]
    }
   ],
   "source": [
    "%ls"
   ]
  },
  {
   "cell_type": "code",
   "execution_count": null,
   "metadata": {},
   "outputs": [],
   "source": []
  }
 ],
 "metadata": {
  "kernelspec": {
   "display_name": "Python 3",
   "name": "python3"
  }
 },
 "nbformat": 4,
 "nbformat_minor": 0
}
