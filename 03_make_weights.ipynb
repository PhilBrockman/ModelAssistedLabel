{
 "cells": [
  {
   "cell_type": "code",
   "execution_count": null,
   "metadata": {},
   "outputs": [],
   "source": [
    "# default_exp core"
   ]
  },
  {
   "cell_type": "code",
   "execution_count": null,
   "metadata": {},
   "outputs": [
    {
     "name": "stdout",
     "output_type": "stream",
     "text": [
      "Mounted at /content/drive\n"
     ]
    }
   ],
   "source": [
    "#hide\n",
    "from google.colab import drive\n",
    "drive.mount(\"/content/drive\")"
   ]
  },
  {
   "cell_type": "code",
   "execution_count": null,
   "metadata": {},
   "outputs": [
    {
     "name": "stdout",
     "output_type": "stream",
     "text": [
      "Collecting fastcore\n",
      "\u001b[?25l  Downloading https://files.pythonhosted.org/packages/0c/98/60404e2817cff113a6ae4023bc1772e23179408fdf7857fa410551758dfe/fastcore-1.3.19-py3-none-any.whl (53kB)\n",
      "\r\u001b[K     |██████▏                         | 10kB 17.2MB/s eta 0:00:01\r\u001b[K     |████████████▍                   | 20kB 24.7MB/s eta 0:00:01\r\u001b[K     |██████████████████▌             | 30kB 20.9MB/s eta 0:00:01\r\u001b[K     |████████████████████████▊       | 40kB 15.8MB/s eta 0:00:01\r\u001b[K     |██████████████████████████████▉ | 51kB 16.4MB/s eta 0:00:01\r\u001b[K     |████████████████████████████████| 61kB 3.5MB/s \n",
      "\u001b[?25hRequirement already satisfied: pip in /usr/local/lib/python3.7/dist-packages (from fastcore) (19.3.1)\n",
      "Requirement already satisfied: packaging in /usr/local/lib/python3.7/dist-packages (from fastcore) (20.9)\n",
      "Requirement already satisfied: pyparsing>=2.0.2 in /usr/local/lib/python3.7/dist-packages (from packaging->fastcore) (2.4.7)\n",
      "Installing collected packages: fastcore\n",
      "Successfully installed fastcore-1.3.19\n",
      "/content/drive/MyDrive/Coding/ModelAssistedLabel\n"
     ]
    }
   ],
   "source": [
    "#hide\n",
    "!pip install fastcore\n",
    "from fastcore.all import *\n",
    "%load_ext autoreload \n",
    "%autoreload 2\n",
    "%cd \"/content/drive/MyDrive/Coding/ModelAssistedLabel\""
   ]
  },
  {
   "cell_type": "markdown",
   "metadata": {},
   "source": [
    "# AutoWeights\n",
    "> Prepare files in repository to run the `train.py` file.\n",
    "\n",
    "Assuming use of the [YOLOv5 format](https://github.com/AlexeyAB/Yolo_mark/issues/60)."
   ]
  },
  {
   "cell_type": "code",
   "execution_count": null,
   "metadata": {},
   "outputs": [],
   "source": [
    "# export\n",
    "from ModelAssistedLabel.core import Trainer, Generation, Defaults\n",
    "from datetime import datetime\n",
    "\n",
    "class AutoWeights():\n",
    "  \"\"\"\n",
    "  Given a bag of images (.jpg) and labels (.txt) in YOLOv5 format in a repository,\n",
    "  initialize the ROOT directory with a train-valid-test split and a file needed \n",
    "  by the Ultralytics repository. Pairs are identified if `image[:-4] == label[:-4]`\n",
    "\n",
    "  Then call `generate_weights` to run `train.py`. The resultant file will try to \n",
    "  be moved to the `out_dir` and if a conflict exists, a new name will be made.\n",
    "  \"\"\"\n",
    "  def __init__(self, resource_dir, name=\"DEFAULT\", out_dir=\".\", MAX_SIZE=5, custom_data_yaml=None, verbose=True, train_path = \"yolov5/runs/train\"):\n",
    "    \"\"\"\n",
    "    Args:\n",
    "      resource_dir: location of the bag of images/labels\n",
    "      out_dir: where the results of train.py are moved\n",
    "      MAX_SIZE: parameter for `Generation`\n",
    "      custom_data_yaml: see `Defaults`'s `data_yaml` for the default value\n",
    "      verbose: Print summary information\n",
    "      train_path: path to Ultralytic's default output folder\n",
    "    \"\"\"\n",
    "    self.resource_dir = resource_dir\n",
    "    self.name = name\n",
    "    self.resource_paths = [\"test/\", \"train/\", \"valid/\", \"data.yaml\"]\n",
    "    for r in self.resource_paths: #make sure none of these paths already exist\n",
    "      assert os.path.exists(r) is False, f\"{r} exists... You may be in the middle of an active project\"\n",
    "    self.out_dir = out_dir\n",
    "    self.train_path = train_path\n",
    "    #automatically build the resource paths and prepare for traniing\n",
    "    self.__prepare_split__(MAX_SIZE=MAX_SIZE, data_yaml=custom_data_yaml, verbose=verbose)\n",
    "    assert self.g is not None\n",
    "\n",
    "  def generate_weights(self, epochs, tidy_weights=True):\n",
    "    \"\"\"\n",
    "    Creates a `Trainer` object and trains for a given amount of time.\n",
    "\n",
    "    Args:\n",
    "      epochs: number of iterations (according to docs, over 3000 is not uncommon)\n",
    "      tidy_weights: if True, remove all of the resources in `self.resources`\n",
    "    \n",
    "    Returns:\n",
    "      path to the output folder of train.py\n",
    "    \"\"\"\n",
    "    t = Trainer(self.name)\n",
    "    ldir = lambda path: set(os.listdir(path))\n",
    "\n",
    "    before = ldir(self.train_path)\n",
    "    t.train(epochs)\n",
    "    after = ldir(self.train_path)\n",
    "    \n",
    "    test_eq(len(after), len(before)+1) #only should have made one new file\n",
    "    diff = list(after - before)[0]\n",
    "\n",
    "    results_path = os.path.join(self.train_path, diff)\n",
    "\n",
    "    if tidy_weights:\n",
    "      results_path = self.__tidy_weights__(results_path = results_path)\n",
    "\n",
    "    self.__cleanup__()\n",
    "    self.last_results_path = results_path\n",
    "    return results_path\n",
    "\n",
    "  def __prepare_split__(self, MAX_SIZE, data_yaml, verbose):\n",
    "    \"\"\"\n",
    "    Gets the local filesystem ready to run the wrapper for \"train.py\".\n",
    "\n",
    "    Args:\n",
    "      MAX_SIZE:\n",
    "      data_yaml:\n",
    "      verbose: print summary information for the split\n",
    "    \"\"\"  \n",
    "    if data_yaml is None:\n",
    "      data_yaml = Defaults().data_yaml\n",
    "    self.g = Generation(repo=self.resource_dir, out_dir=self.out_dir, data_yaml=data_yaml)\n",
    "    self.g.set_split(MAX_SIZE=MAX_SIZE)\n",
    "    self.__split_and_organize_folders__(verbose=verbose)\n",
    "  \n",
    "  def __split_and_organize_folders__(self, verbose):\n",
    "    \"\"\"\n",
    "    Assume zip file contains 4 items:\n",
    "      * data.yaml\n",
    "      * train/\n",
    "      * valid/\n",
    "      * test/\n",
    "\n",
    "    Extract these 4 resources to the ROOT directory and remove the original \n",
    "    part of the file.\n",
    "\n",
    "    Args:\n",
    "      verbose: print summary information about the split\n",
    "    \"\"\"\n",
    "    assert self.g is not None\n",
    "\n",
    "    def tostr(split):\n",
    "      return [{k: len(v)} for k,v in split.items()]\n",
    "    def sumg(split):\n",
    "      return sum([list(x.values())[0] for x in tostr(split)])\n",
    "    if verbose:\n",
    "      print(\"summary: \", tostr(self.g.split))\n",
    "      print(\"checksum:\", sumg(self.g.split))\n",
    "\n",
    "    zipped = self.g.process_split(self.name) #create a zip file in the ROOT directory\n",
    "    local = os.path.basename(zipped)\n",
    "    os.system(f'unzip \"{local}\"') #grab data\n",
    "    #move the contents of the zip file into postion within the ROOT directory\n",
    "    for content in self.resource_paths:\n",
    "      os.system(f\"mv '{local[:-4]}/{content}' .\")\n",
    "    #remove zip file\n",
    "    os.system(f\"rm -f -r '{local}'\")\n",
    "    #removed the folder that was taken out of the zip\n",
    "    os.system(f\"rm -f -r '{local[:-4]}'\")\n",
    "\n",
    "  def __cleanup__(self):\n",
    "    \"\"\"\n",
    "    Removes all resources in `self.resource_paths` from the filesystem.\n",
    "    \"\"\"\n",
    "    for r in self.resource_paths:\n",
    "      os.system(f\"rm -f -r {r}\")\n",
    "\n",
    "  def __tidy_weights__(self, results_path):\n",
    "    \"\"\"\n",
    "    Moves the results to a desired directly while ensuring that no data is overwritten\n",
    "\n",
    "    Args:\n",
    "      results_path: path to the folder that has desired information\n",
    "    \n",
    "    Returns:\n",
    "      Path to the newly-moved results\n",
    "    \"\"\"      \n",
    "    while True:\n",
    "      now = datetime.now()\n",
    "      out = f\"{os.path.basename(results_path)}-{now.strftime('%f')}\" #basename + \"random\" string\n",
    "      outfolder = os.path.join(self.out_dir, out)\n",
    "      if not os.path.exists(outfolder): #only stops if a unique name has been found\n",
    "        break\n",
    "    os.system(f\"mv '{results_path}' '{outfolder}'\")\n",
    "    return outfolder"
   ]
  },
  {
   "cell_type": "code",
   "execution_count": null,
   "metadata": {},
   "outputs": [
    {
     "name": "stdout",
     "output_type": "stream",
     "text": [
      "summary:  [{'train': 4}, {'valid': 1}, {'test': 0}]\n",
      "checksum: 5\n",
      "target/dest /content/drive/MyDrive/Coding/Roboflow Export (841)/images/digittake-66-jpg_jpg.rf.95253009459f7f68fc3d6c70ee0e598f.jpg | ./train/images/digittake-66-jpg_jpg.rf.95253009459f7f68fc3d6c70ee0e598f.jpg\n",
      "target/dest /content/drive/MyDrive/Coding/Roboflow Export (841)/labels/digittake-66-jpg_jpg.rf.95253009459f7f68fc3d6c70ee0e598f.txt | ./train/labels/digittake-66-jpg_jpg.rf.95253009459f7f68fc3d6c70ee0e598f.txt\n",
      "target/dest /content/drive/MyDrive/Coding/Roboflow Export (841)/images/save_dirrsave_dirr0f7d9a795212d9e140181ec73a32a493af22a100-jpg-jpg_jpg.rf.d5c3022148a7eadc95b5f1adf84948f6.jpg | ./train/images/save_dirrsave_dirr0f7d9a795212d9e140181ec73a32a493af22a100-jpg-jpg_jpg.rf.d5c3022148a7eadc95b5f1adf84948f6.jpg\n",
      "target/dest /content/drive/MyDrive/Coding/Roboflow Export (841)/labels/save_dirrsave_dirr0f7d9a795212d9e140181ec73a32a493af22a100-jpg-jpg_jpg.rf.d5c3022148a7eadc95b5f1adf84948f6.txt | ./train/labels/save_dirrsave_dirr0f7d9a795212d9e140181ec73a32a493af22a100-jpg-jpg_jpg.rf.d5c3022148a7eadc95b5f1adf84948f6.txt\n",
      "target/dest /content/drive/MyDrive/Coding/Roboflow Export (841)/images/screenytake-72-jpg-cropped-jpg_jpg.rf.8de4818cf22a80a498c5bc9df5e22c99.jpg | ./train/images/screenytake-72-jpg-cropped-jpg_jpg.rf.8de4818cf22a80a498c5bc9df5e22c99.jpg\n",
      "target/dest /content/drive/MyDrive/Coding/Roboflow Export (841)/labels/screenytake-72-jpg-cropped-jpg_jpg.rf.8de4818cf22a80a498c5bc9df5e22c99.txt | ./train/labels/screenytake-72-jpg-cropped-jpg_jpg.rf.8de4818cf22a80a498c5bc9df5e22c99.txt\n",
      "target/dest /content/drive/MyDrive/Coding/Roboflow Export (841)/images/save_dirrscreenytake-63-jpg-cropped-jpg-jpg_jpg.rf.02f8d26710cf5301c9c460317e6f7ac5.jpg | ./train/images/save_dirrscreenytake-63-jpg-cropped-jpg-jpg_jpg.rf.02f8d26710cf5301c9c460317e6f7ac5.jpg\n",
      "target/dest /content/drive/MyDrive/Coding/Roboflow Export (841)/labels/save_dirrscreenytake-63-jpg-cropped-jpg-jpg_jpg.rf.02f8d26710cf5301c9c460317e6f7ac5.txt | ./train/labels/save_dirrscreenytake-63-jpg-cropped-jpg-jpg_jpg.rf.02f8d26710cf5301c9c460317e6f7ac5.txt\n",
      "target/dest /content/drive/MyDrive/Coding/Roboflow Export (841)/images/digittake-92-jpg_jpg.rf.4ca2f46e520a2740c1ee9e4be33c4750.jpg | ./valid/images/digittake-92-jpg_jpg.rf.4ca2f46e520a2740c1ee9e4be33c4750.jpg\n",
      "target/dest /content/drive/MyDrive/Coding/Roboflow Export (841)/labels/digittake-92-jpg_jpg.rf.4ca2f46e520a2740c1ee9e4be33c4750.txt | ./valid/labels/digittake-92-jpg_jpg.rf.4ca2f46e520a2740c1ee9e4be33c4750.txt\n"
     ]
    }
   ],
   "source": [
    "repo = \"/content/drive/MyDrive/Coding/Roboflow Export (841)\"\n",
    "name = \"nospaces\"\n",
    "wm = AutoWeights(repo, name)"
   ]
  },
  {
   "cell_type": "code",
   "execution_count": null,
   "metadata": {},
   "outputs": [
    {
     "name": "stdout",
     "output_type": "stream",
     "text": [
      "CPU times: user 3.51 ms, sys: 12.9 ms, total: 16.4 ms\n",
      "Wall time: 1min 13s\n"
     ]
    },
    {
     "data": {
      "text/plain": [
       "'./nospaces7-896351'"
      ]
     },
     "execution_count": null,
     "metadata": {},
     "output_type": "execute_result"
    }
   ],
   "source": [
    "%%time \n",
    "wm.generate_weights(10)"
   ]
  },
  {
   "cell_type": "code",
   "execution_count": null,
   "metadata": {},
   "outputs": [
    {
     "name": "stdout",
     "output_type": "stream",
     "text": [
      "/content/drive/MyDrive/Coding/ModelAssistedLabel\n",
      "install nbdev: yes\n",
      "build resources: yes\n",
      "Converted 00_ultralytics.ipynb.\n",
      "Converted 01_split.ipynb.\n",
      "Converted 02_train.ipynb.\n",
      "Converted 03_make_weights.ipynb.\n",
      "Converted index.ipynb.\n",
      "converting: /content/drive/My Drive/Coding/ModelAssistedLabel/03_make_weights.ipynb\n",
      "converting /content/drive/My Drive/Coding/ModelAssistedLabel/index.ipynb to README.md\n",
      "git commit -m: AutoWeights up and running!\n",
      "\n",
      "Executing: git config --local include.path ../.gitconfig\n",
      "Success: hooks are installed and repo's .gitconfig is now trusted\n"
     ]
    }
   ],
   "source": [
    "%run \"_Synch.ipynb\""
   ]
  },
  {
   "cell_type": "code",
   "execution_count": null,
   "metadata": {},
   "outputs": [],
   "source": []
  }
 ],
 "metadata": {
  "kernelspec": {
   "display_name": "Python 3",
   "name": "python3"
  }
 },
 "nbformat": 4,
 "nbformat_minor": 0
}
