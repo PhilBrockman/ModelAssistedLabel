{
 "cells": [
  {
   "cell_type": "code",
   "execution_count": null,
   "metadata": {},
   "outputs": [],
   "source": [
    "# default_exp exmaples"
   ]
  },
  {
   "cell_type": "code",
   "execution_count": null,
   "metadata": {},
   "outputs": [
    {
     "name": "stdout",
     "output_type": "stream",
     "text": [
      "Drive already mounted at /content/drive; to attempt to forcibly remount, call drive.mount(\"/content/drive\", force_remount=True).\n"
     ]
    }
   ],
   "source": [
    "#hide\n",
    "from google.colab import drive\n",
    "drive.mount(\"/content/drive\")"
   ]
  },
  {
   "cell_type": "code",
   "execution_count": null,
   "metadata": {},
   "outputs": [
    {
     "name": "stdout",
     "output_type": "stream",
     "text": [
      "Collecting fastcore\n",
      "\u001b[?25l  Downloading https://files.pythonhosted.org/packages/0c/98/60404e2817cff113a6ae4023bc1772e23179408fdf7857fa410551758dfe/fastcore-1.3.19-py3-none-any.whl (53kB)\n",
      "\r\u001b[K     |██████▏                         | 10kB 22.1MB/s eta 0:00:01\r\u001b[K     |████████████▍                   | 20kB 10.2MB/s eta 0:00:01\r\u001b[K     |██████████████████▌             | 30kB 8.0MB/s eta 0:00:01\r\u001b[K     |████████████████████████▊       | 40kB 7.2MB/s eta 0:00:01\r\u001b[K     |██████████████████████████████▉ | 51kB 4.2MB/s eta 0:00:01\r\u001b[K     |████████████████████████████████| 61kB 3.4MB/s \n",
      "\u001b[?25hRequirement already satisfied: packaging in /usr/local/lib/python3.7/dist-packages (from fastcore) (20.9)\n",
      "Requirement already satisfied: pip in /usr/local/lib/python3.7/dist-packages (from fastcore) (19.3.1)\n",
      "Requirement already satisfied: pyparsing>=2.0.2 in /usr/local/lib/python3.7/dist-packages (from packaging->fastcore) (2.4.7)\n",
      "Installing collected packages: fastcore\n",
      "Successfully installed fastcore-1.3.19\n",
      "/content/drive/MyDrive/Coding/ModelAssistedLabel\n"
     ]
    }
   ],
   "source": [
    "#hide\n",
    "!pip install fastcore\n",
    "from fastcore.all import *\n",
    "%load_ext autoreload \n",
    "%autoreload 2\n",
    "%cd \"/content/drive/MyDrive/Coding/ModelAssistedLabel\""
   ]
  },
  {
   "cell_type": "code",
   "execution_count": null,
   "metadata": {},
   "outputs": [],
   "source": [
    "#hide\n",
    "%run '_Synch.ipynb'"
   ]
  },
  {
   "cell_type": "markdown",
   "metadata": {},
   "source": [
    "# YOLOv5 Model Assisted Labeling\n",
    "\n",
    "> Work based on https://models.roboflow.com/object-detection/yolov5.\n",
    "\n",
    "Labeling a new dataset from scratch is tiresome. To label images faster, I train a YOLOv5 model and apply its predictions to new images."
   ]
  },
  {
   "cell_type": "markdown",
   "metadata": {},
   "source": [
    "## How to use"
   ]
  },
  {
   "cell_type": "markdown",
   "metadata": {},
   "source": [
    "### Vanilla image sets"
   ]
  },
  {
   "cell_type": "code",
   "execution_count": null,
   "metadata": {},
   "outputs": [],
   "source": [
    "from ModelAssistedLabel.core import Generation, Defaults"
   ]
  },
  {
   "cell_type": "markdown",
   "metadata": {},
   "source": [
    "Recursively search a folder (`repo`) that contains images and labels."
   ]
  },
  {
   "cell_type": "code",
   "execution_count": null,
   "metadata": {},
   "outputs": [],
   "source": [
    "# export\n",
    "def prepare_split(resource_dir, out_dir = \".\", data_yaml=None, MAX_SIZE=5, verbose=True):\n",
    "  if data_yaml is None:\n",
    "    data_yaml = Defaults().data_yaml\n",
    "\n",
    "  g = Generation(repo=resource_dir, out_dir=out_dir, data_yaml=data_yaml)\n",
    "  g.set_split(MAX_SIZE=MAX_SIZE)\n",
    "\n",
    "  def tostr(split):\n",
    "    return [{k: len(v)} for k,v in split.items()]\n",
    "    \n",
    "  def sumg(split):\n",
    "    return sum([list(x.values())[0] for x in tostr(split)])\n",
    "\n",
    "  if verbose:\n",
    "    print(\"summary: \", tostr(g.split))\n",
    "    print(\"checksum:\", sumg(g.split))\n",
    "\n",
    "  return g"
   ]
  },
  {
   "cell_type": "code",
   "execution_count": null,
   "metadata": {},
   "outputs": [],
   "source": [
    "# export\n",
    "def organize(gen, name):\n",
    "  zipped = g.process_split(name) #create a zip file in the ROOT directory\n",
    "  local = os.path.basename(zipped)\n",
    "  os.system(f'unzip \"{local}\"') #grab data\n",
    "  #move the contents of the zip file into postion within the ROOT directory\n",
    "  for splt in [\"test/\", \"train/\", \"valid/\", \"data.yaml\"]:\n",
    "    os.system(f\"mv '{local[:-4]}/{splt}' .\")\n",
    "    \n",
    "  #remove zip file\n",
    "  os.system(f\"rm -f -r '{local}'\")\n",
    "  #removed the folder that was taken out of the zip\n",
    "  os.system(f\"rm -f -r '{local[:-4]}'\")\n"
   ]
  },
  {
   "cell_type": "code",
   "execution_count": null,
   "metadata": {},
   "outputs": [],
   "source": [
    "# export \n",
    "from ModelAssistedLabel.core import Trainer\n",
    "\n",
    "def generate_weights(repo, name):\n",
    "  g = prepare_split(repo)\n",
    "  organize(gen=g, name=name)\n",
    "  t = Trainer(name)\n",
    "  train_path = \"yolov5/runs/train\"\n",
    "  ldir = lambda path: set(os.listdir(path))\n",
    "\n",
    "  before = ldir(train_path)\n",
    "  t.train(1)\n",
    "  after = ldir(train_path)\n",
    "\n",
    "  current = list(after - before)[0]\n",
    "  return os.path.join(train_path, current)"
   ]
  },
  {
   "cell_type": "code",
   "execution_count": null,
   "metadata": {},
   "outputs": [],
   "source": [
    "# export\n",
    "from datetime import datetime\n",
    "\n",
    "def tidy_weights(repo, name, out_dir=None):\n",
    "  if out_dir is None:\n",
    "    out_dir = repo\n",
    "  results_path = generate_weights(repo, name)\n",
    "\n",
    "  while True:\n",
    "    now = datetime.now()\n",
    "    out = \"{os.path.basename(results_path)}-{now.strftime('%f')}\"\n",
    "    outfolder = os.path.join(out_dir, moved_filename)\n",
    "    if not os.path.exists(outfolder):\n",
    "      break\n",
    "  os.system(f\"mv '{results_path}' '{outfolder}'\")\n",
    "  return outfolder"
   ]
  },
  {
   "cell_type": "code",
   "execution_count": null,
   "metadata": {},
   "outputs": [
    {
     "name": "stdout",
     "output_type": "stream",
     "text": [
      "summary:  [{'train': 4}, {'valid': 1}, {'test': 0}]\n",
      "checksum: 5\n",
      "target/dest /content/drive/MyDrive/Coding/Roboflow Export (841)/images/screenytake-35-jpg-cropped-jpg_jpg.rf.8a59d5d74ecd425f9bfdffba63277cc6.jpg | ./train/images/screenytake-35-jpg-cropped-jpg_jpg.rf.8a59d5d74ecd425f9bfdffba63277cc6.jpg\n",
      "target/dest /content/drive/MyDrive/Coding/Roboflow Export (841)/labels/screenytake-35-jpg-cropped-jpg_jpg.rf.8a59d5d74ecd425f9bfdffba63277cc6.txt | ./train/labels/screenytake-35-jpg-cropped-jpg_jpg.rf.8a59d5d74ecd425f9bfdffba63277cc6.txt\n",
      "target/dest /content/drive/MyDrive/Coding/Roboflow Export (841)/images/save_dirrsave_dirrdd31a247c313689d77bbf8fbf2bd7dbac8d44333-jpg-jpg_jpg.rf.ce0b7e55771cab3ea9a210b96e80541f.jpg | ./train/images/save_dirrsave_dirrdd31a247c313689d77bbf8fbf2bd7dbac8d44333-jpg-jpg_jpg.rf.ce0b7e55771cab3ea9a210b96e80541f.jpg\n",
      "target/dest /content/drive/MyDrive/Coding/Roboflow Export (841)/labels/save_dirrsave_dirrdd31a247c313689d77bbf8fbf2bd7dbac8d44333-jpg-jpg_jpg.rf.ce0b7e55771cab3ea9a210b96e80541f.txt | ./train/labels/save_dirrsave_dirrdd31a247c313689d77bbf8fbf2bd7dbac8d44333-jpg-jpg_jpg.rf.ce0b7e55771cab3ea9a210b96e80541f.txt\n",
      "target/dest /content/drive/MyDrive/Coding/Roboflow Export (841)/images/digittake-331-jpg_jpg.rf.2af6a0e0777fc783e979a67725786495.jpg | ./train/images/digittake-331-jpg_jpg.rf.2af6a0e0777fc783e979a67725786495.jpg\n",
      "target/dest /content/drive/MyDrive/Coding/Roboflow Export (841)/labels/digittake-331-jpg_jpg.rf.2af6a0e0777fc783e979a67725786495.txt | ./train/labels/digittake-331-jpg_jpg.rf.2af6a0e0777fc783e979a67725786495.txt\n",
      "target/dest /content/drive/MyDrive/Coding/Roboflow Export (841)/images/digittake-129-jpg_jpg.rf.e132a452a923004e18041ec4c8853cce.jpg | ./train/images/digittake-129-jpg_jpg.rf.e132a452a923004e18041ec4c8853cce.jpg\n",
      "target/dest /content/drive/MyDrive/Coding/Roboflow Export (841)/labels/digittake-129-jpg_jpg.rf.e132a452a923004e18041ec4c8853cce.txt | ./train/labels/digittake-129-jpg_jpg.rf.e132a452a923004e18041ec4c8853cce.txt\n",
      "target/dest /content/drive/MyDrive/Coding/Roboflow Export (841)/images/digittake-310-jpg_jpg.rf.53b409c14fb445453c4d25c45ed93b8e.jpg | ./valid/images/digittake-310-jpg_jpg.rf.53b409c14fb445453c4d25c45ed93b8e.jpg\n",
      "target/dest /content/drive/MyDrive/Coding/Roboflow Export (841)/labels/digittake-310-jpg_jpg.rf.53b409c14fb445453c4d25c45ed93b8e.txt | ./valid/labels/digittake-310-jpg_jpg.rf.53b409c14fb445453c4d25c45ed93b8e.txt\n"
     ]
    },
    {
     "data": {
      "text/plain": [
       "'/content/drive/MyDrive/Coding/Roboflow Export (841)/nospaces'"
      ]
     },
     "execution_count": null,
     "metadata": {},
     "output_type": "execute_result"
    }
   ],
   "source": [
    "repo = \"/content/drive/MyDrive/Coding/Roboflow Export (841)\"\n",
    "name = \"nospaces\"\n",
    "tidy_weights(repo, name)"
   ]
  },
  {
   "cell_type": "markdown",
   "metadata": {},
   "source": []
  },
  {
   "cell_type": "code",
   "execution_count": null,
   "metadata": {},
   "outputs": [
    {
     "name": "stdout",
     "output_type": "stream",
     "text": [
      "/content/drive/MyDrive/Coding/ModelAssistedLabel\n",
      "install nbdev: \n",
      "build resources: you\n",
      "Converted 00_ultralytics.ipynb.\n",
      "Converted 01_split.ipynb.\n",
      "Converted 02_train.ipynb.\n",
      "Converted index.ipynb.\n",
      "converting: /content/drive/My Drive/Coding/ModelAssistedLabel/index.ipynb\n",
      "converting /content/drive/My Drive/Coding/ModelAssistedLabel/index.ipynb to README.md\n",
      "git commit -m: successfully wrapped train.py\n",
      "Executing: git config --local include.path ../.gitconfig\n",
      "Success: hooks are installed and repo's .gitconfig is now trusted\n"
     ]
    }
   ],
   "source": [
    "%run \"_Synch.ipynb\""
   ]
  },
  {
   "cell_type": "code",
   "execution_count": null,
   "metadata": {},
   "outputs": [
    {
     "name": "stdout",
     "output_type": "stream",
     "text": [
      "00_ultralytics.ipynb  docker-compose.yml  MANIFEST.in          _Synch.ipynb\n",
      "01_split.ipynb        \u001b[0m\u001b[01;34mdocs\u001b[0m/               \u001b[01;34mModelAssistedLabel\u001b[0m/  \u001b[01;34mtest\u001b[0m/\n",
      "02_train.ipynb        index.ipynb         README.md            \u001b[01;34mtrain\u001b[0m/\n",
      "CONTRIBUTING.md       LICENSE             settings.ini         \u001b[01;34mvalid\u001b[0m/\n",
      "data.yaml             Makefile            setup.py             \u001b[01;34myolov5\u001b[0m/\n"
     ]
    }
   ],
   "source": [
    "ls"
   ]
  },
  {
   "cell_type": "code",
   "execution_count": null,
   "metadata": {},
   "outputs": [],
   "source": []
  }
 ],
 "metadata": {
  "kernelspec": {
   "display_name": "Python 3",
   "language": "python",
   "name": "python3"
  }
 },
 "nbformat": 4,
 "nbformat_minor": 0
}
