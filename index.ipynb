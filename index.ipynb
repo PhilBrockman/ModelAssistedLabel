{
 "cells": [
  {
   "cell_type": "markdown",
   "metadata": {},
   "source": [
    "# YOLOv5 Model Assisted Labeling\n",
    "\n",
    "> Work based on https://models.roboflow.com/object-detection/yolov5.\n",
    "\n",
    "Labeling a new dataset from scratch is tiresome. To label images faster, I train a YOLOv5 model and apply its predictions to new images."
   ]
  },
  {
   "cell_type": "markdown",
   "metadata": {},
   "source": [
    "## How to use"
   ]
  },
  {
   "cell_type": "markdown",
   "metadata": {},
   "source": [
    "### Vanilla image sets"
   ]
  },
  {
   "cell_type": "code",
   "execution_count": null,
   "metadata": {},
   "outputs": [
    {
     "name": "stdout",
     "output_type": "stream",
     "text": [
      "Go to this URL in a browser: https://accounts.google.com/o/oauth2/auth?client_id=947318989803-6bn6qk8qdgf4n4g3pfee6491hc0brc4i.apps.googleusercontent.com&redirect_uri=urn%3aietf%3awg%3aoauth%3a2.0%3aoob&scope=email%20https%3a%2f%2fwww.googleapis.com%2fauth%2fdocs.test%20https%3a%2f%2fwww.googleapis.com%2fauth%2fdrive%20https%3a%2f%2fwww.googleapis.com%2fauth%2fdrive.photos.readonly%20https%3a%2f%2fwww.googleapis.com%2fauth%2fpeopleapi.readonly%20https%3a%2f%2fwww.googleapis.com%2fauth%2fdrive.activity.readonly%20https%3a%2f%2fwww.googleapis.com%2fauth%2fphotos.native&response_type=code\n",
      "\n",
      "Enter your authorization code:\n",
      "4/1AY0e-g6ZdbI07paFW9aen6yylIf5tVe_uc4oHki9Q2mYASsITrHAeoakSk8\n"
     ]
    }
   ],
   "source": [
    "%%capture\n",
    "#hide\n",
    "from google.colab import drive\n",
    "drive.mount(\"/content/drive\")"
   ]
  },
  {
   "cell_type": "code",
   "execution_count": null,
   "metadata": {},
   "outputs": [
    {
     "name": "stdout",
     "output_type": "stream",
     "text": [
      "The autoreload extension is already loaded. To reload it, use:\n",
      "  %reload_ext autoreload\n"
     ]
    }
   ],
   "source": [
    "%load_ext autoreload \n",
    "%autoreload 2"
   ]
  },
  {
   "cell_type": "code",
   "execution_count": null,
   "metadata": {},
   "outputs": [
    {
     "name": "stdout",
     "output_type": "stream",
     "text": [
      "/content/drive/MyDrive/Coding/ModelAssistedLabel\n",
      "wrapping train.py\n",
      "Converted 00_ultralytics.ipynb.\n",
      "Converted 01_split.ipynb.\n",
      "Converted 02_train.ipynb.\n",
      "Converted index.ipynb.\n",
      "converting: /content/drive/MyDrive/Coding/ModelAssistedLabel/01_split.ipynb\n",
      "converting: /content/drive/MyDrive/Coding/ModelAssistedLabel/02_train.ipynb\n",
      "converting: /content/drive/MyDrive/Coding/ModelAssistedLabel/00_ultralytics.ipynb\n",
      "converting: /content/drive/MyDrive/Coding/ModelAssistedLabel/index.ipynb\n",
      "converting /content/drive/MyDrive/Coding/ModelAssistedLabel/index.ipynb to README.md\n",
      "Executing: git config --local include.path ../.gitconfig\n",
      "Success: hooks are installed and repo's .gitconfig is now trusted\n"
     ]
    }
   ],
   "source": [
    "#hide\n",
    "%cd \"/content/drive/MyDrive/Coding/ModelAssistedLabel\"\n",
    "%run '_Synch.ipynb'"
   ]
  },
  {
   "cell_type": "markdown",
   "metadata": {},
   "source": [
    "Recursively search a folder (`repo`) that contains images and labels."
   ]
  },
  {
   "cell_type": "code",
   "execution_count": null,
   "metadata": {},
   "outputs": [
    {
     "name": "stdout",
     "output_type": "stream",
     "text": [
      "summary:  [{'train': 7}, {'valid': 2}, {'test': 1}]\n",
      "checksum: 10\n",
      "summary:  [{'train': 589}, {'valid': 169}, {'test': 83}]\n",
      "checksum: 841\n",
      "summary:  [{'train': 4}, {'valid': 1}, {'test': 0}]\n",
      "checksum: 5\n"
     ]
    }
   ],
   "source": [
    "from ModelAssistedLabel.core import Generation, Defaults\n",
    "g = Generation(repo = \"/content/drive/MyDrive/Coding/Roboflow Export (841)\", \n",
    "              out_dir = \".\",\n",
    "              data_yaml=Defaults().data_yaml)\n",
    "\n",
    "def tostr(split):\n",
    "  return [{k: len(v)} for k,v in split.items()]\n",
    "\n",
    "def sumg(split):\n",
    "  return sum([list(x.values())[0] for x in tostr(split)])\n",
    "\n",
    "for MAX_SIZE in [10, None, 5]:\n",
    "  g.set_split(MAX_SIZE=MAX_SIZE)\n",
    "  print(\"summary: \", tostr(g.split))\n",
    "  print(\"checksum:\", sumg(g.split))"
   ]
  },
  {
   "cell_type": "markdown",
   "metadata": {},
   "source": [
    "Writing these files to disk for when we need them later."
   ]
  },
  {
   "cell_type": "code",
   "execution_count": null,
   "metadata": {},
   "outputs": [
    {
     "name": "stdout",
     "output_type": "stream",
     "text": [
      "target/dest /content/drive/MyDrive/Coding/Roboflow Export (841)/images/digittake-298-jpg_jpg.rf.aa1765ea20334421e034081325f11506.jpg | ./train/images/digittake-298-jpg_jpg.rf.aa1765ea20334421e034081325f11506.jpg\n",
      "target/dest /content/drive/MyDrive/Coding/Roboflow Export (841)/labels/digittake-298-jpg_jpg.rf.aa1765ea20334421e034081325f11506.txt | ./train/labels/digittake-298-jpg_jpg.rf.aa1765ea20334421e034081325f11506.txt\n",
      "target/dest /content/drive/MyDrive/Coding/Roboflow Export (841)/images/digittake-113-jpg_jpg.rf.23d093be40cc2c1ad6b2289c9b93cb5c.jpg | ./train/images/digittake-113-jpg_jpg.rf.23d093be40cc2c1ad6b2289c9b93cb5c.jpg\n",
      "target/dest /content/drive/MyDrive/Coding/Roboflow Export (841)/labels/digittake-113-jpg_jpg.rf.23d093be40cc2c1ad6b2289c9b93cb5c.txt | ./train/labels/digittake-113-jpg_jpg.rf.23d093be40cc2c1ad6b2289c9b93cb5c.txt\n",
      "target/dest /content/drive/MyDrive/Coding/Roboflow Export (841)/images/digittake-19-jpg_jpg.rf.337c031612641985884e1ad0ec592d2b.jpg | ./train/images/digittake-19-jpg_jpg.rf.337c031612641985884e1ad0ec592d2b.jpg\n",
      "target/dest /content/drive/MyDrive/Coding/Roboflow Export (841)/labels/digittake-19-jpg_jpg.rf.337c031612641985884e1ad0ec592d2b.txt | ./train/labels/digittake-19-jpg_jpg.rf.337c031612641985884e1ad0ec592d2b.txt\n",
      "target/dest /content/drive/MyDrive/Coding/Roboflow Export (841)/images/digittake-228-jpg_jpg.rf.8e675a68295352b621f954a1c77848f4.jpg | ./train/images/digittake-228-jpg_jpg.rf.8e675a68295352b621f954a1c77848f4.jpg\n",
      "target/dest /content/drive/MyDrive/Coding/Roboflow Export (841)/labels/digittake-228-jpg_jpg.rf.8e675a68295352b621f954a1c77848f4.txt | ./train/labels/digittake-228-jpg_jpg.rf.8e675a68295352b621f954a1c77848f4.txt\n",
      "target/dest /content/drive/MyDrive/Coding/Roboflow Export (841)/images/digittake-43-jpg_jpg.rf.94d76abffc3c7d18fd104739fa44b2a3.jpg | ./valid/images/digittake-43-jpg_jpg.rf.94d76abffc3c7d18fd104739fa44b2a3.jpg\n",
      "target/dest /content/drive/MyDrive/Coding/Roboflow Export (841)/labels/digittake-43-jpg_jpg.rf.94d76abffc3c7d18fd104739fa44b2a3.txt | ./valid/labels/digittake-43-jpg_jpg.rf.94d76abffc3c7d18fd104739fa44b2a3.txt\n"
     ]
    }
   ],
   "source": [
    "zipped = g.process_split(\" vanilla\")"
   ]
  },
  {
   "cell_type": "code",
   "execution_count": null,
   "metadata": {},
   "outputs": [
    {
     "name": "stdout",
     "output_type": "stream",
     "text": [
      "Archive:  Roboflow Export (841) vanilla 21-03-15 21-36-20.zip\n",
      "   creating: Roboflow Export (841) vanilla 21-03-15 21-36-20/\n",
      "   creating: Roboflow Export (841) vanilla 21-03-15 21-36-20/train/\n",
      "   creating: Roboflow Export (841) vanilla 21-03-15 21-36-20/train/images/\n",
      "  inflating: Roboflow Export (841) vanilla 21-03-15 21-36-20/train/images/digittake-298-jpg_jpg.rf.aa1765ea20334421e034081325f11506.jpg  \n",
      "  inflating: Roboflow Export (841) vanilla 21-03-15 21-36-20/train/images/digittake-113-jpg_jpg.rf.23d093be40cc2c1ad6b2289c9b93cb5c.jpg  \n",
      "  inflating: Roboflow Export (841) vanilla 21-03-15 21-36-20/train/images/digittake-19-jpg_jpg.rf.337c031612641985884e1ad0ec592d2b.jpg  \n",
      "  inflating: Roboflow Export (841) vanilla 21-03-15 21-36-20/train/images/digittake-228-jpg_jpg.rf.8e675a68295352b621f954a1c77848f4.jpg  \n",
      "   creating: Roboflow Export (841) vanilla 21-03-15 21-36-20/train/labels/\n",
      "  inflating: Roboflow Export (841) vanilla 21-03-15 21-36-20/train/labels/digittake-298-jpg_jpg.rf.aa1765ea20334421e034081325f11506.txt  \n",
      "  inflating: Roboflow Export (841) vanilla 21-03-15 21-36-20/train/labels/digittake-113-jpg_jpg.rf.23d093be40cc2c1ad6b2289c9b93cb5c.txt  \n",
      "  inflating: Roboflow Export (841) vanilla 21-03-15 21-36-20/train/labels/digittake-19-jpg_jpg.rf.337c031612641985884e1ad0ec592d2b.txt  \n",
      "  inflating: Roboflow Export (841) vanilla 21-03-15 21-36-20/train/labels/digittake-228-jpg_jpg.rf.8e675a68295352b621f954a1c77848f4.txt  \n",
      "   creating: Roboflow Export (841) vanilla 21-03-15 21-36-20/valid/\n",
      "   creating: Roboflow Export (841) vanilla 21-03-15 21-36-20/valid/images/\n",
      "  inflating: Roboflow Export (841) vanilla 21-03-15 21-36-20/valid/images/digittake-43-jpg_jpg.rf.94d76abffc3c7d18fd104739fa44b2a3.jpg  \n",
      "   creating: Roboflow Export (841) vanilla 21-03-15 21-36-20/valid/labels/\n",
      "  inflating: Roboflow Export (841) vanilla 21-03-15 21-36-20/valid/labels/digittake-43-jpg_jpg.rf.94d76abffc3c7d18fd104739fa44b2a3.txt  \n",
      "   creating: Roboflow Export (841) vanilla 21-03-15 21-36-20/test/\n",
      "  inflating: Roboflow Export (841) vanilla 21-03-15 21-36-20/data.yaml  \n"
     ]
    }
   ],
   "source": [
    "import os\n",
    "\n",
    "local = os.path.basename(zipped)\n",
    "!unzip \"{local}\" #grab data\n",
    "!rm -f -r '{local}' #remove zip file"
   ]
  },
  {
   "cell_type": "code",
   "execution_count": null,
   "metadata": {},
   "outputs": [],
   "source": [
    "for splt in [\"test/\", \"train/\", \"valid/\", \"data.yaml\"]:\n",
    "  os.system(f\"mv '{local[:-4]}/{splt}' .\")\n",
    "os.system(f\"rm -f -r '{local[:-4]}'\")"
   ]
  },
  {
   "cell_type": "code",
   "execution_count": null,
   "metadata": {},
   "outputs": [
    {
     "name": "stdout",
     "output_type": "stream",
     "text": [
      "Converted 00_ultralytics.ipynb.\n",
      "Converted 01_split.ipynb.\n",
      "Converted 02_train.ipynb.\n",
      "Converted index.ipynb.\n"
     ]
    }
   ],
   "source": [
    "!nbdev_build_lib"
   ]
  },
  {
   "cell_type": "code",
   "execution_count": null,
   "metadata": {},
   "outputs": [],
   "source": [
    "from ModelAssistedLabel.core import Trainer"
   ]
  },
  {
   "cell_type": "code",
   "execution_count": null,
   "metadata": {},
   "outputs": [],
   "source": [
    "t= Trainer(name=\"testfromindex\")"
   ]
  },
  {
   "cell_type": "code",
   "execution_count": null,
   "metadata": {},
   "outputs": [
    {
     "name": "stdout",
     "output_type": "stream",
     "text": [
      "CPU times: user 1.69 ms, sys: 3.35 ms, total: 5.05 ms\n",
      "Wall time: 10.5 s\n"
     ]
    }
   ],
   "source": [
    "%%time\n",
    "t.train(2)"
   ]
  },
  {
   "cell_type": "code",
   "execution_count": null,
   "metadata": {},
   "outputs": [
    {
     "name": "stdout",
     "output_type": "stream",
     "text": [
      "\u001b[0m\u001b[01;34mbingo\u001b[0m/  \u001b[01;34mcustom\u001b[0m/  \u001b[01;34mcustom2\u001b[0m/  \u001b[01;34mcustom3\u001b[0m/\n"
     ]
    }
   ],
   "source": [
    "ls yolov5/runs/train"
   ]
  },
  {
   "cell_type": "code",
   "execution_count": null,
   "metadata": {},
   "outputs": [],
   "source": []
  }
 ],
 "metadata": {
  "kernelspec": {
   "display_name": "Python 3",
   "language": "python",
   "name": "python3"
  }
 },
 "nbformat": 4,
 "nbformat_minor": 0
}
