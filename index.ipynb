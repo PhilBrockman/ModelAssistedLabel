{
 "cells": [
  {
   "cell_type": "markdown",
   "metadata": {},
   "source": [
    "# YOLOv5 Model Assisted Labeling\n",
    "\n",
    "> Work based on https://models.roboflow.com/object-detection/yolov5.\n",
    "\n",
    "Labeling a new dataset from scratch is tiresome. To label images faster, I train a YOLOv5 model and apply its predictions to new images."
   ]
  },
  {
   "cell_type": "markdown",
   "metadata": {},
   "source": [
    "## How to use"
   ]
  },
  {
   "cell_type": "markdown",
   "metadata": {},
   "source": [
    "### Vanilla image sets"
   ]
  },
  {
   "cell_type": "code",
   "execution_count": null,
   "metadata": {},
   "outputs": [
    {
     "name": "stdout",
     "output_type": "stream",
     "text": [
      "Go to this URL in a browser: https://accounts.google.com/o/oauth2/auth?client_id=947318989803-6bn6qk8qdgf4n4g3pfee6491hc0brc4i.apps.googleusercontent.com&redirect_uri=urn%3aietf%3awg%3aoauth%3a2.0%3aoob&scope=email%20https%3a%2f%2fwww.googleapis.com%2fauth%2fdocs.test%20https%3a%2f%2fwww.googleapis.com%2fauth%2fdrive%20https%3a%2f%2fwww.googleapis.com%2fauth%2fdrive.photos.readonly%20https%3a%2f%2fwww.googleapis.com%2fauth%2fpeopleapi.readonly%20https%3a%2f%2fwww.googleapis.com%2fauth%2fdrive.activity.readonly%20https%3a%2f%2fwww.googleapis.com%2fauth%2fphotos.native&response_type=code\n",
      "\n",
      "Enter your authorization code:\n",
      "4/1AY0e-g7tGbDc1dmqMisGRCMTBZ-afkJknMexgtpAYx9iFpZaoD3J3G2AScw\n"
     ]
    }
   ],
   "source": [
    "%%capture\n",
    "#hide\n",
    "from google.colab import drive\n",
    "drive.mount(\"/content/drive\")"
   ]
  },
  {
   "cell_type": "code",
   "execution_count": null,
   "metadata": {},
   "outputs": [
    {
     "name": "stdout",
     "output_type": "stream",
     "text": [
      "The autoreload extension is already loaded. To reload it, use:\n",
      "  %reload_ext autoreload\n"
     ]
    }
   ],
   "source": [
    "%load_ext autoreload \n",
    "%autoreload 2"
   ]
  },
  {
   "cell_type": "code",
   "execution_count": null,
   "metadata": {},
   "outputs": [
    {
     "name": "stdout",
     "output_type": "stream",
     "text": [
      "/content/drive/MyDrive/Coding/ModelAssistedLabel\n"
     ]
    }
   ],
   "source": [
    "#hide\n",
    "%cd \"/content/drive/MyDrive/Coding/ModelAssistedLabel\"\n",
    "%run '_Synch.ipynb'"
   ]
  },
  {
   "cell_type": "markdown",
   "metadata": {},
   "source": [
    "Recursively search a folder (`repo`) that contains images and labels."
   ]
  },
  {
   "cell_type": "code",
   "execution_count": null,
   "metadata": {},
   "outputs": [
    {
     "name": "stdout",
     "output_type": "stream",
     "text": [
      "summary:  [{'train': 7}, {'valid': 2}, {'test': 1}]\n",
      "checksum: 10\n",
      "summary:  [{'train': 589}, {'valid': 169}, {'test': 83}]\n",
      "checksum: 841\n"
     ]
    }
   ],
   "source": [
    "from ModelAssistedLabel.core import Generation, Defaults\n",
    "g = Generation(repo = \"/content/drive/MyDrive/Coding/Roboflow Export (841)\", \n",
    "              out_dir = \".\",\n",
    "              data_yaml=Defaults().data_yaml)\n",
    "\n",
    "def tostr(split):\n",
    "  return [{k: len(v)} for k,v in split.items()]\n",
    "\n",
    "def sumg(split):\n",
    "  return sum([list(x.values())[0] for x in tostr(split)])\n",
    "\n",
    "for MAX_SIZE in [10, None]:\n",
    "  g.set_split(MAX_SIZE=MAX_SIZE)\n",
    "  print(\"summary: \", tostr(g.split))\n",
    "  print(\"checksum:\", sumg(g.split))"
   ]
  },
  {
   "cell_type": "markdown",
   "metadata": {},
   "source": [
    "Writing these files to disk for when we need them later."
   ]
  },
  {
   "cell_type": "code",
   "execution_count": null,
   "metadata": {},
   "outputs": [],
   "source": [
    "zipped = g.process_split(\" vanilla\")"
   ]
  },
  {
   "cell_type": "code",
   "execution_count": null,
   "metadata": {},
   "outputs": [],
   "source": [
    "import os\n",
    "\n",
    "local = os.path.basename(zipped)\n",
    "!unzip \"{local}\" #grab data\n",
    "!rm -f -r '{local}' #remove zip file\n",
    "mv '{local[:-4]}/data.yaml' ."
   ]
  },
  {
   "cell_type": "code",
   "execution_count": null,
   "metadata": {},
   "outputs": [
    {
     "name": "stdout",
     "output_type": "stream",
     "text": [
      " 00_ultralytics.ipynb   Makefile\n",
      " 01_split.ipynb         MANIFEST.in\n",
      " 02_augment.ipynb       \u001b[0m\u001b[01;34mModelAssistedLabel\u001b[0m/\n",
      " CONTRIBUTING.md        README.md\n",
      " data.yaml             \u001b[01;34m'Roboflow Export (841) vanilla 21-03-15 20-18-11'\u001b[0m/\n",
      " docker-compose.yml     settings.ini\n",
      " \u001b[01;34mdocs\u001b[0m/                  setup.py\n",
      " index.ipynb            _Synch.ipynb\n",
      " LICENSE                \u001b[01;34myolov5\u001b[0m/\n"
     ]
    }
   ],
   "source": [
    "ls"
   ]
  },
  {
   "cell_type": "code",
   "execution_count": null,
   "metadata": {},
   "outputs": [
    {
     "ename": "ImportError",
     "evalue": "ignored",
     "output_type": "error",
     "traceback": [
      "\u001b[0;31m---------------------------------------------------------------------------\u001b[0m",
      "\u001b[0;31mImportError\u001b[0m                               Traceback (most recent call last)",
      "\u001b[0;32m<ipython-input-69-90ceaab1bc7f>\u001b[0m in \u001b[0;36m<module>\u001b[0;34m()\u001b[0m\n\u001b[0;32m----> 1\u001b[0;31m \u001b[0;32mfrom\u001b[0m \u001b[0mModelAssistedLabel\u001b[0m\u001b[0;34m.\u001b[0m\u001b[0mcore\u001b[0m \u001b[0;32mimport\u001b[0m \u001b[0mTrainer\u001b[0m\u001b[0;34m\u001b[0m\u001b[0;34m\u001b[0m\u001b[0m\n\u001b[0m",
      "\u001b[0;31mImportError\u001b[0m: cannot import name 'Trainer' from 'ModelAssistedLabel.core' (/content/drive/My Drive/Coding/ModelAssistedLabel/ModelAssistedLabel/core.py)",
      "",
      "\u001b[0;31m---------------------------------------------------------------------------\u001b[0;32m\nNOTE: If your import is failing due to a missing package, you can\nmanually install dependencies using either !pip or !apt.\n\nTo view examples of installing some common dependencies, click the\n\"Open Examples\" button below.\n\u001b[0;31m---------------------------------------------------------------------------\u001b[0m\n"
     ]
    }
   ],
   "source": [
    "from ModelAssistedLabel.core import Trainer"
   ]
  },
  {
   "cell_type": "code",
   "execution_count": null,
   "metadata": {},
   "outputs": [],
   "source": []
  }
 ],
 "metadata": {
  "kernelspec": {
   "display_name": "Python 3",
   "language": "python",
   "name": "python3"
  }
 },
 "nbformat": 4,
 "nbformat_minor": 0
}
