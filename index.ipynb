{
 "cells": [
  {
   "cell_type": "code",
   "execution_count": null,
   "metadata": {},
   "outputs": [],
   "source": []
  },
  {
   "cell_type": "markdown",
   "metadata": {},
   "source": [
    "# YOLOv5 Model Assisted Labeling\n",
    "\n",
    "> Work based on https://models.roboflow.com/object-detection/yolov5.\n",
    "\n",
    "Labeling a new dataset from scratch is tiresome. To label images faster, I train a YOLOv5 model and apply its predictions to new images."
   ]
  },
  {
   "cell_type": "markdown",
   "metadata": {},
   "source": [
    "## How to use"
   ]
  },
  {
   "cell_type": "markdown",
   "metadata": {},
   "source": [
    "### Vanilla image sets"
   ]
  },
  {
   "cell_type": "code",
   "execution_count": null,
   "metadata": {},
   "outputs": [],
   "source": [
    "%%capture\n",
    "#hide\n",
    "from google.colab import drive\n",
    "drive.mount(\"/content/drive\")"
   ]
  },
  {
   "cell_type": "code",
   "execution_count": null,
   "metadata": {},
   "outputs": [
    {
     "name": "stdout",
     "output_type": "stream",
     "text": [
      "The autoreload extension is already loaded. To reload it, use:\n",
      "  %reload_ext autoreload\n"
     ]
    }
   ],
   "source": [
    "#hide\n",
    "from fastcore.all import *\n",
    "%load_ext autoreload \n",
    "%autoreload 2\n",
    "%cd \"/content/drive/MyDrive/Coding/ModelAssistedLabel\""
   ]
  },
  {
   "cell_type": "code",
   "execution_count": null,
   "metadata": {},
   "outputs": [],
   "source": [
    "#hide\n",
    "%run '_Synch.ipynb'"
   ]
  },
  {
   "cell_type": "code",
   "execution_count": null,
   "metadata": {},
   "outputs": [],
   "source": [
    "from ModelAssistedLabel.core import Generation, Defaults\n",
    "os.chdir(Defaults().root)"
   ]
  },
  {
   "cell_type": "code",
   "execution_count": null,
   "metadata": {},
   "outputs": [
    {
     "data": {
      "text/plain": [
       "'/content/drive/My Drive/Coding/ModelAssistedLabel'"
      ]
     },
     "execution_count": null,
     "metadata": {},
     "output_type": "execute_result"
    }
   ],
   "source": [
    "os.getcwd()\n",
    "os.getcwd()\n",
    "1+1\n",
    "os.getcwd()"
   ]
  },
  {
   "cell_type": "markdown",
   "metadata": {},
   "source": [
    "Recursively search a folder (`repo`) that contains images and labels."
   ]
  },
  {
   "cell_type": "code",
   "execution_count": null,
   "metadata": {},
   "outputs": [
    {
     "name": "stdout",
     "output_type": "stream",
     "text": [
      "summary:  [{'train': 7}, {'valid': 2}, {'test': 1}]\n",
      "checksum: 10\n",
      "summary:  [{'train': 589}, {'valid': 169}, {'test': 83}]\n",
      "checksum: 841\n",
      "summary:  [{'train': 4}, {'valid': 1}, {'test': 0}]\n",
      "checksum: 5\n"
     ]
    }
   ],
   "source": [
    "g = Generation(repo = \"/content/drive/MyDrive/Coding/Roboflow Export (841)\",\n",
    "              out_dir = \".\",\n",
    "              data_yaml=Defaults().data_yaml)\n",
    "\n",
    "def tostr(split):\n",
    "  return [{k: len(v)} for k,v in split.items()]\n",
    "\n",
    "def sumg(split):\n",
    "  return sum([list(x.values())[0] for x in tostr(split)])\n",
    "\n",
    "for MAX_SIZE in [10, None, 5]:\n",
    "  g.set_split(MAX_SIZE=MAX_SIZE)\n",
    "  print(\"summary: \", tostr(g.split))\n",
    "  print(\"checksum:\", sumg(g.split))"
   ]
  },
  {
   "cell_type": "code",
   "execution_count": null,
   "metadata": {},
   "outputs": [],
   "source": [
    "test_eq(\".\", g.out_dir) #double check writing to current directory\n",
    "pwd1 = os.getcwd()\n",
    "os.chdir(Defaults().root)"
   ]
  },
  {
   "cell_type": "code",
   "execution_count": null,
   "metadata": {},
   "outputs": [],
   "source": [
    "pwd2 = os.getcwd()\n",
    "test_eq(pwd1, pwd2) #make sure we're still in the root directory"
   ]
  },
  {
   "cell_type": "code",
   "execution_count": null,
   "metadata": {},
   "outputs": [],
   "source": [
    "zipped = g.process_split(\" vanilla\") #create a zip file in the ROOT directory"
   ]
  },
  {
   "cell_type": "code",
   "execution_count": null,
   "metadata": {},
   "outputs": [],
   "source": [
    "import os\n",
    "\n",
    "local = os.path.basename(zipped)\n",
    "!unzip \"{local}\" #grab data\n",
    "!rm -f -r '{local}' #remove zip file"
   ]
  },
  {
   "cell_type": "code",
   "execution_count": null,
   "metadata": {},
   "outputs": [
    {
     "data": {
      "text/plain": [
       "0"
      ]
     },
     "execution_count": null,
     "metadata": {},
     "output_type": "execute_result"
    }
   ],
   "source": [
    "#move the contents of the zip file into postion within the ROOT directory\n",
    "for splt in [\"test/\", \"train/\", \"valid/\", \"data.yaml\"]:\n",
    "  os.system(f\"mv '{local[:-4]}/{splt}' .\")\n",
    "\n",
    "#removed the folder that was taken out of the zip\n",
    "os.system(f\"rm -f -r '{local[:-4]}'\")"
   ]
  },
  {
   "cell_type": "code",
   "execution_count": null,
   "metadata": {},
   "outputs": [],
   "source": [
    "from ModelAssistedLabel.core import Trainer"
   ]
  },
  {
   "cell_type": "code",
   "execution_count": null,
   "metadata": {},
   "outputs": [],
   "source": [
    "t = Trainer(\"abc\")"
   ]
  },
  {
   "cell_type": "code",
   "execution_count": null,
   "metadata": {},
   "outputs": [],
   "source": [
    "train_path = \"yolov5/runs/train\"\n",
    "ldir = lambda path: set(os.listdir(path))\n",
    "\n",
    "before = ldir(train_path)\n",
    "t.train(1)\n",
    "after = ldir(train_path)\n",
    "\n",
    "current = list(after - before)[0]"
   ]
  },
  {
   "cell_type": "code",
   "execution_count": null,
   "metadata": {},
   "outputs": [],
   "source": []
  },
  {
   "cell_type": "code",
   "execution_count": null,
   "metadata": {},
   "outputs": [
    {
     "data": {
      "text/plain": [
       "'yolov5/runs/train/abc8/weights/best.pt'"
      ]
     },
     "execution_count": null,
     "metadata": {},
     "output_type": "execute_result"
    }
   ],
   "source": [
    "weights_path = f'{training_path}/{current}/weights'\n",
    "weights = os.listdir(weights_path)\n",
    "test_eq(len(weights), 2)\n",
    "os.path.join(weights_path, \"best.pt\")"
   ]
  },
  {
   "cell_type": "code",
   "execution_count": null,
   "metadata": {},
   "outputs": [],
   "source": [
    "a"
   ]
  }
 ],
 "metadata": {
  "kernelspec": {
   "display_name": "Python 3",
   "language": "python",
   "name": "python3"
  }
 },
 "nbformat": 4,
 "nbformat_minor": 0
}
