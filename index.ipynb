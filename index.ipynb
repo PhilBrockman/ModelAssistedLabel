{
 "cells": [
  {
   "cell_type": "markdown",
   "metadata": {},
   "source": [
    "# Model-asisted Labeling with YOLOv5\n",
    "> custom image set annotation with a model's help"
   ]
  },
  {
   "cell_type": "markdown",
   "metadata": {},
   "source": [
    "![base64 splash](https://github.com/PhilBrockman/ModelAssistedLabel/blob/master/modelassistedlabel%20splash.jpg?raw=true)"
   ]
  },
  {
   "cell_type": "markdown",
   "metadata": {},
   "source": [
    "## Background"
   ]
  },
  {
   "cell_type": "markdown",
   "metadata": {},
   "source": [
    "My exercise equipment doesn’t connect to a network. But I still want the \"smart workout experience\" when I'm using a \"dumb\" rowing machine.\n",
    "\n",
    "Maybe if I point my webcam at the equipment’s LCD output, I can make a machine learn to identify and interpret useful information. Perfect! I’ll just utilize object detection to determine the location and identity of digits on the machine’s readout. \n",
    "\n",
    "First question -- just a tiny one -- how do you do that?  \n",
    "\n",
    "After wading through several guides, I found [Roboflow's YOLOv5 tutorial]( https://models.roboflow.com/object-detection/yolov5). They provide a hands-on and accessible experience in machine learning. But unfortunately, I couldn't progress immediately on my specific project. Instead, I had to build my own dataset.\n",
    "\n",
    "As I labeled image after image, I envision passing my work off to a YOLOv5 model. I sleuth through [Ultralytic's](https://github.com/ultralytics/yolov5) original project, I build wrappers around `detect.py` and `train.py`. I determine that my vision could be a reality.\n",
    "\n",
    "This repository contains the tools that let me \"pre-label\" my images before sending them off for human inspection and correction. I also provide labeled and unlabeled images to demonstrate the tools.\n",
    "\n",
    "* `Image Repo/`\n",
    " - `labeled/`\n",
    "    + `Final Roboflow Export (841)/` \n",
    "      + 841 labeled image dataset\n",
    " - `unlabeled/`\n",
    "    + `21-3-22 rowing (200) 7:50-12:50/`\n",
    "      - 200 images with direct lighting from one light source\n",
    "    + `21-3-22 rowing (200) 1:53-7:00/` \n",
    "      - 200 images with direct lighting from one light source and intermittent glare\n",
    "    + `21-3-18 rowing 8-12/` \n",
    "      - 200 images with direct light and ambient lamps turned on\n",
    "\n",
    "\n"
   ]
  },
  {
   "cell_type": "markdown",
   "metadata": {},
   "source": [
    "## Getting Started"
   ]
  },
  {
   "cell_type": "markdown",
   "metadata": {},
   "source": [
    "> Tip: [Open In Colab](https://colab.research.google.com/github/PhilBrockman/ModelAssistedLabel/blob/master/index.ipynb) (and enable GPU)"
   ]
  },
  {
   "cell_type": "code",
   "execution_count": null,
   "metadata": {},
   "outputs": [
    {
     "name": "stdout",
     "output_type": "stream",
     "text": [
      "Cloning into 'ModelAssistedLabel'...\n",
      "remote: Enumerating objects: 463, done.\u001b[K\n",
      "remote: Counting objects: 100% (463/463), done.\u001b[K\n",
      "remote: Compressing objects: 100% (146/146), done.\u001b[K\n",
      "remote: Total 4440 (delta 332), reused 439 (delta 312), pack-reused 3977\u001b[K\n",
      "Receiving objects: 100% (4440/4440), 210.50 MiB | 13.74 MiB/s, done.\n",
      "Resolving deltas: 100% (1355/1355), done.\n",
      "Checking out files: 100% (2381/2381), done.\n",
      "/content/drive/MyDrive/vision.philbrockman.com/ModelAssistedLabel\n"
     ]
    }
   ],
   "source": [
    "# clone this repository\n",
    "!git clone https://github.com/PhilBrockman/ModelAssistedLabel.git\n",
    "%cd \"ModelAssistedLabel\""
   ]
  },
  {
   "cell_type": "markdown",
   "metadata": {},
   "source": [
    "### Expected Inputs\n",
    "\n",
    "-  **labeled images**\n",
    "    + All of the images and labels must be in a common folder (subfolders allowed).\n",
    "    + Labels must be in [YOLOv5 format](https://github.com/AlexeyAB/Yolo_mark/issues/60#issuecomment-401854885).\n",
    "\n",
    "    > Note: Image/label pairs are based on their base filename. For example `image.jpg/image.txt` would be paired as would `other_image5.jpg/other_image5.txt`.\n",
    "\n",
    "\n",
    "\n",
    "\n"
   ]
  },
  {
   "cell_type": "code",
   "execution_count": null,
   "metadata": {},
   "outputs": [],
   "source": [
    "# these images have already been labeled\n",
    "labeled_images   = \"Image Repo/labeled/Final Roboflow Export (841)\""
   ]
  },
  {
   "cell_type": "markdown",
   "metadata": {},
   "source": [
    "  - **unlabeled images**"
   ]
  },
  {
   "cell_type": "code",
   "execution_count": null,
   "metadata": {},
   "outputs": [],
   "source": [
    "# these images need to be annotated\n",
    "unlabeled_images = \"Image Repo/unlabeled/21-3-22 rowing (200) 7:50-12:50\""
   ]
  },
  {
   "cell_type": "markdown",
   "metadata": {},
   "source": [
    "### Expected Output\n",
    "\n",
    "* Folder that contains: \n",
    "    - `images/`\n",
    "      + a copy of every image in **Unlabeled Data**\n",
    "    - `labels/`\n",
    "      + result of running object detection on each image\n",
    "    - `class labels.txt` to preserve the identity of the classes\n",
    "    - (if not using pre-trained weights) a results folder produced by Ultralytic's `train.py` on the **Labeled Data** \n"
   ]
  },
  {
   "cell_type": "markdown",
   "metadata": {},
   "source": [
    "Start by building the folder structure for the output."
   ]
  },
  {
   "cell_type": "code",
   "execution_count": null,
   "metadata": {},
   "outputs": [
    {
     "name": "stdout",
     "output_type": "stream",
     "text": [
      "seven segment digits - 1\n"
     ]
    }
   ],
   "source": [
    "from ModelAssistedLabel.config import Defaults\n",
    "import os\n",
    "\n",
    "project_name = \"seven segment digits - \"\n",
    "export_folder = Defaults._itername(project_name)\n",
    "\n",
    "print(export_folder)\n",
    "# make the export folder\n",
    "os.mkdir(export_folder)\n",
    "\n",
    "# make the images and labels subfolders\n",
    "for resource_folder in [\"images\", \"labels\"]:\n",
    "  os.mkdir(os.path.join(export_folder, resource_folder))"
   ]
  },
  {
   "cell_type": "markdown",
   "metadata": {},
   "source": [
    "### Configure Defaults"
   ]
  },
  {
   "cell_type": "markdown",
   "metadata": {},
   "source": [
    "Several values are stored by the `Defaults` class. Any value can be overridden (and new values can be added. Make sure to `save()` any changes! (changes are written to the `config_file`"
   ]
  },
  {
   "cell_type": "code",
   "execution_count": null,
   "metadata": {},
   "outputs": [],
   "source": [
    "d = Defaults()"
   ]
  },
  {
   "cell_type": "markdown",
   "metadata": {},
   "source": [
    "#### changing a Default value"
   ]
  },
  {
   "cell_type": "code",
   "execution_count": null,
   "metadata": {},
   "outputs": [
    {
     "name": "stdout",
     "output_type": "stream",
     "text": [
      " -- Defined Keys: --\n",
      "config_file\n",
      "root\n",
      "split_ratio\n",
      "data_yaml\n",
      "resource_map\n",
      "trainer_template\n"
     ]
    }
   ],
   "source": [
    "print(\" -- Defined Keys: --\")\n",
    "print(\"\\n\".join([x for x in d.__dict__.keys()]))"
   ]
  },
  {
   "cell_type": "markdown",
   "metadata": {},
   "source": [
    "Speciy the absolute path of the root directory."
   ]
  },
  {
   "cell_type": "code",
   "execution_count": null,
   "metadata": {},
   "outputs": [
    {
     "name": "stdout",
     "output_type": "stream",
     "text": [
      "/content/drive/MyDrive/vision.philbrockman.com/ModelAssistedLabel\n"
     ]
    }
   ],
   "source": [
    "!pwd"
   ]
  },
  {
   "cell_type": "code",
   "execution_count": null,
   "metadata": {},
   "outputs": [],
   "source": [
    "d.root = \"/content/drive/MyDrive/vision.philbrockman.com/ModelAssistedLabel/\""
   ]
  },
  {
   "cell_type": "markdown",
   "metadata": {},
   "source": [
    "Save changes and enter root directory"
   ]
  },
  {
   "cell_type": "code",
   "execution_count": null,
   "metadata": {},
   "outputs": [
    {
     "name": "stdout",
     "output_type": "stream",
     "text": [
      "moving to /content/drive/MyDrive/vision.philbrockman.com/ModelAssistedLabel/\n"
     ]
    }
   ],
   "source": [
    "d.save()\n",
    "d.to_root()"
   ]
  },
  {
   "cell_type": "markdown",
   "metadata": {},
   "source": [
    "#### cloning YOLOv5"
   ]
  },
  {
   "cell_type": "markdown",
   "metadata": {},
   "source": [
    "I borrow the instructions to set up the Ultralytics repo from [the Roboflow tutorial]( https://models.roboflow.com/object-detection/yolov5). (If I'd be allowed one undo on this project, I wish I would have intially forked this project from that tutorial.)"
   ]
  },
  {
   "cell_type": "code",
   "execution_count": null,
   "metadata": {},
   "outputs": [
    {
     "name": "stdout",
     "output_type": "stream",
     "text": [
      "Cloning into 'yolov5'...\n",
      "remote: Enumerating objects: 7, done.\u001b[K\n",
      "remote: Counting objects: 100% (7/7), done.\u001b[K\n",
      "remote: Compressing objects: 100% (7/7), done.\u001b[K\n",
      "remote: Total 5532 (delta 1), reused 0 (delta 0), pack-reused 5525\n",
      "Receiving objects: 100% (5532/5532), 8.15 MiB | 7.60 MiB/s, done.\n",
      "Resolving deltas: 100% (3776/3776), done.\n",
      "/content/drive/My Drive/vision.philbrockman.com/ModelAssistedLabel/yolov5\n",
      "/content/drive/My Drive/vision.philbrockman.com/ModelAssistedLabel\n"
     ]
    }
   ],
   "source": [
    "# clone YOLOv5 repository\n",
    "!git clone https://github.com/ultralytics/yolov5  # clone repo\n",
    "\n",
    "%cd yolov5\n",
    "# install dependencies as necessary\n",
    "!pip install -qr requirements.txt  # install dependencies (ignore errors)\n",
    "import torch\n",
    "\n",
    "from IPython.display import Image, clear_output  # to display images\n",
    "from utils.google_utils import gdrive_download  # to download models/datasets\n",
    "\n",
    "%cd .."
   ]
  },
  {
   "cell_type": "markdown",
   "metadata": {},
   "source": [
    "#### define class map\n"
   ]
  },
  {
   "cell_type": "markdown",
   "metadata": {},
   "source": [
    "I have `nc = 10` classes and their `names` are all string types.\n"
   ]
  },
  {
   "cell_type": "code",
   "execution_count": null,
   "metadata": {},
   "outputs": [],
   "source": [
    "d.data_yaml = \"\"\"train: ../train/images\n",
    "val: ../valid/images\n",
    "\n",
    "nc: 10\n",
    "names: ['1', '2', '3', '4', '5', '6', '7', '8', '9', '0']\"\"\"\n",
    "\n",
    "d.save()"
   ]
  },
  {
   "cell_type": "markdown",
   "metadata": {},
   "source": [
    "Make sure that the class names are accessible:"
   ]
  },
  {
   "cell_type": "code",
   "execution_count": null,
   "metadata": {},
   "outputs": [
    {
     "data": {
      "text/plain": [
       "['1', '2', '3', '4', '5', '6', '7', '8', '9', '0']"
      ]
     },
     "execution_count": null,
     "metadata": {},
     "output_type": "execute_result"
    }
   ],
   "source": [
    "d.get_class_names()"
   ]
  },
  {
   "cell_type": "markdown",
   "metadata": {},
   "source": [
    "Store the class labels with index 0 on line 1, index 1 on line 2, and so on."
   ]
  },
  {
   "cell_type": "code",
   "execution_count": null,
   "metadata": {},
   "outputs": [],
   "source": [
    "with open(os.path.join(export_folder, \"label_map.txt\"), \"w\") as label_map:\n",
    "  label_map.writelines(\"\\n\".join(class_idx))"
   ]
  },
  {
   "cell_type": "markdown",
   "metadata": {},
   "source": [
    "## Generating Weights\n"
   ]
  },
  {
   "cell_type": "markdown",
   "metadata": {},
   "source": [
    "Make sure GPU is enabled."
   ]
  },
  {
   "cell_type": "code",
   "execution_count": null,
   "metadata": {},
   "outputs": [
    {
     "name": "stdout",
     "output_type": "stream",
     "text": [
      "Setup complete. Using torch 1.8.0+cu101 _CudaDeviceProperties(name='Tesla P100-PCIE-16GB', major=6, minor=0, total_memory=16280MB, multi_processor_count=56)\n",
      "moving to /content/drive/MyDrive/vision.philbrockman.com/ModelAssistedLabel/\n"
     ]
    }
   ],
   "source": [
    "if torch.cuda.is_available():\n",
    "  print('Setup complete. Using torch %s %s' % (torch.__version__, torch.cuda.get_device_properties(0) ))\n",
    "  d.to_root() #step up a level\n",
    "else:\n",
    "   raise Exception(\"enable GPU\")"
   ]
  },
  {
   "cell_type": "markdown",
   "metadata": {},
   "source": [
    "### Preparing Filesystem"
   ]
  },
  {
   "cell_type": "markdown",
   "metadata": {},
   "source": [
    "The `Generation` class helps convert an unordered folder of images and labels into a format compatible with YOLOv5. By default, the train/valid/test split is set to 70%/20%/10%."
   ]
  },
  {
   "cell_type": "code",
   "execution_count": null,
   "metadata": {},
   "outputs": [
    {
     "data": {
      "text/plain": [
       "[{'train': 589}, {'valid': 169}, {'test': 83}]"
      ]
     },
     "execution_count": null,
     "metadata": {},
     "output_type": "execute_result"
    }
   ],
   "source": [
    "from ModelAssistedLabel.fileManagement import Generation\n",
    "\n",
    "backup_dir = \"archive/Generation/zips\"\n",
    "\n",
    "g = Generation(repo=labeled_images, \n",
    "               out_dir=backup_dir,\n",
    "               verbose=True)\n",
    "\n",
    "g.set_split()\n",
    "g.get_split()"
   ]
  },
  {
   "cell_type": "markdown",
   "metadata": {},
   "source": [
    "Backups are built into this system. As an intermediate step, the split must be written to disk in `g.out_dir`.\n"
   ]
  },
  {
   "cell_type": "code",
   "execution_count": null,
   "metadata": {},
   "outputs": [
    {
     "name": "stdout",
     "output_type": "stream",
     "text": [
      "\n",
      "dirs ['./train', './valid', './test']\n",
      "yaml archive/Generation/zips/Final Roboflow Export (841)seven segment digits - 1 21-03-27 05-46-03/data.yaml\n",
      "subdir train\n",
      "\toutdir archive/Generation/zips/Final Roboflow Export (841)seven segment digits - 1 21-03-27 05-46-03\n",
      "subdir valid\n",
      "\toutdir archive/Generation/zips/Final Roboflow Export (841)seven segment digits - 1 21-03-27 05-46-03\n",
      "subdir test\n",
      "\toutdir archive/Generation/zips/Final Roboflow Export (841)seven segment digits - 1 21-03-27 05-46-03\n",
      "os.listdir ['train', 'valid', 'test', 'data.yaml']\n"
     ]
    }
   ],
   "source": [
    "zipped = g.write_split_to_disk(descriptor=export_folder)"
   ]
  },
  {
   "cell_type": "markdown",
   "metadata": {},
   "source": [
    "Next, the images need to be written in a way so that the Ultralytics repository can understand their content. The `Autoweights` class both organizes data and create weights. Running an \"initialize\" command makes changes to the disk."
   ]
  },
  {
   "cell_type": "code",
   "execution_count": null,
   "metadata": {},
   "outputs": [
    {
     "name": "stdout",
     "output_type": "stream",
     "text": [
      "mv 'unzipped/archive/Generation/zips/Final Roboflow Export (841)seven segment digits - 1 21-03-27 05-46-03/train' .\n",
      "mv 'unzipped/archive/Generation/zips/Final Roboflow Export (841)seven segment digits - 1 21-03-27 05-46-03/valid' .\n",
      "mv 'unzipped/archive/Generation/zips/Final Roboflow Export (841)seven segment digits - 1 21-03-27 05-46-03/test' .\n",
      "mv 'unzipped/archive/Generation/zips/Final Roboflow Export (841)seven segment digits - 1 21-03-27 05-46-03/data.yaml' .\n"
     ]
    }
   ],
   "source": [
    "from ModelAssistedLabel.train import AutoWeights\n",
    "#configure a basic AutoWeights class instance\n",
    "aw = AutoWeights(name=export_folder, out_dir=backup_dir)\n",
    "\n",
    "# create train/valid/test split from a bag of labeled images (recusively seek out images/labels)\n",
    "aw.initialize_images_from_zip(zipped)"
   ]
  },
  {
   "cell_type": "markdown",
   "metadata": {},
   "source": [
    "Peep on the sizes of the train/valid/test groups."
   ]
  },
  {
   "cell_type": "code",
   "execution_count": null,
   "metadata": {},
   "outputs": [
    {
     "name": "stdout",
     "output_type": "stream",
     "text": [
      "train/images\n",
      "\t > 589 files\n",
      "train/labels\n",
      "\t > 589 files\n",
      "valid/images\n",
      "\t > 169 files\n",
      "valid/labels\n",
      "\t > 169 files\n",
      "test/images\n",
      "\t > 83 files\n",
      "test/labels\n",
      "\t > 83 files\n",
      "File:  data.yaml\n"
     ]
    }
   ],
   "source": [
    "aw.traverse_resources()"
   ]
  },
  {
   "cell_type": "markdown",
   "metadata": {},
   "source": [
    "### Running `train.py`"
   ]
  },
  {
   "cell_type": "markdown",
   "metadata": {},
   "source": [
    "With the images written to disk, we can run the Ultralytics training algorithm. I loved watching the progress fly by in real time on the original `train.py`. Fortunately, the Ultralytics folk write the results file to disk so the model's training data is still accessible!\n",
    "\n",
    "> Note: this output has already been calculated and stored in `pre-trained/results` for convenience."
   ]
  },
  {
   "cell_type": "code",
   "execution_count": null,
   "metadata": {},
   "outputs": [
    {
     "name": "stdout",
     "output_type": "stream",
     "text": [
      "CPU times: user 1min 3s, sys: 10.8 s, total: 1min 14s\n",
      "Wall time: 4h 57min 26s\n"
     ]
    },
    {
     "data": {
      "text/plain": [
       "'yolov5/runs/train/seven segment digits - 1/'"
      ]
     },
     "execution_count": null,
     "metadata": {},
     "output_type": "execute_result"
    }
   ],
   "source": [
    "%%time\n",
    "\n",
    "aw.generate_weights(epochs=2000, yaml_data=Defaults().trainer_template)"
   ]
  },
  {
   "cell_type": "markdown",
   "metadata": {},
   "source": [
    "The results folder is stored as an attribute as well, and it has a lot of data stored therein."
   ]
  },
  {
   "cell_type": "code",
   "execution_count": null,
   "metadata": {},
   "outputs": [
    {
     "data": {
      "text/plain": [
       "('yolov5/runs/train/seven segment digits - 1/', 22)"
      ]
     },
     "execution_count": null,
     "metadata": {},
     "output_type": "execute_result"
    }
   ],
   "source": [
    "import os\n",
    "aw.last_results_path, len(os.listdir(aw.last_results_path))"
   ]
  },
  {
   "cell_type": "markdown",
   "metadata": {},
   "source": [
    "However, the weights are stored in a subfolder called (aptly) \"weights\"."
   ]
  },
  {
   "cell_type": "code",
   "execution_count": null,
   "metadata": {},
   "outputs": [
    {
     "data": {
      "text/plain": [
       "['last.pt', 'best.pt']"
      ]
     },
     "execution_count": null,
     "metadata": {},
     "output_type": "execute_result"
    }
   ],
   "source": [
    "os.listdir(aw.last_results_path + \"/weights\")"
   ]
  },
  {
   "cell_type": "markdown",
   "metadata": {},
   "source": [
    "## Machine-assisted Labeling"
   ]
  },
  {
   "cell_type": "markdown",
   "metadata": {},
   "source": [
    "### Labeling a New Set of Images"
   ]
  },
  {
   "cell_type": "markdown",
   "metadata": {},
   "source": [
    "The `Viewer` class needs weights and class labels to operate."
   ]
  },
  {
   "cell_type": "code",
   "execution_count": null,
   "metadata": {},
   "outputs": [
    {
     "name": "stdout",
     "output_type": "stream",
     "text": [
      "Fusing layers... \n"
     ]
    }
   ],
   "source": [
    "from ModelAssistedLabel.detect import Viewer\n",
    "\n",
    "# access the folder of results from the AutoWeights instance\n",
    "results_folder = aw.last_results_path\n",
    "\n",
    "# I'm choosing to use the best weight.\n",
    "weight_path = results_folder + \"/weights/best.pt\"\n",
    "\n",
    "# Viewer needs a set of weights and an array of labels for the detected object types\n",
    "v = Viewer(weight_path, class_idx)"
   ]
  },
  {
   "cell_type": "markdown",
   "metadata": {},
   "source": [
    "Let's us look through the computer's eyes at the images.\n",
    "\n",
    "With the existing dataset, the model performs best under direct lighting."
   ]
  },
  {
   "cell_type": "code",
   "execution_count": null,
   "metadata": {},
   "outputs": [
    {
     "data": {
      "text/plain": "Output hidden; open in https://colab.research.google.com to view."
     },
     "metadata": {},
     "output_type": "display_data"
    }
   ],
   "source": [
    "%matplotlib inline \n",
    "import random, glob\n",
    "\n",
    "images = glob.glob(f\"./{unlabeled_images}/*.jpg\")\n",
    "\n",
    "for image in random.sample(images,5):\n",
    "  print(image)\n",
    "  v.plot_for(image)"
   ]
  },
  {
   "cell_type": "markdown",
   "metadata": {},
   "source": [
    "In this small sample, the model performs quite well. Nonetheless, manual review of all images is needed to remove overlapping predictions, categorization errors, and absent boxes."
   ]
  },
  {
   "cell_type": "code",
   "execution_count": null,
   "metadata": {},
   "outputs": [],
   "source": [
    "results = []\n",
    "for image in images:\n",
    "  results.append(v.predict_for(image))"
   ]
  },
  {
   "cell_type": "markdown",
   "metadata": {},
   "source": [
    "### Exporting Annotated Images"
   ]
  },
  {
   "cell_type": "markdown",
   "metadata": {},
   "source": [
    "Ensure that image/label pairs have a common root filename and collect relevant files in a single folder."
   ]
  },
  {
   "cell_type": "code",
   "execution_count": null,
   "metadata": {},
   "outputs": [],
   "source": [
    "import random, PIL, shutil\n",
    "salt = lambda: str(random.random())[2:]\n",
    "\n",
    "for result in results:\n",
    "  #generate a likely-to-be-unique filename\n",
    "  shared_root = Defaults._itername(f\"{project_name}-{salt()}\")\n",
    "\n",
    "  #save the image to the outfile\n",
    "  image = PIL.Image.open(result[\"image path\"])\n",
    "  image.save(os.path.join(export_folder, \"images\", f\"{shared_root}.jpg\"))\n",
    "\n",
    "  #save the predictions to the outfile\n",
    "  predictions = result[\"predictions\"]\n",
    "  with open(os.path.join(export_folder, \"labels\", f\"{shared_root}.txt\"), \"w\") as prediction_file:\n",
    "    prediction_file.writelines(\"\\n\".join([x[\"yolov5 format\"] for x in predictions]))"
   ]
  },
  {
   "cell_type": "markdown",
   "metadata": {},
   "source": [
    "Lastly, if results need to get saved, make sure they get saved."
   ]
  },
  {
   "cell_type": "code",
   "execution_count": null,
   "metadata": {},
   "outputs": [
    {
     "name": "stdout",
     "output_type": "stream",
     "text": [
      "No weights to save\n"
     ]
    }
   ],
   "source": [
    "moved = False #set a flag\n",
    "\n",
    "try: \n",
    "  if os.path.exists(aw.last_results_path):\n",
    "    # `aw` exists and it has been executed \n",
    "    print(f\"Moving yolov5 results folder: {aw.last_results_path}\")\n",
    "    shutil.move(aw.last_results_path, export_folder)\n",
    "\n",
    "    #flip the flag\n",
    "    moved = True\n",
    "except NameError:\n",
    "  pass\n",
    "\n",
    "if not(moved):\n",
    "  # either the AutoWeigts didn't pan out or it wasn't used\n",
    "  print(\"No weights to save\")"
   ]
  },
  {
   "cell_type": "markdown",
   "metadata": {},
   "source": [
    "I labeled dozens upon dozens and dozens of images with Roboflow and would recommend their free annotation service! However, to be transparent, I developed [an annotator](https://github.com/PhilBrockman/autobbox) in React that better suited my physical needs."
   ]
  },
  {
   "cell_type": "markdown",
   "metadata": {},
   "source": [
    "## Wrap Up\n",
    "\n",
    "I have uncovered a camera and lighting positioning that allows for my model to read the LCD at with high fidelty. I'm using object detection as a form of OCR and it's working!\n",
    "\n",
    "I see three main areas for development with this project. The first would be bolstering the dataset (and staying in the machine learning space). The second would be logic interpreting parsed data (building the \"smart\" software).\n",
    "\n",
    "The third area of development is refactoring. I made a decision early on to hard to hardcode the path to training and validation images. A lot of the frustrations stemming from file mangement could be lightening by revisiting the way `Defaults.data_yaml` is constructed - perhaps it would be better to simply store the names of classes instead.\n",
    "\n"
   ]
  },
  {
   "cell_type": "markdown",
   "metadata": {},
   "source": [
    "### Note on the Dataset\n",
    "\n",
    "This dataset of 841 images was not carefully curated. There's images from a different rowing machine and also from  [this](https://github.com/SachaIZADI/Seven-Segment-OCR) repo. Some scenes are illuminated with sunlight. Others have been cropped to include only the LCD. Larger digits are underrepresented.\n"
   ]
  },
  {
   "cell_type": "markdown",
   "metadata": {},
   "source": [
    "### Recording from Laptop\n",
    "\n",
    "This is how I'm currently fixing the position my black-shelled laptop while recording: [pic1](https://raw.githubusercontent.com/PhilBrockman/ModelAssistedLabel/master/DIY-laptop-mount.jpg), [pic2](https://raw.githubusercontent.com/PhilBrockman/ModelAssistedLabel/master/DIY-computer-capture.jpg), [pic3](https://github.com/PhilBrockman/ModelAssistedLabel/blob/master/DIY-capture.jpeg?raw=true).\n",
    "\n",
    "I use the `_capture.ipynb` notebook to capture images on a bit of a delay to prevent repeat images from cluttering the dataset. For me, it was much easier to get recording working from a local notebook than from a Colab notebook but YMMV.\n",
    "\n"
   ]
  },
  {
   "cell_type": "markdown",
   "metadata": {},
   "source": [
    "### About Me\n",
    "\n",
    "I am finishing my fourth year as a public school teacher in Kentucky. This summer, I am moving to the Bay Area to pursue a career in tech. When I’m not coding, I enjoy playing violin! Reach me at phil.brockman@gmail.com.\n",
    "\n"
   ]
  }
 ],
 "metadata": {
  "kernelspec": {
   "display_name": "Python 3",
   "language": "python",
   "name": "python3"
  }
 },
 "nbformat": 4,
 "nbformat_minor": 0
}
