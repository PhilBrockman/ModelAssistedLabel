{
 "cells": [
  {
   "cell_type": "code",
   "execution_count": null,
   "metadata": {},
   "outputs": [],
   "source": [
    "# default_exp core"
   ]
  },
  {
   "cell_type": "code",
   "execution_count": null,
   "metadata": {},
   "outputs": [
    {
     "name": "stdout",
     "output_type": "stream",
     "text": [
      "Drive already mounted at /content/drive; to attempt to forcibly remount, call drive.mount(\"/content/drive\", force_remount=True).\n",
      "/content/drive/MyDrive/Coding/ModelAssistedLabel\n"
     ]
    }
   ],
   "source": [
    "#hide\n",
    "from google.colab import drive\n",
    "drive.mount(\"/content/drive\")\n",
    "%cd \"/content/drive/MyDrive/Coding/ModelAssistedLabel/\""
   ]
  },
  {
   "cell_type": "code",
   "execution_count": null,
   "metadata": {},
   "outputs": [],
   "source": [
    "#export \n",
    "class Defaults:\n",
    "  def __init__(self):\n",
    "    self.root = \"/content/drive/MyDrive/Coding/ModelAssistedLabel/\"\n",
    "    self.resource_folder = \"/content/drive/MyDrive/Coding/Roboflow/try it out\"\n",
    "    self.split_ratio = {\n",
    "              \"train\": .7,\n",
    "              \"valid\": .2,\n",
    "              \"test\": .1\n",
    "            }"
   ]
  },
  {
   "cell_type": "code",
   "execution_count": null,
   "metadata": {},
   "outputs": [
    {
     "name": "stdout",
     "output_type": "stream",
     "text": [
      "/content/drive/MyDrive/Coding/ModelAssistedLabel\n",
      "Drive already mounted at /content/drive; to attempt to forcibly remount, call drive.mount(\"/content/drive\", force_remount=True).\n",
      "Executing: git config --local include.path ../.gitconfig\n",
      "Success: hooks are installed and repo's .gitconfig is now trusted\n",
      "Converted 000_Synch.ipynb.\n",
      "Converted 00_ultralytics.ipynb.\n",
      "Converted 01_split.ipynb.\n",
      "Converted 02_augment.ipynb.\n",
      "Converted index.ipynb.\n",
      "converting: /content/drive/My Drive/Coding/ModelAssistedLabel/00_ultralytics.ipynb\n",
      "converting: /content/drive/My Drive/Coding/ModelAssistedLabel/02_augment.ipynb\n",
      "converting: /content/drive/My Drive/Coding/ModelAssistedLabel/01_split.ipynb\n",
      "converting: /content/drive/My Drive/Coding/ModelAssistedLabel/000_Synch.ipynb\n",
      "converting /content/drive/My Drive/Coding/ModelAssistedLabel/index.ipynb to README.md\n",
      "defining default values\n",
      "[master 3627aa0] defining default values\n",
      " 12 files changed, 906 insertions(+), 47 deletions(-)\n",
      " create mode 100644 000_Synch.ipynb\n",
      " create mode 100644 00_ultralytics.ipynb\n",
      " create mode 100644 docs/Synch.html\n",
      " create mode 100644 docs/ultralytics.html\n",
      "Counting objects: 18, done.\n",
      "Delta compression using up to 2 threads.\n",
      "Compressing objects: 100% (17/17), done.\n",
      "Writing objects: 100% (18/18), 9.95 KiB | 926.00 KiB/s, done.\n",
      "Total 18 (delta 12), reused 0 (delta 0)\n",
      "remote: Resolving deltas: 100% (12/12), completed with 9 local objects.\u001b[K\n",
      "To https://github.com/PhilBrockman/ModelAssistedLabel.git\n",
      "   08b4dd0..3627aa0  master -> master\n"
     ]
    }
   ],
   "source": [
    " %cd \"{Defaults().root}\"\n",
    " %run \"000_Synch.ipynb\""
   ]
  },
  {
   "cell_type": "markdown",
   "metadata": {},
   "source": [
    "# YOLOv5 (ultralytics)"
   ]
  },
  {
   "cell_type": "code",
   "execution_count": null,
   "metadata": {},
   "outputs": [
    {
     "name": "stdout",
     "output_type": "stream",
     "text": [
      "Setup complete. Using torch 1.8.0+cu101 _CudaDeviceProperties(name='Tesla P100-PCIE-16GB', major=6, minor=0, total_memory=16280MB, multi_processor_count=56)\n",
      "/content\n"
     ]
    }
   ],
   "source": [
    "import os\n",
    "# safety for re-executions\n",
    "if not os.path.exists(\"yolov5\"):\n",
    "  # clone YOLOv5 and reset to a specific git checkpoint that has been verified working\n",
    "  !git clone https://github.com/ultralytics/yolov5  # clone repo\n",
    "  !git reset --hard 68211f72c99915a15855f7b99bf5d93f5631330f\n",
    "\n",
    "# enter the yolov5 directory\n",
    "%cd yolov5\n",
    "\n",
    "# install dependencies as necessary\n",
    "!pip install -qr requirements.txt  # install dependencies (ignore errors)\n",
    "import torch\n",
    "\n",
    "from IPython.display import Image, clear_output  # to display images\n",
    "# from utils.google_utils import gdrive_download  # to download models/datasets\n",
    "\n",
    "clear_output()\n",
    "\n",
    "if torch.cuda.is_available():\n",
    "  print('Setup complete. Using torch %s %s' % (torch.__version__, torch.cuda.get_device_properties(0)))\n",
    "else:\n",
    "  raise Exception(\"You need to enable GPU in this runtime environment\")\n",
    "\n",
    "# return to parent directory\n",
    "%cd .."
   ]
  }
 ],
 "metadata": {
  "kernelspec": {
   "display_name": "Python 3",
   "language": "python",
   "name": "python3"
  }
 },
 "nbformat": 4,
 "nbformat_minor": 0
}
