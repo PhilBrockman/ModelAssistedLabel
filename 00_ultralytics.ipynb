{
 "cells": [
  {
   "cell_type": "code",
   "execution_count": null,
   "metadata": {},
   "outputs": [],
   "source": [
    "# default_exp core"
   ]
  },
  {
   "cell_type": "code",
   "execution_count": null,
   "metadata": {},
   "outputs": [
    {
     "name": "stdout",
     "output_type": "stream",
     "text": [
      "Drive already mounted at /content/drive; to attempt to forcibly remount, call drive.mount(\"/content/drive\", force_remount=True).\n",
      "/content/drive/MyDrive/Coding/ModelAssistedLabel\n"
     ]
    }
   ],
   "source": [
    "#hide\n",
    "from google.colab import drive\n",
    "drive.mount(\"/content/drive\")\n",
    "%cd \"/content/drive/MyDrive/Coding/ModelAssistedLabel/\""
   ]
  },
  {
   "cell_type": "code",
   "execution_count": null,
   "metadata": {},
   "outputs": [],
   "source": [
    "#export \n",
    "class Defaults:\n",
    "  def __init__(self):\n",
    "    self.root = \"/content/drive/MyDrive/Coding/ModelAssistedLabel/\"\n",
    "    self.resource_folder = \"/content/drive/MyDrive/Coding/Roboflow/try it out\"\n",
    "    self.split_ratio = {\n",
    "              \"train\": .7,\n",
    "              \"valid\": .2,\n",
    "              \"test\": .1\n",
    "            }\n",
    "    self.data_yaml = \"\"\"train: ../train/images\n",
    "val: ../valid/images\n",
    "\n",
    "nc: 10\n",
    "names: ['1', '2', '3', '4', '5', '6', '7', '8', '9', '0']\"\"\""
   ]
  },
  {
   "cell_type": "code",
   "execution_count": null,
   "metadata": {},
   "outputs": [],
   "source": [
    "%cd \"{Defaults().root}\""
   ]
  },
  {
   "cell_type": "markdown",
   "metadata": {},
   "source": [
    "#  clone Ultralytics's YOLOv5"
   ]
  },
  {
   "cell_type": "code",
   "execution_count": null,
   "metadata": {},
   "outputs": [
    {
     "name": "stdout",
     "output_type": "stream",
     "text": [
      "Setup complete. Using torch 1.8.0+cu101 _CudaDeviceProperties(name='Tesla P100-PCIE-16GB', major=6, minor=0, total_memory=16280MB, multi_processor_count=56)\n",
      "/content\n"
     ]
    }
   ],
   "source": [
    "import os\n",
    "# safety for re-executions\n",
    "if not os.path.exists(\"yolov5\"):\n",
    "  # clone YOLOv5 and reset to a specific git checkpoint that has been verified working\n",
    "  !git clone https://github.com/ultralytics/yolov5  # clone repo\n",
    "  !git reset --hard 68211f72c99915a15855f7b99bf5d93f5631330f\n",
    "\n",
    "# enter the yolov5 directory\n",
    "%cd yolov5\n",
    "\n",
    "# install dependencies as necessary\n",
    "!pip install -qr requirements.txt  # install dependencies (ignore errors)\n",
    "import torch\n",
    "\n",
    "from IPython.display import Image, clear_output  # to display images\n",
    "# from utils.google_utils import gdrive_download  # to download models/datasets\n",
    "\n",
    "clear_output()\n",
    "\n",
    "if torch.cuda.is_available():\n",
    "  print('Setup complete. Using torch %s %s' % (torch.__version__, torch.cuda.get_device_properties(0)))\n",
    "else:\n",
    "  raise Exception(\"You need to enable GPU in this runtime environment\")\n",
    "\n",
    "# return to parent directory\n",
    "%cd .."
   ]
  }
 ],
 "metadata": {
  "kernelspec": {
   "display_name": "Python 3",
   "language": "python",
   "name": "python3"
  }
 },
 "nbformat": 4,
 "nbformat_minor": 0
}
