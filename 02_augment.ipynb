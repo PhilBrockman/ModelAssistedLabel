{
 "cells": [
  {
   "cell_type": "code",
   "execution_count": null,
   "metadata": {},
   "outputs": [],
   "source": [
    "# default_exp core"
   ]
  },
  {
   "cell_type": "code",
   "execution_count": null,
   "metadata": {},
   "outputs": [],
   "source": [
    "#hide\n",
    "from google.colab import drive\n",
    "drive.mount(\"/content/drive\")"
   ]
  },
  {
   "cell_type": "code",
   "execution_count": null,
   "metadata": {},
   "outputs": [
    {
     "name": "stdout",
     "output_type": "stream",
     "text": [
      "/content/drive/MyDrive/Coding/ModelAssistedLabel\n"
     ]
    }
   ],
   "source": [
    "#hide\n",
    "%cd \"/content/drive/MyDrive/Coding/ModelAssistedLabel\""
   ]
  },
  {
   "cell_type": "markdown",
   "metadata": {},
   "source": [
    "# Trainer\n",
    "> Class wrapper for train.py"
   ]
  },
  {
   "cell_type": "code",
   "execution_count": null,
   "metadata": {},
   "outputs": [],
   "source": [
    "#export\n",
    "import os\n",
    "\n",
    "class Trainer():\n",
    "  def __init__(self, name, yaml_file = \"./models/custom_yolov5s.yaml\"):\n",
    "    self.yaml_file = yaml_file\n",
    "    self.name = name\n",
    "\n",
    "  def write_yaml(self):\n",
    "    import yaml\n",
    "    with open(\"data.yaml\", 'r') as stream:\n",
    "      self.num_classes = str(yaml.safe_load(stream)['nc'])\n",
    "    if os.path.exists(self.yaml_file):\n",
    "      os.remove(self.yaml_file)\n",
    "\n",
    "    template = f\"\"\"# parameters\n",
    "    nc: {self.num_classes}  # number of classes\n",
    "    depth_multiple: 0.33  # model depth multiple\n",
    "    width_multiple: 0.50  # layer channel multiple\n",
    "\n",
    "    # anchors\n",
    "    anchors:\n",
    "      - [10,13, 16,30, 33,23]  # P3/8\n",
    "      - [30,61, 62,45, 59,119]  # P4/16\n",
    "      - [116,90, 156,198, 373,326]  # P5/32\n",
    "\n",
    "    # YOLOv5 backbone\n",
    "    backbone:\n",
    "      # [from, number, module, args]\n",
    "      [[-1, 1, Focus, [64, 3]],  # 0-P1/2\n",
    "      [-1, 1, Conv, [128, 3, 2]],  # 1-P2/4\n",
    "      [-1, 3, BottleneckCSP, [128]],\n",
    "      [-1, 1, Conv, [256, 3, 2]],  # 3-P3/8\n",
    "      [-1, 9, BottleneckCSP, [256]],\n",
    "      [-1, 1, Conv, [512, 3, 2]],  # 5-P4/16\n",
    "      [-1, 9, BottleneckCSP, [512]],\n",
    "      [-1, 1, Conv, [1024, 3, 2]],  # 7-P5/32\n",
    "      [-1, 1, SPP, [1024, [5, 9, 13]]],\n",
    "      [-1, 3, BottleneckCSP, [1024, False]],  # 9\n",
    "      ]\n",
    "\n",
    "    # YOLOv5 head\n",
    "    head:\n",
    "      [[-1, 1, Conv, [512, 1, 1]],\n",
    "      [-1, 1, nn.Upsample, [None, 2, 'nearest']],\n",
    "      [[-1, 6], 1, Concat, [1]],  # cat backbone P4\n",
    "      [-1, 3, BottleneckCSP, [512, False]],  # 13\n",
    "\n",
    "      [-1, 1, Conv, [256, 1, 1]],\n",
    "      [-1, 1, nn.Upsample, [None, 2, 'nearest']],\n",
    "      [[-1, 4], 1, Concat, [1]],  # cat backbone P3\n",
    "      [-1, 3, BottleneckCSP, [256, False]],  # 17 (P3/8-small)\n",
    "\n",
    "      [-1, 1, Conv, [256, 3, 2]],\n",
    "      [[-1, 14], 1, Concat, [1]],  # cat head P4\n",
    "      [-1, 3, BottleneckCSP, [512, False]],  # 20 (P4/16-medium)\n",
    "\n",
    "      [-1, 1, Conv, [512, 3, 2]],\n",
    "      [[-1, 10], 1, Concat, [1]],  # cat head P5\n",
    "      [-1, 3, BottleneckCSP, [1024, \n",
    "      False]],  # 23 (P5/32-large)\n",
    "\n",
    "      [[17, 20, 23], 1, Detect, [nc, anchors]],  # Detect(P3, P4, P5)\n",
    "      ]\"\"\"\n",
    "\n",
    "    f = open(self.yaml_file,\"w+\")\n",
    "    f.writelines(template)\n",
    "    f.close()\n",
    "\n",
    "  def train(self, epochs):\n",
    "    self.write_yaml()\n",
    "    os.chdir(\"yolov5\")\n",
    "    os.system(\"pip install -r requirements.txt\")\n",
    "    os.system(f\"python train.py --img 416 --batch 16 --epochs {epochs} --data '../data.yaml' --cfg {self.yaml_file} --weights '' --name {self.name}  --cache\")\n",
    "    os.chdir(\"..\")"
   ]
  }
 ],
 "metadata": {
  "kernelspec": {
   "display_name": "Python 3",
   "language": "python",
   "name": "python3"
  }
 },
 "nbformat": 4,
 "nbformat_minor": 0
}
