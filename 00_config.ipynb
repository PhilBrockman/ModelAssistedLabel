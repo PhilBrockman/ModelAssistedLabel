{
 "cells": [
  {
   "cell_type": "code",
   "execution_count": null,
   "metadata": {},
   "outputs": [],
   "source": [
    "# default_exp config"
   ]
  },
  {
   "cell_type": "code",
   "execution_count": null,
   "metadata": {},
   "outputs": [],
   "source": [
    "from ModelAssistedLabel.config import Defaults\n",
    "Defaults().to_root()"
   ]
  },
  {
   "cell_type": "markdown",
   "metadata": {},
   "source": [
    "# Configuration\n",
    "> DRY conviences"
   ]
  },
  {
   "cell_type": "code",
   "execution_count": null,
   "metadata": {},
   "outputs": [],
   "source": [
    "# export\n",
    "\n",
    "import json, os, shutil, ast\n",
    "\n",
    "class Defaults:\n",
    "  \"\"\"\n",
    "  Makes certain variables are very accessible across the repository. The names \n",
    "  of the variables and their respective values are stored in JSON format in \n",
    "  `./ModelAssistedLabel config.json`  \n",
    "\n",
    "  Functions defined here are also available across this project.\n",
    "  \"\"\"\n",
    "\n",
    "  def __init__(self, config_file=\"ModelAssistedLabel config.json\"):\n",
    "    self.config_file=config_file\n",
    "\n",
    "    with open(config_file, \"r\") as f:\n",
    "      indata = (json.load(f))\n",
    "    for k,v in indata.items():\n",
    "      self.__dict__[k] = v\n",
    "\n",
    "  def to_root(self):\n",
    "    \"move to the root directory\"\n",
    "    assert self.root\n",
    "    print(f\"moving to {self.root}\")\n",
    "    os.chdir(self.root)\n",
    "\n",
    "  def get_class_names(self):\n",
    "    \"Returns:  the array of names from self.data_yaml\"\n",
    "    return ast.literal_eval(self.data_yaml.split(\"\\n\")[-1].split(\":\")[1].strip())\n",
    "\n",
    "  def _itername(pre, post=\"\"):\n",
    "    \"\"\"If function terminates, returns the lowest conflict-free file path \n",
    "    formatted as '{pre}X{post}' where X is the string representation of a natural\n",
    "    number\n",
    "    \n",
    "    args:\n",
    "      pre: filename before the counter\n",
    "      post: filename after the counter\n",
    "\n",
    "    returns:\n",
    "      A unique structured filename\n",
    "    \"\"\"\n",
    "    counter = 0\n",
    "    while True:\n",
    "      counter += 1\n",
    "      fpath = f'{pre}{counter}{post}'\n",
    "      if not os.path.exists(fpath):\n",
    "        return fpath\n",
    "  \n",
    "  def __hard_reset_test_dir__(datadump, keep_folder=False):\n",
    "    \"\"\"\n",
    "    Helpful to be able to delete folders because I want to avoid name conflicts.\n",
    "\n",
    "    Args:\n",
    "      datadump: test directory. all contenst are subject to deletion\n",
    "      keep_folder: if False, will also delete the folder itself.\n",
    "    \"\"\"\n",
    "    if os.path.exists(datadump):\n",
    "      shutil.rmtree(datadump)\n",
    "      print(f\"deleted `{datadump}`\")\n",
    "    else:\n",
    "      print(f\"`{datadump}`` did not exist\")\n",
    "\n",
    "    if keep_folder:\n",
    "      os.makedirs(datadump)\n",
    "      print(f\"making `{datadump}`\")\n",
    "      assert os.path.exists(datadump)\n",
    "      assert len(os.listdir(datadump)) == 0\n",
    "    else:\n",
    "      print(f\"not making `{datadump}`\")\n",
    "      assert not os.path.exists(datadump)\n",
    "\n",
    "  def read_json(self, json_file= None):\n",
    "    \"\"\"Reads and returns the value of a json file\n",
    "    \n",
    "    Args:\n",
    "      json_file: the path to a json file. By default None is `self.config_file`\n",
    "\n",
    "    Returns:\n",
    "      the contents of the json file\n",
    "    \"\"\"\n",
    "    if json_file is None:\n",
    "      json_file = self.config_file\n",
    "    with open(json_file) as config:\n",
    "      raw = config.readlines()[0]\n",
    "      return json.loads(raw)\n",
    "\n",
    "  def save(self):\n",
    "    \"save changes made to attributes\"\n",
    "    with open(self.config_file, \"w\") as config_file:\n",
    "      json.dump(self.__dict__, config_file)\n"
   ]
  },
  {
   "cell_type": "markdown",
   "metadata": {},
   "source": [
    "make sure that autonaming works"
   ]
  },
  {
   "cell_type": "code",
   "execution_count": null,
   "metadata": {},
   "outputs": [
    {
     "name": "stdout",
     "output_type": "stream",
     "text": [
      "deleted `ipynb_tests/00_config_datadump`\n",
      "making `ipynb_tests/00_config_datadump`\n"
     ]
    },
    {
     "data": {
      "text/plain": [
       "['Defaults (1).text',\n",
       " 'Defaults (2).text',\n",
       " 'Defaults (3).text',\n",
       " 'Version - 1',\n",
       " 'Version - 2',\n",
       " 'Version - 3']"
      ]
     },
     "execution_count": null,
     "metadata": {},
     "output_type": "execute_result"
    }
   ],
   "source": [
    "datadump = \"ipynb_tests/00_config_datadump\"\n",
    "extension = \".text\"\n",
    "Defaults.__hard_reset_test_dir__(datadump, keep_folder=True)\n",
    "\n",
    "for i in range(3):\n",
    "  next_filename = Defaults._itername(pre = f\"{datadump}/Defaults (\", \n",
    "                                     post = f\"){extension}\")\n",
    "  with open(next_filename, \"w\") as outfile:\n",
    "    outfile.writelines(\"<data>\")\n",
    "\n",
    "for i in range(3):\n",
    "  next_filename = Defaults._itername(pre = f\"{datadump}/Version - \", \n",
    "                                     post = \"\")\n",
    "  with open(next_filename, \"w\") as outfile:\n",
    "    outfile.writelines(\"<data>\")\n",
    "\n",
    "files = os.listdir(datadump)\n",
    "assert len(files) == 6\n",
    "files"
   ]
  },
  {
   "cell_type": "markdown",
   "metadata": {},
   "source": [
    "**Default Values** are stored in \"ModelAssistedLabel config.json\"\n",
    "\n",
    "Every time the class is called, the config file is re-read for changes.\n",
    "\n",
    "Currently, the following attributes are then dynamically assigned to the newly-created `Default` object.\n",
    "\n",
    "* root *(parent folder of YOLOv5 repo)*\n",
    "* resource_map *(defines images as \".jpg\" and labels as \".txt\")*\n",
    "* split_ratio *(by default, 70/20/10 split of train/valid/test.)*\n",
    "* data_yaml *(from YOLOv5 repo)*\n",
    "* trainer template *(from YOLOv5 repo)*\n",
    "\n",
    "This data is generated dynamically. \n",
    "\n"
   ]
  },
  {
   "cell_type": "code",
   "execution_count": null,
   "metadata": {},
   "outputs": [
    {
     "name": "stdout",
     "output_type": "stream",
     "text": [
      "reading defaults from: ModelAssistedLabel config.json\n",
      "Attribute: config_file \n",
      "\t- Type: <class 'str'>\n",
      "Attribute: root \n",
      "\t- Type: <class 'str'>\n",
      "Attribute: split_ratio \n",
      "\t- Type: <class 'dict'>\n",
      "Attribute: data_yaml \n",
      "\t- Type: <class 'str'>\n",
      "Attribute: resource_map \n",
      "\t- Type: <class 'dict'>\n",
      "Attribute: trainer_template \n",
      "\t- Type: <class 'str'>\n"
     ]
    }
   ],
   "source": [
    "import json\n",
    "d = Defaults()\n",
    "data = d.read_json()\n",
    "for k,v in data.items():\n",
    "  print(\"Attribute:\", k, \"\\n\\t- Type:\", type(v))"
   ]
  }
 ],
 "metadata": {
  "kernelspec": {
   "display_name": "Python 3",
   "language": "python",
   "name": "python3"
  }
 },
 "nbformat": 4,
 "nbformat_minor": 0
}
