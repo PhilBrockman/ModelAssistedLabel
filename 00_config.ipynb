{
 "cells": [
  {
   "cell_type": "code",
   "execution_count": null,
   "metadata": {},
   "outputs": [],
   "source": [
    "# default_exp config"
   ]
  },
  {
   "cell_type": "code",
   "execution_count": null,
   "metadata": {},
   "outputs": [
    {
     "name": "stdout",
     "output_type": "stream",
     "text": [
      "Mounted at /content/drive\n",
      "/content/drive/MyDrive/Coding/ModelAssistedLabel\n"
     ]
    }
   ],
   "source": [
    "#hide\n",
    "from google.colab import drive\n",
    "drive.mount(\"/content/drive\")\n",
    "%cd \"/content/drive/MyDrive/Coding/ModelAssistedLabel/\""
   ]
  },
  {
   "cell_type": "markdown",
   "metadata": {},
   "source": [
    "# Configuration\n",
    "Define necesasry default values and allow for the cloning of the yolov5 repo from Ultralytics"
   ]
  },
  {
   "cell_type": "code",
   "execution_count": null,
   "metadata": {},
   "outputs": [],
   "source": [
    "# export\n",
    "\n",
    "import json\n",
    "\n",
    "class Defaults:\n",
    "  \"\"\"\n",
    "  Makes certain variables are very accessible across the repository. The names \n",
    "  of the variables and their respective values are stored in JSON format in the\n",
    "  `config_file`  \n",
    "  \"\"\"\n",
    "\n",
    "  def __init__(self, config_file=\"ModelAssistedLabel config.json\"):\n",
    "    with open(config_file, \"r\") as f:\n",
    "      indata = (json.load(f))\n",
    "    for k,v in indata.items():\n",
    "      self.__dict__[k] = v\n",
    "\n",
    "  def prepare_YOLOv5():\n",
    "    \"\"\"\n",
    "    * Clone repository if the YOLOv5 directory does not exist.\n",
    "    * Install requirements.txt\n",
    "    * Check that GPU is enabled.\n",
    "    \"\"\"\n",
    "    # safety for re-executions\n",
    "    if not os.path.exists(\"yolov5\"):\n",
    "      # clone YOLOv5 and reset to a specific git checkpoint that has been verified working\n",
    "      os.system(\"git clone https://github.com/ultralytics/yolov5\")  # clone repo\n",
    "      os.system(\"git reset --hard 68211f72c99915a15855f7b99bf5d93f5631330f\") # standardize models\n",
    "\n",
    "    # enter the yolov5 directory\n",
    "    os.chdir(\"yolov5\")\n",
    "\n",
    "    # install dependencies as necessary\n",
    "    os.system(\"pip install -qr requirements.txt\")  # install dependencies (ignore errors)\n",
    "    import torch\n",
    "\n",
    "    from IPython.display import Image, clear_output  # to display images\n",
    "    # from utils.google_utils import gdrive_download  # to download models/datasets\n",
    "\n",
    "    clear_output()\n",
    "\n",
    "    if torch.cuda.is_available():\n",
    "      print('Setup complete. Using torch %s %s' % (torch.__version__, torch.cuda.get_device_properties(0)))\n",
    "    else:\n",
    "      raise Exception(\"You need to enable your GPU access to this runtime environment\")\n",
    "\n",
    "    # return to parent directory\n",
    "    os.chdir(\"..\")"
   ]
  },
  {
   "cell_type": "markdown",
   "metadata": {},
   "source": [
    "**Default Values** are stored in \"ModelAssistedLabel config.json\"\n",
    "\n",
    "Every time the class is called, the config file is re-read for changes.\n",
    "\n",
    "Currently, the following attributes are then dynamically assigned to the newly-created `Default` object.\n",
    "\n",
    "* root *(parent folder of YOLOv5 repo)*\n",
    "* resource_map *(defines images as \".jpg\" and labels as \".txt\")*\n",
    "* split_ratio *(by default, 70/20/10 split of train/valid/test.)*\n",
    "* data_yaml *(from YOLOv5 repo)*\n",
    "* trainer template *(from YOLOv5 repo)*\n",
    "\n"
   ]
  },
  {
   "cell_type": "markdown",
   "metadata": {},
   "source": [
    "Proof of Concept:"
   ]
  },
  {
   "cell_type": "code",
   "execution_count": null,
   "metadata": {},
   "outputs": [
    {
     "name": "stdout",
     "output_type": "stream",
     "text": [
      "  * root\n",
      "  * split_ratio\n",
      "  * data_yaml\n",
      "  * resource_map\n",
      "  * trainer_template\n"
     ]
    }
   ],
   "source": [
    "print(\"\\n\".join([f\"  * {x}\" for x in Defaults().__dict__.keys()]))"
   ]
  }
 ],
 "metadata": {
  "kernelspec": {
   "display_name": "Python 3",
   "language": "python",
   "name": "python3"
  }
 },
 "nbformat": 4,
 "nbformat_minor": 0
}
