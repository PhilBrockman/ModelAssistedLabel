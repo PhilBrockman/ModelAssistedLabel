{
 "cells": [
  {
   "cell_type": "code",
   "execution_count": null,
   "metadata": {},
   "outputs": [],
   "source": [
    "# default_exp core"
   ]
  },
  {
   "cell_type": "code",
   "execution_count": null,
   "metadata": {},
   "outputs": [
    {
     "name": "stdout",
     "output_type": "stream",
     "text": [
      "Mounted at /content/drive\n"
     ]
    }
   ],
   "source": [
    "#hide\n",
    "from google.colab import drive\n",
    "drive.mount(\"/content/drive\")"
   ]
  },
  {
   "cell_type": "code",
   "execution_count": null,
   "metadata": {},
   "outputs": [
    {
     "name": "stdout",
     "output_type": "stream",
     "text": [
      "The autoreload extension is already loaded. To reload it, use:\n",
      "  %reload_ext autoreload\n",
      "/content/drive/MyDrive/Coding/ModelAssistedLabel\n"
     ]
    }
   ],
   "source": [
    "#hide \n",
    "%load_ext autoreload \n",
    "%autoreload 2\n",
    "%cd \"/content/drive/MyDrive/Coding/ModelAssistedLabel\""
   ]
  },
  {
   "cell_type": "markdown",
   "metadata": {},
   "source": [
    "# Trainer\n",
    "> Class wrapper for train.py"
   ]
  },
  {
   "cell_type": "code",
   "execution_count": null,
   "metadata": {},
   "outputs": [],
   "source": [
    "from ModelAssistedLabel.core import Defaults"
   ]
  },
  {
   "cell_type": "code",
   "execution_count": null,
   "metadata": {},
   "outputs": [],
   "source": [
    "#export\n",
    "import os, yaml\n",
    "\n",
    "class Trainer():\n",
    "  \"Write the backbone of the model to file and then run YOLOv5's train file.\"\n",
    "\n",
    "  def __init__(self, name, yaml_file = \"./yolov5/models/custom_yolov5s.yaml\"):\n",
    "    \"\"\"\n",
    "    sets the current directory to the project's root as defined in Defaults.\n",
    "\n",
    "    Args:\n",
    "      name: identifier for results\n",
    "      yaml_file: path to write the file \n",
    "    \"\"\"\n",
    "    os.chdir(Defaults().root)\n",
    "    self.yaml_file = yaml_file\n",
    "    self.name = name\n",
    "    self.template = Defaults().trainer_template\n",
    "\n",
    "  def write_yaml(self):\n",
    "    \"\"\"\n",
    "    Records YOLOv5 architecture\n",
    "    \"\"\"\n",
    "    f = open(self.yaml_file,\"w+\")\n",
    "    f.writelines(self.template)\n",
    "    f.close()\n",
    "\n",
    "  def train(self, epochs):\n",
    "    \"\"\"\n",
    "    wrapper for train.py.\n",
    "\n",
    "    Args:\n",
    "      epochs: number of iterations\n",
    "    \"\"\"\n",
    "    self.write_yaml()\n",
    "t"
   ]
  }
 ],
 "metadata": {
  "kernelspec": {
   "display_name": "Python 3",
   "language": "python",
   "name": "python3"
  }
 },
 "nbformat": 4,
 "nbformat_minor": 0
}
