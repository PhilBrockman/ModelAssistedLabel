{
 "cells": [
  {
   "cell_type": "code",
   "execution_count": null,
   "metadata": {},
   "outputs": [],
   "source": [
    "# default_exp train"
   ]
  },
  {
   "cell_type": "code",
   "execution_count": null,
   "metadata": {},
   "outputs": [
    {
     "name": "stdout",
     "output_type": "stream",
     "text": [
      "Mounted at /content/drive\n"
     ]
    }
   ],
   "source": [
    "#hide\n",
    "from google.colab import drive\n",
    "drive.mount(\"/content/drive\")"
   ]
  },
  {
   "cell_type": "code",
   "execution_count": null,
   "metadata": {},
   "outputs": [
    {
     "name": "stdout",
     "output_type": "stream",
     "text": [
      "/content/drive/MyDrive/Coding/ModelAssistedLabel\n"
     ]
    }
   ],
   "source": [
    "#hide \n",
    "# %load_ext autoreload \n",
    "# %autoreload 2\n",
    "%cd \"/content/drive/MyDrive/Coding/ModelAssistedLabel\""
   ]
  },
  {
   "cell_type": "code",
   "execution_count": null,
   "metadata": {},
   "outputs": [],
   "source": [
    "#hide\n",
    "%run \"_Synch.ipynb\""
   ]
  },
  {
   "cell_type": "markdown",
   "metadata": {},
   "source": [
    "# Training Models\n",
    "> wrapping `yolov5/train.py`"
   ]
  },
  {
   "cell_type": "markdown",
   "metadata": {},
   "source": [
    "We're building towards generating a model with a single call.\n",
    "\n",
    "`Trainer` is a fairly bare-bones wrapper built around `train.py`.\n",
    "\n",
    "`AutoWeights` is a more robust wrapper and allows for custom naming/placement of the results folder."
   ]
  },
  {
   "cell_type": "code",
   "execution_count": null,
   "metadata": {},
   "outputs": [],
   "source": [
    "# export\n",
    "from ModelAssistedLabel.config import Defaults\n",
    "import os\n",
    "\n",
    "class Trainer():\n",
    "  \"\"\"A wrapper for Ultralytic's `test.py`\n",
    "  \n",
    "  Write the backbone of the model to file and then run YOLOv5's train file.\"\"\"\n",
    "\n",
    "  def __init__(self, name, yaml_file = \"models/custom_yolov5s.yaml\"):\n",
    "    \"\"\"\n",
    "    sets the current directory to the project's root as defined in Defaults.\n",
    "\n",
    "    Args:\n",
    "      name: identifier for results\n",
    "      yaml_file: path to write the file \n",
    "    \"\"\"\n",
    "    os.chdir(Defaults().root)\n",
    "    self.yaml_file = yaml_file\n",
    "    self.name = name\n",
    "    self.template = Defaults().trainer_template\n",
    "\n",
    "  def write_yaml(self):\n",
    "    \"\"\"\n",
    "    Records YOLOv5 architecture\n",
    "    \"\"\"\n",
    "    yaml = f\"yolov5/{self.yaml_file}\"\n",
    "    if os.path.exists(yaml):\n",
    "      os.remove(yaml)\n",
    "    f = open(yaml,\"w\")\n",
    "    f.writelines(self.template)\n",
    "    f.close()\n",
    "\n",
    "  def train(self, epochs):\n",
    "    \"\"\"\n",
    "    wrapper for train.py.\n",
    "\n",
    "    Args:\n",
    "      epochs: number of iterations\n",
    "    \"\"\"\n",
    "    self.write_yaml()\n",
    "    os.chdir(\"yolov5\")\n",
    "    os.system(\"pip install -r requirements.txt\")\n",
    "    os.system(f\"python train.py --img 416 --batch 16 --epochs {epochs} --data '../data.yaml' --cfg '{self.yaml_file}' --weights '' --name '{self.name}'  --cache\")\n",
    "    os.chdir(\"..\")"
   ]
  },
  {
   "cell_type": "code",
   "execution_count": null,
   "metadata": {},
   "outputs": [],
   "source": [
    "#export\n",
    "class Resource:\n",
    "  \"\"\n",
    "  def __init__(self, path, file_type):\n",
    "    allowed_types = [\"file\", \"folder\"]\n",
    "    assert file_type in allowed_types\n",
    "    self.file_type = file_type\n",
    "    self.path = path"
   ]
  },
  {
   "cell_type": "code",
   "execution_count": null,
   "metadata": {},
   "outputs": [],
   "source": [
    "# export\n",
    "from ModelAssistedLabel.train import Trainer\n",
    "from ModelAssistedLabel.fileManagement import Generation\n",
    "from datetime import datetime\n",
    "import zipfile, shutil\n",
    "\n",
    "class AutoWeights():\n",
    "  \"\"\"Given a bag of images (.jpg) and labels (.txt) in YOLOv5 format in a repository,\n",
    "  initialize the ROOT directory with a train-valid-test split and a file needed \n",
    "  by the Ultralytics repository. Pairs are identified via having a common filename.\n",
    "\n",
    "  Then call `generate_weights` to run `train.py`. The resultant file will try to \n",
    "  be moved to the `out_dir` and if a conflict exists, a new name will be made.\n",
    "  \"\"\"\n",
    "  def __init__(self, name=\"AutoWeight <name>\", out_dir=\".\", MAX_SIZE=5, custom_split=None, data_yaml=None, verbose=True, train_path = \"yolov5/runs/train\"):\n",
    "    \"\"\"\n",
    "    Args:\n",
    "      name: helps identify this processes's generated files\n",
    "      out_dir: where the results of train.py are moved\n",
    "      MAX_SIZE: parameter for `Generation`\n",
    "      custom_spilt: paramater for `Generation`\n",
    "      data_yaml: see `Defaults`'s `data_yaml` attribute for the default value\n",
    "      verbose: Print summary information\n",
    "      train_path: path to Ultralytic's default output folder\n",
    "    \"\"\"\n",
    "    self.resource_paths = []\n",
    "    self.name = name\n",
    "    self.out_dir = out_dir\n",
    "    self.train_path = train_path\n",
    "    self.data_yaml = data_yaml\n",
    "    self.verbose = verbose\n",
    "    self.custom_split=custom_split\n",
    "    self.MAX_SIZE = MAX_SIZE\n",
    "\n",
    "  def traverse_resources(self, dirs=None):\n",
    "    if dirs is None:\n",
    "      dirs = self.resource_paths\n",
    "    for d in dirs:\n",
    "      if os.path.isdir(d):\n",
    "        self.__traverse_resources__(d, level=0)\n",
    "      else:\n",
    "        print(\"File: \", d)\n",
    "  \n",
    "  def __traverse_resources__(self, dir, level):\n",
    "    \"Iterate through the levels of each of the resource paths\"\n",
    "    if os.path.isfile(dir):\n",
    "      return dir\n",
    "    \n",
    "    #check to see if there is a directory in the dir\n",
    "    if False in [not os.path.isdir(os.path.join(dir, x)) for x in os.listdir(dir)]:\n",
    "      for x in os.listdir(dir):\n",
    "        path = os.path.join(dir, x)\n",
    "        print(\"\\t\"*level+path)\n",
    "        if not os.path.isfile(path):\n",
    "          self.__traverse_resources__(path, level=level+1)\n",
    "    #otherwise print the number of files on this leaf\n",
    "    else:\n",
    "      print(\"\\t\"*level, \">\", len(os.listdir(dir)),\"files\")\n",
    "    \n",
    "\n",
    "  def generate_weights(self, epochs, rm_local_files=False):\n",
    "    \"\"\"\n",
    "    Creates a `Trainer` object and trains for a given amount of time.\n",
    "\n",
    "    Args:\n",
    "      epochs: number of iterations (according to docs, over 3000 is not uncommon)\n",
    "      rm_local_files: if True, deletes the folders recursively in ROOT/train, ROOT/valid\n",
    "      and ROOT/test and removes ROOT/data.yaml as well.\n",
    "    \n",
    "    Returns:\n",
    "      path to the output folder of train.py\n",
    "    \"\"\"\n",
    "    t = Trainer(self.name)\n",
    "    ldir = lambda path: set(os.listdir(path))\n",
    "\n",
    "    before = ldir(self.train_path)\n",
    "    t.train(epochs)\n",
    "    after = ldir(self.train_path)\n",
    "    \n",
    "    assert len(after) == len(before)+1, {f\"files in {self.train_path}\": {\"before\": before, \"after\":after}} #only should have made one new file\n",
    "    diff = list(after - before)[0]\n",
    "\n",
    "    results_path = os.path.join(self.train_path, diff)\n",
    "    self.last_results_path = results_path\n",
    "\n",
    "    if rm_local_files:\n",
    "      self.__cleanup__()\n",
    "    return results_path\n",
    "\n",
    "  def initialize_images_from_zip(self, zipped):\n",
    "    \"\"\"\n",
    "    Assume zip file is of the following structure:\n",
    "      * data.yaml\n",
    "      * train/\n",
    "        - images/\n",
    "        - labels/\n",
    "      * valid/\n",
    "        - images/\n",
    "        - labels/\n",
    "      * test/\n",
    "        - images/\n",
    "        - labels/\n",
    "\n",
    "    Extract these 3 folders to the ROOT directorynd and move the data.yaml file to\n",
    "    the yolov5 clone. Then remove the extracted folder structure.\n",
    "\n",
    "    Args:\n",
    "      zipped: path to the zip file\n",
    "    \"\"\"\n",
    "    assert os.path.exists(zipped)\n",
    "\n",
    "    #move the contents of the zip file into postion within the ROOT directory\n",
    "    with zipfile.ZipFile(zipped, 'r') as zip_ref:\n",
    "      zip_ref.extractall(\"unzipped\")\n",
    "\n",
    "    for content in os.listdir(f\"unzipped/{folder}\"):\n",
    "      os.system(f\"mv '{os.path.join(folder, content)}' .\")\n",
    "      outpath = content\n",
    "      self.resource_paths.append(outpath)\n",
    "\n",
    "    #removed the folder that was taken out of the zip\n",
    "    shutil.rmtree(\"unzipped\")\n",
    "\n",
    "  def initialize_images_from_bag(self, bag_of_images_and_labels):\n",
    "    \"\"\"Converts a folder than contains images and labels to a format acceptable\n",
    "    by the Ultralytics.\n",
    "\n",
    "    Args:\n",
    "      bag_of_images_and_labels\n",
    "    \"\"\"\n",
    "\n",
    "    g = Generation(repo=bag_of_images_and_labels, \n",
    "                  out_dir=self.out_dir,\n",
    "                  data_yaml=self.data_yaml,\n",
    "                  verbose=self.verbose)\n",
    "    g.set_split(split_ratio=self.custom_split, MAX_SIZE=self.MAX_SIZE)  \n",
    "    g.get_split()\n",
    "    zipped = g.write_split_to_disk(descriptor=self.name)\n",
    "    self.initialize_images_from_zip(zipped)\n",
    "    os.system(f'rm -f -r \"{zipped}\"')\n",
    "    self.g = g\n",
    "\n",
    "  def __cleanup__(self):\n",
    "    \"\"\"\n",
    "    Removes all resources in `self.resource_paths` from the filesystem.\n",
    "    \"\"\"\n",
    "    for r in self.resource_paths:\n",
    "      if os.path.exists(r):\n",
    "        print('Removing: ', r)\n",
    "        os.system(f\"rm -f -r {r}\")"
   ]
  },
  {
   "cell_type": "code",
   "execution_count": null,
   "metadata": {},
   "outputs": [],
   "source": [
    "aw = AutoWeights(name=\"<AutoWeight>\", out_dir=\"ipynb_tests/02_train_datadump\", MAX_SIZE=10)"
   ]
  },
  {
   "cell_type": "code",
   "execution_count": null,
   "metadata": {},
   "outputs": [],
   "source": [
    "# aw.initialize_images_from_bag(bag_of_images_and_labels = \"./Image Repo/labeled/Final Roboflow Export (841)\")\n",
    "aw.initialize_images_from_zip(\"ipynb_tests/01_split_datadump/Final Roboflow Export (841)<01_split_all> 21-03-24 17-23-14.zip\")"
   ]
  },
  {
   "cell_type": "code",
   "execution_count": null,
   "metadata": {},
   "outputs": [
    {
     "data": {
      "text/plain": [
       "['train', 'valid', 'test', 'data.yaml']"
      ]
     },
     "execution_count": null,
     "metadata": {},
     "output_type": "execute_result"
    }
   ],
   "source": [
    "aw.resource_paths"
   ]
  },
  {
   "cell_type": "code",
   "execution_count": null,
   "metadata": {},
   "outputs": [
    {
     "name": "stdout",
     "output_type": "stream",
     "text": [
      "train/images\n",
      "\t > 231 files\n",
      "train/labels\n",
      "\t > 231 files\n",
      "valid/images\n",
      "\t > 169 files\n",
      "valid/labels\n",
      "\t > 169 files\n",
      "test/images\n",
      "\t > 83 files\n",
      "test/labels\n",
      "\t > 83 files\n",
      "File:  data.yaml\n"
     ]
    }
   ],
   "source": [
    "aw.traverse_resources()"
   ]
  },
  {
   "cell_type": "code",
   "execution_count": null,
   "metadata": {},
   "outputs": [
    {
     "name": "stdout",
     "output_type": "stream",
     "text": [
      "reading defaults from: ModelAssistedLabel config.json\n",
      "reading defaults from: ModelAssistedLabel config.json\n",
      "Removing:  train\n",
      "Removing:  valid\n",
      "Removing:  test\n",
      "Removing:  data.yaml\n",
      "CPU times: user 11.6 ms, sys: 24 ms, total: 35.5 ms\n",
      "Wall time: 2min 37s\n"
     ]
    }
   ],
   "source": [
    "%%time\n",
    "current = aw.generate_weights(30, rm_local_files=True)"
   ]
  },
  {
   "cell_type": "code",
   "execution_count": null,
   "metadata": {},
   "outputs": [],
   "source": [
    "%cat \"{current}/results.txt\""
   ]
  },
  {
   "cell_type": "code",
   "execution_count": null,
   "metadata": {},
   "outputs": [],
   "source": []
  }
 ],
 "metadata": {
  "kernelspec": {
   "display_name": "Python 3",
   "language": "python",
   "name": "python3"
  }
 },
 "nbformat": 4,
 "nbformat_minor": 0
}
