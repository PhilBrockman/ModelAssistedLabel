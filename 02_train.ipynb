{
 "cells": [
  {
   "cell_type": "code",
   "execution_count": null,
   "metadata": {},
   "outputs": [],
   "source": [
    "# default_exp train"
   ]
  },
  {
   "cell_type": "code",
   "execution_count": null,
   "metadata": {},
   "outputs": [
    {
     "name": "stdout",
     "output_type": "stream",
     "text": [
      "Mounted at /content/drive\n"
     ]
    }
   ],
   "source": [
    "#hide\n",
    "from google.colab import drive\n",
    "drive.mount(\"/content/drive\")"
   ]
  },
  {
   "cell_type": "code",
   "execution_count": null,
   "metadata": {},
   "outputs": [
    {
     "name": "stdout",
     "output_type": "stream",
     "text": [
      "/content/drive/MyDrive/Coding/ModelAssistedLabel\n"
     ]
    }
   ],
   "source": [
    "#hide \n",
    "# %load_ext autoreload \n",
    "# %autoreload 2\n",
    "%cd \"/content/drive/MyDrive/Coding/ModelAssistedLabel\""
   ]
  },
  {
   "cell_type": "markdown",
   "metadata": {},
   "source": [
    "# Training Models\n",
    "> wrapping `yolov5/train.py`"
   ]
  },
  {
   "cell_type": "markdown",
   "metadata": {},
   "source": [
    "We're building towards generating a model with a single call.\n",
    "\n",
    "`Trainer` is a fairly bare-bones wrapper built around `train.py`.\n",
    "\n",
    "`AutoWeights` is a more robust wrapper and allows for custom naming/placement of the results folder."
   ]
  },
  {
   "cell_type": "code",
   "execution_count": null,
   "metadata": {},
   "outputs": [],
   "source": [
    "# export\n",
    "from ModelAssistedLabel.config import Defaults\n",
    "import os\n",
    "\n",
    "class Trainer():\n",
    "  \"\"\"A wrapper for Ultralytic's `test.py`\n",
    "  \n",
    "  Write the backbone of the model to file and then run YOLOv5's train file.\"\"\"\n",
    "\n",
    "  def __init__(self, name, yaml_file = \"models/custom_yolov5s.yaml\"):\n",
    "    \"\"\"\n",
    "    sets the current directory to the project's root as defined in Defaults.\n",
    "\n",
    "    Args:\n",
    "      name: identifier for results\n",
    "      yaml_file: path to write the file \n",
    "    \"\"\"\n",
    "    os.chdir(Defaults().root)\n",
    "    self.yaml_file = yaml_file\n",
    "    self.name = name\n",
    "    self.template = Defaults().trainer_template\n",
    "\n",
    "  def write_yaml(self):\n",
    "    \"\"\"\n",
    "    Records YOLOv5 architecture\n",
    "    \"\"\"\n",
    "    yaml = f\"yolov5/{self.yaml_file}\"\n",
    "    if os.path.exists(yaml):\n",
    "      os.remove(yaml)\n",
    "    f = open(yaml,\"w\")\n",
    "    f.writelines(self.template)\n",
    "    f.close()\n",
    "\n",
    "  def train(self, epochs):\n",
    "    \"\"\"\n",
    "    wrapper for train.py.\n",
    "\n",
    "    Args:\n",
    "      epochs: number of iterations\n",
    "    \"\"\"\n",
    "    self.write_yaml()\n",
    "    os.chdir(\"yolov5\")\n",
    "    os.system(\"pip install -r requirements.txt\")\n",
    "    os.system(f\"python train.py --img 416 --batch 16 --epochs {epochs} --data '../data.yaml' --cfg '{self.yaml_file}' --weights '' --name '{self.name}'  --cache\")\n",
    "    os.chdir(\"..\")"
   ]
  },
  {
   "cell_type": "code",
   "execution_count": null,
   "metadata": {},
   "outputs": [],
   "source": [
    "#export\n",
    "class Resource:\n",
    "  \"\"\n",
    "  def __init__(self, path, file_type):\n",
    "    allowed_types = [\"file\", \"folder\"]\n",
    "    assert file_type in allowed_types\n",
    "    self.file_type = file_type\n",
    "    self.path = path"
   ]
  },
  {
   "cell_type": "code",
   "execution_count": null,
   "metadata": {},
   "outputs": [],
   "source": [
    "# export\n",
    "from ModelAssistedLabel.train import Trainer\n",
    "from ModelAssistedLabel.fileManagement import Generation\n",
    "from datetime import datetime\n",
    "\n",
    "class AutoWeights():\n",
    "  \"\"\"Given a bag of images (.jpg) and labels (.txt) in YOLOv5 format in a repository,\n",
    "  initialize the ROOT directory with a train-valid-test split and a file needed \n",
    "  by the Ultralytics repository. Pairs are identified via having a common filename.\n",
    "\n",
    "  Then call `generate_weights` to run `train.py`. The resultant file will try to \n",
    "  be moved to the `out_dir` and if a conflict exists, a new name will be made.\n",
    "  \"\"\"\n",
    "  def __init__(self, name=\"AutoWeight <name>\", out_dir=\".\", MAX_SIZE=5, custom_split=None, data_yaml=None, verbose=True, train_path = \"yolov5/runs/train\"):\n",
    "    \"\"\"\n",
    "    Args:\n",
    "      name: helps identify this processes's generated files\n",
    "      out_dir: where the results of train.py are moved\n",
    "      MAX_SIZE: parameter for `Generation`\n",
    "      custom_spilt: paramater for `Generation`\n",
    "      data_yaml: see `Defaults`'s `data_yaml` attribute for the default value\n",
    "      verbose: Print summary information\n",
    "      train_path: path to Ultralytic's default output folder\n",
    "    \"\"\"\n",
    "    self.resource_paths = []\n",
    "    self.name = name\n",
    "    self.out_dir = out_dir\n",
    "    self.train_path = train_path\n",
    "    self.data_yaml = data_yaml\n",
    "    self.verbose = verbose\n",
    "    self.custom_split=custom_split\n",
    "    self.MAX_SIZE = MAX_SIZE\n",
    "\n",
    "  def traverse_resources(self, dirs=None):\n",
    "    if dirs is None:\n",
    "      dirs = self.resource_paths\n",
    "    for d in dirs:\n",
    "      self.__traverse_resources__(d, level=0)\n",
    "  \n",
    "  def __traverse_resources__(self, dir, level):\n",
    "    \"Iterate through the levels of each of the resource paths\"\n",
    "    if os.path.isfile(dir):\n",
    "      return dir\n",
    "    \n",
    "    #check to see if there is a directory in the dir\n",
    "    if False in [not os.path.isdir(os.path.join(dir, x)) for x in os.listdir(dir)]:\n",
    "      for x in os.listdir(dir):\n",
    "        path = os.path.join(dir, x)\n",
    "        if not os.path.isfile(path):\n",
    "          no_folders = False\n",
    "          print(\"\\t\"*level+path)\n",
    "          traverse_resources(path, level=level+1)\n",
    "    #otherwise print the number of files on this leaf\n",
    "    else:\n",
    "      print(\"\\t\"*level, \">\", len(os.listdir(dir)),\"files\")\n",
    "    \n",
    "\n",
    "  def generate_weights(self, epochs, tidy_results=True):\n",
    "    \"\"\"\n",
    "    Creates a `Trainer` object and trains for a given amount of time.\n",
    "\n",
    "    Args:\n",
    "      epochs: number of iterations (according to docs, over 3000 is not uncommon)\n",
    "      tidy_weights: if True, remove all of the resources in `self.resources`\n",
    "    \n",
    "    Returns:\n",
    "      path to the output folder of train.py\n",
    "    \"\"\"\n",
    "    t = Trainer(self.name)\n",
    "    ldir = lambda path: set(os.listdir(path))\n",
    "\n",
    "    before = ldir(self.train_path)\n",
    "    t.train(epochs)\n",
    "    after = ldir(self.train_path)\n",
    "    \n",
    "    assert len(after) == len(before)+1, {f\"files in {self.train_path}\": {\"before\": before, \"after\":after}} #only should have made one new file\n",
    "    diff = list(after - before)[0]\n",
    "\n",
    "    results_path = os.path.join(self.train_path, diff)\n",
    "\n",
    "    if tidy_results:\n",
    "      results_path = self.__tidy_results__(results_path = results_path)\n",
    "\n",
    "    self.__cleanup__()\n",
    "    self.last_results_path = results_path\n",
    "    return results_path\n",
    "\n",
    "  def initialize_images_from_zip(self, zipped):\n",
    "    \"\"\"\n",
    "    Assume zip file is of the following structure:\n",
    "      * data.yaml\n",
    "      * train/\n",
    "        - images/\n",
    "        - labels/\n",
    "      * valid/\n",
    "        - images/\n",
    "        - labels/\n",
    "      * test/\n",
    "        - images/\n",
    "        - labels/\n",
    "\n",
    "    Extract these 3 folders to the ROOT directorynd and move the data.yaml file to\n",
    "    the yolov5 clone. Then remove the extracted folder structure.\n",
    "\n",
    "    Args:\n",
    "      zipped: path to the zip file\n",
    "    \"\"\"\n",
    "    assert os.path.exists(zipped)\n",
    "    os.system(f'unzip \"{zipped}\"') #grab data\n",
    "    folder = zipped[:-4] #remove the \".zip from the filename\n",
    "\n",
    "    #move the contents of the zip file into postion within the ROOT directory\n",
    "    for content in os.listdir(folder):\n",
    "      os.system(f\"mv '{os.path.join(folder, content)}' .\")\n",
    "      if os.path.isfile(os.path.join(folder, content)):\n",
    "        outpath = f\"./yolov5/{content}\"\n",
    "        os.system(f\"mv '{content}' '{datayaml_path}'\")\n",
    "      else:\n",
    "        outpath = content\n",
    "      self.resource_paths.append(outpath)\n",
    "\n",
    "    #removed the folder that was taken out of the zip\n",
    "    os.system(f\"rm -f -r '{folder}'\")\n",
    "\n",
    "  def initialize_images_from_bag(self, bag_of_images_and_labels):\n",
    "    \"\"\"Converts a folder than contains images and labels to a format acceptable\n",
    "    by the Ultralytics.\n",
    "\n",
    "    Args:\n",
    "      bag_of_images_and_labels\n",
    "    \"\"\"\n",
    "\n",
    "    g = Generation(repo=bag_of_images_and_labels, \n",
    "                  out_dir=self.out_dir,\n",
    "                  data_yaml=self.data_yaml,\n",
    "                  verbose=self.verbose)\n",
    "    g.set_split(split_ratio=self.custom_split, MAX_SIZE=self.MAX_SIZE)  \n",
    "    g.get_split()\n",
    "    zipped = g.write_split_to_disk(descriptor=self.name)\n",
    "    self.initialize_images_from_zip(zipped)\n",
    "    os.system(f'rm -f -r \"{zipped}\"')\n",
    "    self.g = g\n",
    "\n",
    "  def __cleanup__(self):\n",
    "    \"\"\"\n",
    "    Removes all resources in `self.resource_paths` from the filesystem.\n",
    "    \"\"\"\n",
    "    for r in self.resource_paths:\n",
    "      if os.path.exists(r):\n",
    "        print('Removing: ', r)\n",
    "        os.system(f\"rm -f -r {r}\")\n",
    "\n",
    "  def __tidy_results__(self, results_path):\n",
    "    \"\"\"\n",
    "    Moves the results to a desired directly while ensuring that no data is overwritten\n",
    "\n",
    "    Args:\n",
    "      results_path: path to the folder that has desired information\n",
    "    \n",
    "    Returns:\n",
    "      Path to the newly-moved results\n",
    "    \"\"\"      \n",
    "    default_name = os.path.join(self.out_dir, os.path.basename(results_path))\n",
    "    out = Defaults._itername(f\"{default_name} - \", \"\")\n",
    "\n",
    "    os.system(f\"mv '{results_path}' '{out}'\")\n",
    "    return out"
   ]
  },
  {
   "cell_type": "code",
   "execution_count": null,
   "metadata": {},
   "outputs": [
    {
     "name": "stdout",
     "output_type": "stream",
     "text": [
      "Converted 00_config.ipynb.\n",
      "Converted 01_split.ipynb.\n",
      "Converted 02_train.ipynb.\n",
      "Converted 03_detect.ipynb.\n",
      "Converted index.ipynb.\n"
     ]
    }
   ],
   "source": [
    "!nbdev_build_lib"
   ]
  },
  {
   "cell_type": "code",
   "execution_count": null,
   "metadata": {},
   "outputs": [
    {
     "name": "stdout",
     "output_type": "stream",
     "text": [
      "Converted 00_config.ipynb.\n",
      "Converted 01_split.ipynb.\n",
      "Converted 02_train.ipynb.\n",
      "Converted 03_detect.ipynb.\n",
      "Converted index.ipynb.\n"
     ]
    }
   ],
   "source": [
    "!nbdev_build_lib"
   ]
  },
  {
   "cell_type": "code",
   "execution_count": null,
   "metadata": {},
   "outputs": [],
   "source": [
    "aw = AutoWeights(out_dir=\"ipynb_tests/02_train_datadump\", MAX_SIZE=10)"
   ]
  },
  {
   "cell_type": "code",
   "execution_count": null,
   "metadata": {},
   "outputs": [
    {
     "name": "stdout",
     "output_type": "stream",
     "text": [
      "train/images\n",
      "\t > 7 files\n",
      "train/labels\n",
      "\t > 7 files\n",
      "valid/images\n",
      "\t > 2 files\n",
      "valid/labels\n",
      "\t > 2 files\n",
      "test/images\n",
      "\t > 1 files\n",
      "test/labels\n",
      "\t > 1 files\n"
     ]
    },
    {
     "ename": "FileNotFoundError",
     "evalue": "ignored",
     "output_type": "error",
     "traceback": [
      "\u001b[0;31m---------------------------------------------------------------------------\u001b[0m",
      "\u001b[0;31mFileNotFoundError\u001b[0m                         Traceback (most recent call last)",
      "\u001b[0;32m<ipython-input-82-056362fcf063>\u001b[0m in \u001b[0;36m<module>\u001b[0;34m()\u001b[0m\n\u001b[1;32m      1\u001b[0m \u001b[0maw\u001b[0m\u001b[0;34m.\u001b[0m\u001b[0mresource_paths\u001b[0m \u001b[0;34m=\u001b[0m \u001b[0;34m[\u001b[0m\u001b[0;34m\"train\"\u001b[0m\u001b[0;34m,\u001b[0m \u001b[0;34m\"valid\"\u001b[0m\u001b[0;34m,\u001b[0m \u001b[0;34m\"test\"\u001b[0m\u001b[0;34m,\u001b[0m \u001b[0;34m\"yolov5/data.yaml\"\u001b[0m\u001b[0;34m]\u001b[0m\u001b[0;34m\u001b[0m\u001b[0;34m\u001b[0m\u001b[0m\n\u001b[0;32m----> 2\u001b[0;31m \u001b[0maw\u001b[0m\u001b[0;34m.\u001b[0m\u001b[0mtraverse_resources\u001b[0m\u001b[0;34m(\u001b[0m\u001b[0;34m)\u001b[0m\u001b[0;34m\u001b[0m\u001b[0;34m\u001b[0m\u001b[0m\n\u001b[0m",
      "\u001b[0;32m<ipython-input-78-bc9edbf125d1>\u001b[0m in \u001b[0;36mtraverse_resources\u001b[0;34m(self, dirs)\u001b[0m\n\u001b[1;32m     36\u001b[0m       \u001b[0mdirs\u001b[0m \u001b[0;34m=\u001b[0m \u001b[0mself\u001b[0m\u001b[0;34m.\u001b[0m\u001b[0mresource_paths\u001b[0m\u001b[0;34m\u001b[0m\u001b[0;34m\u001b[0m\u001b[0m\n\u001b[1;32m     37\u001b[0m     \u001b[0;32mfor\u001b[0m \u001b[0md\u001b[0m \u001b[0;32min\u001b[0m \u001b[0mdirs\u001b[0m\u001b[0;34m:\u001b[0m\u001b[0;34m\u001b[0m\u001b[0;34m\u001b[0m\u001b[0m\n\u001b[0;32m---> 38\u001b[0;31m       \u001b[0mself\u001b[0m\u001b[0;34m.\u001b[0m\u001b[0m__traverse_resources__\u001b[0m\u001b[0;34m(\u001b[0m\u001b[0md\u001b[0m\u001b[0;34m,\u001b[0m \u001b[0mlevel\u001b[0m\u001b[0;34m=\u001b[0m\u001b[0;36m0\u001b[0m\u001b[0;34m)\u001b[0m\u001b[0;34m\u001b[0m\u001b[0;34m\u001b[0m\u001b[0m\n\u001b[0m\u001b[1;32m     39\u001b[0m \u001b[0;34m\u001b[0m\u001b[0m\n\u001b[1;32m     40\u001b[0m   \u001b[0;32mdef\u001b[0m \u001b[0m__traverse_resources__\u001b[0m\u001b[0;34m(\u001b[0m\u001b[0mself\u001b[0m\u001b[0;34m,\u001b[0m \u001b[0mdir\u001b[0m\u001b[0;34m,\u001b[0m \u001b[0mlevel\u001b[0m\u001b[0;34m)\u001b[0m\u001b[0;34m:\u001b[0m\u001b[0;34m\u001b[0m\u001b[0;34m\u001b[0m\u001b[0m\n",
      "\u001b[0;32m<ipython-input-78-bc9edbf125d1>\u001b[0m in \u001b[0;36m__traverse_resources__\u001b[0;34m(self, dir, level)\u001b[0m\n\u001b[1;32m     44\u001b[0m \u001b[0;34m\u001b[0m\u001b[0m\n\u001b[1;32m     45\u001b[0m     \u001b[0;31m#check to see if there is a directory in the dir\u001b[0m\u001b[0;34m\u001b[0m\u001b[0;34m\u001b[0m\u001b[0;34m\u001b[0m\u001b[0m\n\u001b[0;32m---> 46\u001b[0;31m     \u001b[0;32mif\u001b[0m \u001b[0;32mFalse\u001b[0m \u001b[0;32min\u001b[0m \u001b[0;34m[\u001b[0m\u001b[0;32mnot\u001b[0m \u001b[0mos\u001b[0m\u001b[0;34m.\u001b[0m\u001b[0mpath\u001b[0m\u001b[0;34m.\u001b[0m\u001b[0misdir\u001b[0m\u001b[0;34m(\u001b[0m\u001b[0mos\u001b[0m\u001b[0;34m.\u001b[0m\u001b[0mpath\u001b[0m\u001b[0;34m.\u001b[0m\u001b[0mjoin\u001b[0m\u001b[0;34m(\u001b[0m\u001b[0mdir\u001b[0m\u001b[0;34m,\u001b[0m \u001b[0mx\u001b[0m\u001b[0;34m)\u001b[0m\u001b[0;34m)\u001b[0m \u001b[0;32mfor\u001b[0m \u001b[0mx\u001b[0m \u001b[0;32min\u001b[0m \u001b[0mos\u001b[0m\u001b[0;34m.\u001b[0m\u001b[0mlistdir\u001b[0m\u001b[0;34m(\u001b[0m\u001b[0mdir\u001b[0m\u001b[0;34m)\u001b[0m\u001b[0;34m]\u001b[0m\u001b[0;34m:\u001b[0m\u001b[0;34m\u001b[0m\u001b[0;34m\u001b[0m\u001b[0m\n\u001b[0m\u001b[1;32m     47\u001b[0m       \u001b[0;32mfor\u001b[0m \u001b[0mx\u001b[0m \u001b[0;32min\u001b[0m \u001b[0mos\u001b[0m\u001b[0;34m.\u001b[0m\u001b[0mlistdir\u001b[0m\u001b[0;34m(\u001b[0m\u001b[0mdir\u001b[0m\u001b[0;34m)\u001b[0m\u001b[0;34m:\u001b[0m\u001b[0;34m\u001b[0m\u001b[0;34m\u001b[0m\u001b[0m\n\u001b[1;32m     48\u001b[0m         \u001b[0mpath\u001b[0m \u001b[0;34m=\u001b[0m \u001b[0mos\u001b[0m\u001b[0;34m.\u001b[0m\u001b[0mpath\u001b[0m\u001b[0;34m.\u001b[0m\u001b[0mjoin\u001b[0m\u001b[0;34m(\u001b[0m\u001b[0mdir\u001b[0m\u001b[0;34m,\u001b[0m \u001b[0mx\u001b[0m\u001b[0;34m)\u001b[0m\u001b[0;34m\u001b[0m\u001b[0;34m\u001b[0m\u001b[0m\n",
      "\u001b[0;31mFileNotFoundError\u001b[0m: [Errno 2] No such file or directory: 'yolov5/data.yaml'"
     ]
    }
   ],
   "source": [
    "aw.resource_paths = [\"train\", \"valid\", \"test\", \"yolov5/data.yaml\"]\n",
    "aw.traverse_resources()"
   ]
  },
  {
   "cell_type": "code",
   "execution_count": null,
   "metadata": {},
   "outputs": [
    {
     "name": "stdout",
     "output_type": "stream",
     "text": [
      "Removing:  train\n",
      "Removing:  valid\n",
      "Removing:  test\n",
      "Removing:  yolov5/data.yaml\n"
     ]
    }
   ],
   "source": [
    "aw.__cleanup__()"
   ]
  },
  {
   "cell_type": "code",
   "execution_count": null,
   "metadata": {},
   "outputs": [],
   "source": []
  },
  {
   "cell_type": "code",
   "execution_count": null,
   "metadata": {},
   "outputs": [
    {
     "name": "stdout",
     "output_type": "stream",
     "text": [
      "\n",
      "dirs ['./train', './valid', './test']\n",
      "yaml ipynb_tests/02_train_datadump/Final Roboflow Export (841)AutoWeight <name> 21-03-21 15-26-02/data.yaml\n",
      "subdir train\n",
      "\toutdir ipynb_tests/02_train_datadump/Final Roboflow Export (841)AutoWeight <name> 21-03-21 15-26-02\n",
      "subdir valid\n",
      "\toutdir ipynb_tests/02_train_datadump/Final Roboflow Export (841)AutoWeight <name> 21-03-21 15-26-02\n",
      "subdir test\n",
      "\toutdir ipynb_tests/02_train_datadump/Final Roboflow Export (841)AutoWeight <name> 21-03-21 15-26-02\n",
      "os.listdir ['train', 'valid', 'test', 'data.yaml']\n"
     ]
    }
   ],
   "source": [
    "aw.initialize_images_from_bag(bag_of_images_and_labels = \"./Image Repo/labeled/Final Roboflow Export (841)\")"
   ]
  },
  {
   "cell_type": "code",
   "execution_count": null,
   "metadata": {},
   "outputs": [
    {
     "name": "stdout",
     "output_type": "stream",
     "text": [
      "reading defaults from: ModelAssistedLabel config.json\n",
      "reading defaults from: ModelAssistedLabel config.json\n",
      "CPU times: user 1.83 ms, sys: 9.67 ms, total: 11.5 ms\n",
      "Wall time: 6.41 s\n"
     ]
    }
   ],
   "source": [
    "%%time\n",
    "current = aw.generate_weights(3)"
   ]
  },
  {
   "cell_type": "code",
   "execution_count": null,
   "metadata": {},
   "outputs": [],
   "source": [
    "  def traverse_resources(dir, level=0):\n",
    "    \"Iterate through the levels of each of the resource paths\"\n",
    "    if os.path.isfile(dir):\n",
    "      return dir\n",
    "    #check to see if there is a directory in the dir\n",
    "\n",
    "    if False in [not os.path.isdir(os.path.join(dir, x)) for x in os.listdir(dir)]:\n",
    "      for x in os.listdir(dir):\n",
    "        path = os.path.join(dir, x)\n",
    "        if not os.path.isfile(path):\n",
    "          no_folders = False\n",
    "          print(\"\\t\"*level+path)\n",
    "          traverse_resources(path, level=level+1)\n",
    "    else:\n",
    "      print(\"\\t\"*level, \">\", len(os.listdir(dir)),\"files\")\n",
    "  "
   ]
  },
  {
   "cell_type": "code",
   "execution_count": null,
   "metadata": {},
   "outputs": [
    {
     "data": {
      "text/plain": [
       "'data.yaml'"
      ]
     },
     "execution_count": null,
     "metadata": {},
     "output_type": "execute_result"
    }
   ],
   "source": [
    "traverse_resources(\"data.yaml\")"
   ]
  }
 ],
 "metadata": {
  "kernelspec": {
   "display_name": "Python 3",
   "language": "python",
   "name": "python3"
  }
 },
 "nbformat": 4,
 "nbformat_minor": 0
}
