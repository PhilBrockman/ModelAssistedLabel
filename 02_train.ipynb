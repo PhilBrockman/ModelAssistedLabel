{
 "cells": [
  {
   "cell_type": "code",
   "execution_count": null,
   "metadata": {},
   "outputs": [],
   "source": [
    "# default_exp core"
   ]
  },
  {
   "cell_type": "code",
   "execution_count": null,
   "metadata": {},
   "outputs": [
    {
     "name": "stdout",
     "output_type": "stream",
     "text": [
      "Mounted at /content/drive\n"
     ]
    }
   ],
   "source": [
    "#hide\n",
    "from google.colab import drive\n",
    "drive.mount(\"/content/drive\")"
   ]
  },
  {
   "cell_type": "code",
   "execution_count": null,
   "metadata": {},
   "outputs": [
    {
     "name": "stdout",
     "output_type": "stream",
     "text": [
      "/content/drive/MyDrive/Coding/ModelAssistedLabel\n"
     ]
    }
   ],
   "source": [
    "#hide\n",
    "%cd \"/content/drive/MyDrive/Coding/ModelAssistedLabel\""
   ]
  },
  {
   "cell_type": "markdown",
   "metadata": {},
   "source": [
    "# Trainer\n",
    "> Class wrapper for train.py"
   ]
  },
  {
   "cell_type": "code",
   "execution_count": null,
   "metadata": {},
   "outputs": [],
   "source": [
    "from ModelAssistedLabel.core import Defaults"
   ]
  },
  {
   "cell_type": "code",
   "execution_count": null,
   "metadata": {},
   "outputs": [],
   "source": [
    "#export\n",
    "import os\n",
    "\n",
    "class Trainer():\n",
    "  \"Write the backbone of the model to file and then run YOLOv5's train file.\"\n",
    "\n",
    "  def __init__(self, name, yaml_file = \"./yolov5/models/custom_yolov5s.yaml\"):\n",
    "    \"\"\"\n",
    "    sets the current directory to the project's root as defined in Defaults.\n",
    "\n",
    "    Args:\n",
    "      name: identifier for results\n",
    "      yaml_file: path to write the file \n",
    "    \"\"\"\n",
    "    os.chdir(Defaults().root)\n",
    "    self.yaml_file = yaml_file\n",
    "    self.name = name\n",
    "    self.template = Defaults().trainer_template\n",
    "\n",
    "  def write_yaml(self):\n",
    "    \"\"\"\n",
    "    Reads the number of classes from `root`/data.yaml and sets up YOLOv5.\n",
    "    \"\"\"\n",
    "    import yaml\n",
    "    with open(\"data.yaml\", 'r') as stream:\n",
    "      self.num_classes = str(yaml.safe_load(stream)['nc'])\n",
    "    if os.path.exists(self.yaml_file):\n",
    "      os.remove(self.yaml_file)\n",
    "\n",
    "    f = open(self.yaml_file,\"w+\")\n",
    "    f.writelines(self.template)\n",
    "    f.close()\n",
    "\n",
    "  def train(self, epochs):\n",
    "    \"\"\"\n",
    "    wrapper for train.py.\n",
    "\n",
    "    Args:\n",
    "      epochs: number of iterations\n",
    "    \"\"\"\n",
    "    self.write_yaml()\n",
    "    os.chdir(\"yolov5\")\n",
    "    yaml_file = self.yaml_file.replace(\"yolov5/\", \"\") #accounting for change in relative path\n",
    "    os.system(f\"python train.py --img 416 --batch 16 --epochs {epochs} --data '../data.yaml' --cfg {yaml_file} --weights '' --name {self.name}  --cache\")\n",
    "    os.chdir(\"..\")"
   ]
  }
 ],
 "metadata": {
  "kernelspec": {
   "display_name": "Python 3",
   "language": "python",
   "name": "python3"
  }
 },
 "nbformat": 4,
 "nbformat_minor": 0
}
