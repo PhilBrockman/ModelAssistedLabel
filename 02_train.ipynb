{
 "cells": [
  {
   "cell_type": "code",
   "execution_count": null,
   "metadata": {},
   "outputs": [],
   "source": [
    "# default_exp train"
   ]
  },
  {
   "cell_type": "code",
   "execution_count": null,
   "metadata": {},
   "outputs": [
    {
     "name": "stdout",
     "output_type": "stream",
     "text": [
      "Mounted at /content/drive\n"
     ]
    }
   ],
   "source": [
    "#hide\n",
    "from google.colab import drive\n",
    "drive.mount(\"/content/drive\")"
   ]
  },
  {
   "cell_type": "code",
   "execution_count": null,
   "metadata": {},
   "outputs": [
    {
     "name": "stdout",
     "output_type": "stream",
     "text": [
      "/content/drive/MyDrive/Coding/ModelAssistedLabel\n"
     ]
    }
   ],
   "source": [
    "#hide \n",
    "# %load_ext autoreload \n",
    "# %autoreload 2\n",
    "%cd \"/content/drive/MyDrive/Coding/ModelAssistedLabel\""
   ]
  },
  {
   "cell_type": "markdown",
   "metadata": {},
   "source": [
    "# Training Models\n",
    "> wrapping `yolov5/train.py`"
   ]
  },
  {
   "cell_type": "markdown",
   "metadata": {},
   "source": [
    "We're building towards generating a model with a single call.\n",
    "\n",
    "`Trainer` is a fairly bare-bones wrapper built around `train.py`.\n",
    "\n",
    "`AutoWeights` is a more robust wrapper and allows for custom naming/placement of the results folder."
   ]
  },
  {
   "cell_type": "code",
   "execution_count": null,
   "metadata": {},
   "outputs": [],
   "source": [
    "# export\n",
    "from ModelAssistedLabel.config import Defaults\n",
    "import os\n",
    "\n",
    "class Trainer():\n",
    "  \"\"\"A wrapper for Ultralytic's `test.py`\n",
    "  \n",
    "  Write the backbone of the model to file and then run YOLOv5's train file.\"\"\"\n",
    "\n",
    "  def __init__(self, name, yaml_file = \"models/custom_yolov5s.yaml\"):\n",
    "    \"\"\"\n",
    "    sets the current directory to the project's root as defined in Defaults.\n",
    "\n",
    "    Args:\n",
    "      name: identifier for results\n",
    "      yaml_file: path to write the file \n",
    "    \"\"\"\n",
    "    os.chdir(Defaults().root)\n",
    "    self.yaml_file = yaml_file\n",
    "    self.name = name\n",
    "    self.template = Defaults().trainer_template\n",
    "\n",
    "  def write_yaml(self):\n",
    "    \"\"\"\n",
    "    Records YOLOv5 architecture\n",
    "    \"\"\"\n",
    "    f = open(f\"yolov5/{self.yaml_file}\",\"w+\")\n",
    "    f.writelines(self.template)\n",
    "    f.close()\n",
    "\n",
    "  def train(self, epochs):\n",
    "    \"\"\"\n",
    "    wrapper for train.py.\n",
    "\n",
    "    Args:\n",
    "      epochs: number of iterations\n",
    "    \"\"\"\n",
    "    self.write_yaml()\n",
    "    os.chdir(\"yolov5\")\n",
    "    os.system(\"pip install -r requirements.txt\")\n",
    "    os.system(f\"python train.py --img 416 --batch 16 --epochs {epochs} --data '../data.yaml' --cfg {self.yaml_file} --weights '' --name {self.name}  --cache\")\n",
    "    os.chdir(\"..\")"
   ]
  },
  {
   "cell_type": "code",
   "execution_count": null,
   "metadata": {},
   "outputs": [
    {
     "name": "stdout",
     "output_type": "stream",
     "text": [
      "Converted 00_config.ipynb.\n",
      "Converted 01_split.ipynb.\n",
      "Converted 02_train.ipynb.\n",
      "Converted 03_detect.ipynb.\n",
      "Converted index.ipynb.\n"
     ]
    }
   ],
   "source": [
    "!nbdev_build_lib"
   ]
  },
  {
   "cell_type": "code",
   "execution_count": null,
   "metadata": {},
   "outputs": [],
   "source": [
    "# export\n",
    "from ModelAssistedLabel.train import Trainer\n",
    "from ModelAssistedLabel.fileManagement import Generation\n",
    "from datetime import datetime\n",
    "\n",
    "class AutoWeights():\n",
    "  \"\"\"Given a bag of images (.jpg) and labels (.txt) in YOLOv5 format in a repository,\n",
    "  initialize the ROOT directory with a train-valid-test split and a file needed \n",
    "  by the Ultralytics repository. Pairs are identified if `image[:-4] == label[:-4]`\n",
    "\n",
    "  Then call `generate_weights` to run `train.py`. The resultant file will try to \n",
    "  be moved to the `out_dir` and if a conflict exists, a new name will be made.\n",
    "  \"\"\"\n",
    "  def __init__(self, origin_images_dir, name=\"AutoWeight <name>\", out_dir=\".\", MAX_SIZE=5, custom_data_yaml=None, verbose=True, train_path = \"yolov5/runs/train\"):\n",
    "    \"\"\"\n",
    "    Args:\n",
    "      origin_images_dir: location of the bag of images/labels\n",
    "      out_dir: where the results of train.py are moved\n",
    "      MAX_SIZE: parameter for `Generation`\n",
    "      custom_data_yaml: see `Defaults`'s `data_yaml` for the default value\n",
    "      verbose: Print summary information\n",
    "      train_path: path to Ultralytic's default output folder\n",
    "    \"\"\"\n",
    "    self.resource_paths = [\"test/\", \"train/\", \"valid/\"]\n",
    "    self.origin_images_dir = origin_images_dir\n",
    "    self.name = name\n",
    "    self.out_dir = out_dir\n",
    "    self.train_path = train_path\n",
    "    self.custom_data_yaml = custom_data_yaml\n",
    "    self.g = Generation(repo=self.origin_images_dir, out_dir=self.out_dir, data_yaml=self.custom_data_yaml)\n",
    "    \n",
    "    for r in self.resource_paths:\n",
    "      if os.path.exists(r):\n",
    "        listdir = len(os.listdir(r))\n",
    "      else:\n",
    "        listdir = \"n/a\"\n",
    "\n",
    "      print('Directory:', r, \"|\" , str(listdir),\"files\")\n",
    "      found = []\n",
    "\n",
    "    for r in self.resource_paths: #make sure none of these paths already exist\n",
    "      if os.path.exists(r):\n",
    "        found.append(r)\n",
    "    \n",
    "\n",
    "  def generate_weights(self, epochs, tidy_weights=True, MAX_SIZE=None):\n",
    "    \"\"\"\n",
    "    Creates a `Trainer` object and trains for a given amount of time.\n",
    "\n",
    "    Args:\n",
    "      epochs: number of iterations (according to docs, over 3000 is not uncommon)\n",
    "      tidy_weights: if True, remove all of the resources in `self.resources`\n",
    "    \n",
    "    Returns:\n",
    "      path to the output folder of train.py\n",
    "    \"\"\"\n",
    "    override = True\n",
    "    if len(found) > 0:\n",
    "      override = len(input(f\"Folders '{found}' exists. Press 'Enter' to leave the files alone, enter anything at all to potentially overwrite\")) > 0\n",
    "      \n",
    "    #automatically build the resource paths and prepare for traniing\n",
    "    self.__prepare_split__(MAX_SIZE=MAX_SIZE, data_yaml=self.custom_data_yaml, verbose=self.verbose, override=override)\n",
    "\n",
    "    t = Trainer(self.name)\n",
    "    ldir = lambda path: set(os.listdir(path))\n",
    "\n",
    "    before = ldir(self.train_path)\n",
    "    t.train(epochs)\n",
    "    after = ldir(self.train_path)\n",
    "    \n",
    "    assert len(after) == len(before)+1 #only should have made one new file\n",
    "    diff = list(after - before)[0]\n",
    "\n",
    "    results_path = os.path.join(self.train_path, diff)\n",
    "\n",
    "    if tidy_weights:\n",
    "      results_path = self.__tidy_weights__(results_path = results_path)\n",
    "\n",
    "    self.__cleanup__()\n",
    "    self.last_results_path = results_path\n",
    "    return results_path\n",
    "\n",
    "  def __prepare_split__(self, MAX_SIZE, data_yaml, verbose, override):\n",
    "    \"\"\"\n",
    "    Gets the local filesystem ready to run the wrapper for \"train.py\".\n",
    "\n",
    "    Args:\n",
    "      MAX_SIZE:\n",
    "      data_yaml:\n",
    "      verbose: print summary information for the split\n",
    "    \"\"\"  \n",
    "    if data_yaml is None:\n",
    "      data_yaml = Defaults().data_yaml\n",
    "    \n",
    "    if override:\n",
    "      self.g.set_split(MAX_SIZE=MAX_SIZE)\n",
    "      self.__split_and_organize_folders__(verbose=verbose)\n",
    "    else:\n",
    "      self.g.set_split_from_disk()\n",
    "  \n",
    "  def __split_and_organize_folders__(self, verbose):\n",
    "    \"\"\"\n",
    "    Assume zip file contains 4 items:\n",
    "      * data.yaml\n",
    "      * train/\n",
    "      * valid/\n",
    "      * test/\n",
    "\n",
    "    Extract these 4 resources to the ROOT directory and remove the original \n",
    "    part of the file.\n",
    "\n",
    "    Args:\n",
    "      verbose: print summary information about the split\n",
    "    \"\"\"\n",
    "    assert self.g is not None\n",
    "    assert self.g.split is not None\n",
    "\n",
    "    def tostr(split):\n",
    "      return [{k: len(v)} for k,v in split.items()]\n",
    "    def sumg(split):\n",
    "      return sum([list(x.values())[0] for x in tostr(split)])\n",
    "    if verbose:\n",
    "      print(\"summary: \", tostr(self.g.split))\n",
    "      print(\"checksum:\", sumg(self.g.split))\n",
    "\n",
    "    zipped = self.g.write_split_to_disk(self.name) #create a zip file in the ROOT directory\n",
    "    local = os.path.basename(zipped)\n",
    "    os.system(f'unzip \"{local}\"') #grab data\n",
    "    #move the contents of the zip file into postion within the ROOT directory\n",
    "    for content in self.resource_paths:\n",
    "      os.system(f\"mv '{local[:-4]}/{content}' .\")\n",
    "    #remove zip file\n",
    "    os.system(f\"rm -f -r '{local}'\")\n",
    "    #removed the folder that was taken out of the zip\n",
    "    os.system(f\"rm -f -r '{local[:-4]}'\")\n",
    "\n",
    "  def __cleanup__(self):\n",
    "    \"\"\"\n",
    "    Removes all resources in `self.resource_paths` from the filesystem.\n",
    "    \"\"\"\n",
    "    for r in self.resource_paths:\n",
    "      os.system(f\"rm -f -r {r}\")\n",
    "\n",
    "  def __tidy_weights__(self, results_path):\n",
    "    \"\"\"\n",
    "    Moves the results to a desired directly while ensuring that no data is overwritten\n",
    "\n",
    "    Args:\n",
    "      results_path: path to the folder that has desired information\n",
    "    \n",
    "    Returns:\n",
    "      Path to the newly-moved results\n",
    "    \"\"\"      \n",
    "    while True:\n",
    "      now = datetime.now()\n",
    "      out = f\"{os.path.basename(results_path)}-{now.strftime('%f')}\" #basename + \"random\" string\n",
    "      outfolder = os.path.join(self.out_dir, out)\n",
    "      if not os.path.exists(outfolder): #only stops if a unique name has been found\n",
    "        break\n",
    "    os.system(f\"mv '{results_path}' '{outfolder}'\")\n",
    "    return outfolder"
   ]
  },
  {
   "cell_type": "code",
   "execution_count": null,
   "metadata": {},
   "outputs": [
    {
     "name": "stdout",
     "output_type": "stream",
     "text": [
      "Directory: test/ | n/a files\n",
      "Directory: train/ | n/a files\n",
      "Directory: valid/ | n/a files\n"
     ]
    }
   ],
   "source": [
    "aw = AutoWeights(\"./Image Repo/labeled/Final Roboflow Export (841)\")"
   ]
  },
  {
   "cell_type": "code",
   "execution_count": null,
   "metadata": {},
   "outputs": [],
   "source": [
    "aw.g.split  "
   ]
  },
  {
   "cell_type": "code",
   "execution_count": null,
   "metadata": {},
   "outputs": [],
   "source": []
  }
 ],
 "metadata": {
  "kernelspec": {
   "display_name": "Python 3",
   "language": "python",
   "name": "python3"
  }
 },
 "nbformat": 4,
 "nbformat_minor": 0
}
