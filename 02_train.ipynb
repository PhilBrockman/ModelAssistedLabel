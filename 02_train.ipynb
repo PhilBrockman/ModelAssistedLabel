{
 "cells": [
  {
   "cell_type": "code",
   "execution_count": null,
   "metadata": {},
   "outputs": [],
   "source": [
    "# default_exp train"
   ]
  },
  {
   "cell_type": "code",
   "execution_count": null,
   "metadata": {},
   "outputs": [
    {
     "name": "stdout",
     "output_type": "stream",
     "text": [
      "Drive already mounted at /content/drive; to attempt to forcibly remount, call drive.mount(\"/content/drive\", force_remount=True).\n"
     ]
    }
   ],
   "source": [
    "#hide\n",
    "from google.colab import drive\n",
    "drive.mount(\"/content/drive\")"
   ]
  },
  {
   "cell_type": "code",
   "execution_count": null,
   "metadata": {},
   "outputs": [
    {
     "name": "stdout",
     "output_type": "stream",
     "text": [
      "/content/drive/MyDrive/Coding/ModelAssistedLabel\n"
     ]
    }
   ],
   "source": [
    "#hide \n",
    "# %load_ext autoreload \n",
    "# %autoreload 2\n",
    "%cd \"/content/drive/MyDrive/Coding/ModelAssistedLabel\""
   ]
  },
  {
   "cell_type": "markdown",
   "metadata": {},
   "source": [
    "# Training Models\n",
    "> wrapping `yolov5/train.py`"
   ]
  },
  {
   "cell_type": "markdown",
   "metadata": {},
   "source": [
    "We're building towards generating a model with a single call.\n",
    "\n",
    "`Trainer` is a fairly bare-bones wrapper built around `train.py`.\n",
    "\n",
    "`AutoWeights` is a more robust wrapper and allows for custom naming/placement of the results folder."
   ]
  },
  {
   "cell_type": "code",
   "execution_count": null,
   "metadata": {},
   "outputs": [],
   "source": [
    "# export\n",
    "from ModelAssistedLabel.config import Defaults\n",
    "import os\n",
    "\n",
    "class Trainer():\n",
    "  \"\"\"A wrapper for Ultralytic's `test.py`\n",
    "  \n",
    "  Write the backbone of the model to file and then run YOLOv5's train file.\"\"\"\n",
    "\n",
    "  def __init__(self, name, yaml_file = \"models/custom_yolov5s.yaml\"):\n",
    "    \"\"\"\n",
    "    sets the current directory to the project's root as defined in Defaults.\n",
    "\n",
    "    Args:\n",
    "      name: identifier for results\n",
    "      yaml_file: path to write the file \n",
    "    \"\"\"\n",
    "    os.chdir(Defaults().root)\n",
    "    self.yaml_file = yaml_file\n",
    "    self.name = name\n",
    "    self.template = Defaults().trainer_template\n",
    "\n",
    "  def write_yaml(self):\n",
    "    \"\"\"\n",
    "    Records YOLOv5 architecture\n",
    "    \"\"\"\n",
    "    yaml = f\"yolov5/{self.yaml_file}\"\n",
    "    if os.path.exists(yaml):\n",
    "      os.remove(yaml)\n",
    "    f = open(yaml,\"w\")\n",
    "    f.writelines(self.template)\n",
    "    f.close()\n",
    "\n",
    "  def train(self, epochs):\n",
    "    \"\"\"\n",
    "    wrapper for train.py.\n",
    "\n",
    "    Args:\n",
    "      epochs: number of iterations\n",
    "    \"\"\"\n",
    "    self.write_yaml()\n",
    "    os.chdir(\"yolov5\")\n",
    "    os.system(\"pip install -r requirements.txt\")\n",
    "    os.system(f\"python train.py --img 416 --batch 16 --epochs {epochs} --data '../data.yaml' --cfg '{self.yaml_file}' --weights '' --name '{self.name}'  --cache\")\n",
    "    os.chdir(\"..\")"
   ]
  },
  {
   "cell_type": "code",
   "execution_count": null,
   "metadata": {},
   "outputs": [],
   "source": [
    "# export\n",
    "from ModelAssistedLabel.train import Trainer\n",
    "from ModelAssistedLabel.fileManagement import Generation\n",
    "from datetime import datetime\n",
    "\n",
    "class AutoWeights():\n",
    "  \"\"\"Given a bag of images (.jpg) and labels (.txt) in YOLOv5 format in a repository,\n",
    "  initialize the ROOT directory with a train-valid-test split and a file needed \n",
    "  by the Ultralytics repository. Pairs are identified via having a common filename.\n",
    "\n",
    "  Then call `generate_weights` to run `train.py`. The resultant file will try to \n",
    "  be moved to the `out_dir` and if a conflict exists, a new name will be made.\n",
    "  \"\"\"\n",
    "  def __init__(self, name=\"AutoWeight <name>\", out_dir=\".\", MAX_SIZE=5, custom_split=None, custom_data_yaml=None, verbose=True, train_path = \"yolov5/runs/train\"):\n",
    "    \"\"\"\n",
    "    Args:\n",
    "      out_dir: where the results of train.py are moved\n",
    "      MAX_SIZE: parameter for `Generation`\n",
    "      custom_data_yaml: see `Defaults`'s `data_yaml` for the default value\n",
    "      verbose: Print summary information\n",
    "      train_path: path to Ultralytic's default output folder\n",
    "    \"\"\"\n",
    "    self.resource_paths = [\"test/\", \"train/\", \"valid/\"]\n",
    "    self.name = name\n",
    "    self.out_dir = out_dir\n",
    "    self.train_path = train_path\n",
    "    if custom_data_yaml is None:\n",
    "      custom_data_yaml = Defaults().data_yaml\n",
    "    self.custom_data_yaml = custom_data_yaml\n",
    "    self.verbose = verbose\n",
    "    self.custom_split=custom_split\n",
    "    self.MAX_SIZE = MAX_SIZE\n",
    "\n",
    "    found = []\n",
    "    for r in self.resource_paths:\n",
    "      if os.path.exists(r):\n",
    "        found.append(r)\n",
    "    if len(found) > 0:\n",
    "      print(\"found resources:\", found)\n",
    "  \n",
    "  def traverse_resources(self):\n",
    "    for r in self.resource_paths:\n",
    "      if os.path.exists(r):\n",
    "        listdir = len(os.listdir(r))\n",
    "        for subdir in os.listdir(r):\n",
    "          print('Directory:', os.path.join(r, subdir), \"|\" , len(os.listdir(os.path.join(r, subdir))),\"files\")\n",
    "      else:\n",
    "        listdir = \"n/a\"\n",
    "      print('Directory:', r, \"|\" , str(listdir),\"files\")\n",
    "\n",
    "  def generate_weights(self, epochs, tidy_weights=True):\n",
    "    \"\"\"\n",
    "    Creates a `Trainer` object and trains for a given amount of time.\n",
    "\n",
    "    Args:\n",
    "      epochs: number of iterations (according to docs, over 3000 is not uncommon)\n",
    "      tidy_weights: if True, remove all of the resources in `self.resources`\n",
    "    \n",
    "    Returns:\n",
    "      path to the output folder of train.py\n",
    "    \"\"\"\n",
    "    t = Trainer(self.name)\n",
    "    ldir = lambda path: set(os.listdir(path))\n",
    "\n",
    "    before = ldir(self.train_path)\n",
    "    t.train(epochs)\n",
    "    after = ldir(self.train_path)\n",
    "    \n",
    "    assert len(after) == len(before)+1 #only should have made one new file\n",
    "    diff = list(after - before)[0]\n",
    "\n",
    "    results_path = os.path.join(self.train_path, diff)\n",
    "\n",
    "    if tidy_weights:\n",
    "      results_path = self.__tidy_weights__(results_path = results_path)\n",
    "\n",
    "    self.__cleanup__()\n",
    "    self.last_results_path = results_path\n",
    "    return results_path\n",
    "\n",
    "  def __prepare_split__(self, data_yaml, verbose, override):\n",
    "    \"\"\"\n",
    "    Gets the local filesystem ready to run the wrapper for \"train.py\".\n",
    "\n",
    "    Args:\n",
    "      data_yaml:\n",
    "      verbose: print summary information for the split\n",
    "    \"\"\"  \n",
    "    if data_yaml is None:\n",
    "      data_yaml = Defaults().data_yaml\n",
    "    \n",
    "    if override:\n",
    "      self.g.set_split(MAX_SIZE=self.MAX_SIZE)\n",
    "      zipped = self.g.write_split_to_disk(self.name) #create a zip file\n",
    "      self.__split_and_organize_folders__(zipped=zipped)\n",
    "    else:\n",
    "      self.g.set_split_from_disk()\n",
    "  \n",
    "  def initialize_images_from_zip(self, zipped):\n",
    "    \"\"\"\n",
    "    Assume zip file is of the following structure:\n",
    "      * data.yaml\n",
    "      * train/\n",
    "        - images/\n",
    "        - labels/\n",
    "      * valid/\n",
    "        - images/\n",
    "        - labels/\n",
    "      * test/\n",
    "        - images/\n",
    "        - labels/\n",
    "\n",
    "    Extract these 4 resources to the ROOT directory and remove the original \n",
    "    part of the file.\n",
    "\n",
    "    Args:\n",
    "      verbose: print summary information about the split\n",
    "    \"\"\"\n",
    "    assert os.path.exists(zipped)\n",
    "    os.system(f'unzip \"{zipped}\"') #grab data\n",
    "    folder = zipped[:-4] #remove the \".zip from the filename\n",
    "\n",
    "    #move the contents of the zip file into postion within the ROOT directory\n",
    "    for content in os.listdir(folder):\n",
    "      os.system(f\"mv '{os.path.join(folder, content)}' .\")\n",
    "      if os.path.isfile(os.path.join(folder, content)):\n",
    "        os.system(f\"mv '{content} ./yolov5/{content}\")\n",
    "\n",
    "    #removed the folder that was taken out of the zip\n",
    "    os.system(f\"rm -f -r '{folder}'\")\n",
    "\n",
    "  def initialize_images_from_bag(self, bag_of_images_and_labels):\n",
    "    g = Generation(repo=bag_of_images_and_labels, \n",
    "                  out_dir=self.out_dir,\n",
    "                  data_yaml=self.custom_data_yaml,\n",
    "                  verbose=self.verbose)\n",
    "    g.set_split(split_ratio=self.custom_split, MAX_SIZE=self.MAX_SIZE)  \n",
    "    g.get_split()\n",
    "    zipped = g.write_split_to_disk(descriptor=self.name)\n",
    "    self.initialize_images_from_zip(zipped)\n",
    "    os.system(f'rm -f -r \"{zipped}\"')\n",
    "    self.g = g\n",
    "\n",
    "  def __cleanup__(self):\n",
    "    \"\"\"\n",
    "    Removes all resources in `self.resource_paths` from the filesystem.\n",
    "    \"\"\"\n",
    "    for r in self.resource_paths:\n",
    "      if os.path.exists(r):\n",
    "        print('Removing: ', r)\n",
    "        os.system(f\"rm -f -r {r}\")\n",
    "\n",
    "  def __tidy_weights__(self, results_path):\n",
    "    \"\"\"\n",
    "    Moves the results to a desired directly while ensuring that no data is overwritten\n",
    "\n",
    "    Args:\n",
    "      results_path: path to the folder that has desired information\n",
    "    \n",
    "    Returns:\n",
    "      Path to the newly-moved results\n",
    "    \"\"\"      \n",
    "    default_name = os.path.join(self.out_dir, os.path.basename(results_path))\n",
    "    out = Defaults._itername(f\"{default_name} - \", \"\")\n",
    "\n",
    "    os.system(f\"mv '{results_path}' '{out}'\")\n",
    "    return out"
   ]
  },
  {
   "cell_type": "code",
   "execution_count": null,
   "metadata": {},
   "outputs": [
    {
     "name": "stdout",
     "output_type": "stream",
     "text": [
      "reading defaults from: ModelAssistedLabel config.json\n"
     ]
    }
   ],
   "source": [
    "aw = AutoWeights(out_dir=\"ipynb_tests/02_train_datadump\", MAX_SIZE=10)\n",
    "aw.__cleanup__()"
   ]
  },
  {
   "cell_type": "code",
   "execution_count": null,
   "metadata": {},
   "outputs": [
    {
     "name": "stdout",
     "output_type": "stream",
     "text": [
      "call `set_split` before `write_files_to_disk`\n",
      "(1) copying: ./Image Repo/labeled/Final Roboflow Export (841)/images/digittake-153-jpg_jpg.rf.c540375397ac13ca361faf4acc756a30.jpg\n",
      "(2) copying: ./Image Repo/labeled/Final Roboflow Export (841)/labels/digittake-153-jpg_jpg.rf.c540375397ac13ca361faf4acc756a30.txt\n",
      "(3) copying: ./Image Repo/labeled/Final Roboflow Export (841)/images/digittake-344-jpg_jpg.rf.cbe8fd13bf132dbb26a2ba0611d29c8f.jpg\n",
      "(4) copying: ./Image Repo/labeled/Final Roboflow Export (841)/labels/digittake-344-jpg_jpg.rf.cbe8fd13bf132dbb26a2ba0611d29c8f.txt\n",
      "(5) copying: ./Image Repo/labeled/Final Roboflow Export (841)/images/screenytake-68-jpg-cropped-jpg_jpg.rf.18795a8477f8df71ca5fb0e37bfff959.jpg\n",
      "(6) copying: ./Image Repo/labeled/Final Roboflow Export (841)/labels/screenytake-68-jpg-cropped-jpg_jpg.rf.18795a8477f8df71ca5fb0e37bfff959.txt\n",
      "(7) copying: ./Image Repo/labeled/Final Roboflow Export (841)/images/save_dirrcropped-jpg_jpg.rf.127f02f69b5f5146c1376b9b592d58c7.jpg\n",
      "(8) copying: ./Image Repo/labeled/Final Roboflow Export (841)/labels/save_dirrcropped-jpg_jpg.rf.127f02f69b5f5146c1376b9b592d58c7.txt\n",
      "(9) copying: ./Image Repo/labeled/Final Roboflow Export (841)/images/digittake-76-jpg_jpg.rf.4d5c6aebb6f1c7c484985a199441fbf6.jpg\n",
      "(10) copying: ./Image Repo/labeled/Final Roboflow Export (841)/labels/digittake-76-jpg_jpg.rf.4d5c6aebb6f1c7c484985a199441fbf6.txt\n",
      "(11) copying: ./Image Repo/labeled/Final Roboflow Export (841)/images/save_dirrtake-10_jpg_cropped-jpg_jpg.rf.b3d3f63afb0a3ce8c29b8c3fba50faee.jpg\n",
      "(12) copying: ./Image Repo/labeled/Final Roboflow Export (841)/labels/save_dirrtake-10_jpg_cropped-jpg_jpg.rf.b3d3f63afb0a3ce8c29b8c3fba50faee.txt\n",
      "(13) copying: ./Image Repo/labeled/Final Roboflow Export (841)/images/save_dirrcropped-jpg_jpg.rf.340eb8ea3c457536f9ca160912bf907b.jpg\n",
      "(14) copying: ./Image Repo/labeled/Final Roboflow Export (841)/labels/save_dirrcropped-jpg_jpg.rf.340eb8ea3c457536f9ca160912bf907b.txt\n",
      "(15) copying: ./Image Repo/labeled/Final Roboflow Export (841)/images/digittake-143-jpg_jpg.rf.b9289ee63ea678e66b7c5e3279296952.jpg\n",
      "(16) copying: ./Image Repo/labeled/Final Roboflow Export (841)/labels/digittake-143-jpg_jpg.rf.b9289ee63ea678e66b7c5e3279296952.txt\n",
      "(17) copying: ./Image Repo/labeled/Final Roboflow Export (841)/images/digittake-151-jpg_jpg.rf.f6e065d32fe53673953536f16900f4d5.jpg\n",
      "(18) copying: ./Image Repo/labeled/Final Roboflow Export (841)/labels/digittake-151-jpg_jpg.rf.f6e065d32fe53673953536f16900f4d5.txt\n",
      "(19) copying: ./Image Repo/labeled/Final Roboflow Export (841)/images/save_dirrsave_dirr4c14ffddd8e9ca7b4a833ab8ce146301fc2c88b6-jpg-jpg_jpg.rf.9f09281424248a4b57fb4419d3b795aa.jpg\n",
      "(20) copying: ./Image Repo/labeled/Final Roboflow Export (841)/labels/save_dirrsave_dirr4c14ffddd8e9ca7b4a833ab8ce146301fc2c88b6-jpg-jpg_jpg.rf.9f09281424248a4b57fb4419d3b795aa.txt\n",
      "dirs ['./train', './valid', './test']\n",
      "yaml ipynb_tests/02_train_datadump/Final Roboflow Export (841)AutoWeight <name> 21-03-21 02-23-11/data.yaml\n",
      "subdir train\n",
      "\toutdir ipynb_tests/02_train_datadump/Final Roboflow Export (841)AutoWeight <name> 21-03-21 02-23-11\n",
      "subdir valid\n",
      "\toutdir ipynb_tests/02_train_datadump/Final Roboflow Export (841)AutoWeight <name> 21-03-21 02-23-11\n",
      "subdir test\n",
      "\toutdir ipynb_tests/02_train_datadump/Final Roboflow Export (841)AutoWeight <name> 21-03-21 02-23-11\n",
      "os.listdir ['train', 'valid', 'test', 'data.yaml']\n"
     ]
    }
   ],
   "source": [
    "aw.initialize_images_from_bag(bag_of_images_and_labels = \"./Image Repo/labeled/Final Roboflow Export (841)\")"
   ]
  },
  {
   "cell_type": "code",
   "execution_count": null,
   "metadata": {},
   "outputs": [
    {
     "name": "stdout",
     "output_type": "stream",
     "text": [
      "reading defaults from: ModelAssistedLabel config.json\n",
      "reading defaults from: ModelAssistedLabel config.json\n",
      "CPU times: user 1.83 ms, sys: 9.67 ms, total: 11.5 ms\n",
      "Wall time: 6.41 s\n"
     ]
    }
   ],
   "source": [
    "%%time\n",
    "current = aw.generate_weights(3)"
   ]
  },
  {
   "cell_type": "code",
   "execution_count": null,
   "metadata": {},
   "outputs": [
    {
     "name": "stdout",
     "output_type": "stream",
     "text": [
      " 00_config.ipynb\n",
      " 01_split.ipynb\n",
      " 02_train.ipynb\n",
      " 03_detect.ipynb\n",
      "'AutoWeight <name>-160068'\n",
      "'AutoWeight <name>2 - 1'\n",
      "'AutoWeight <name>-277648'\n",
      "'AutoWeight <name>-603604'\n",
      "'_capture input.ipynb'\n",
      " CONTRIBUTING.md\n",
      " data.yaml\n",
      " docker-compose.yml\n",
      " docs\n",
      "'Final Roboflow Export (841)AutoWeight <name> 21-03-21 01-57-37'\n",
      "'Final Roboflow Export (841)AutoWeight <name> 21-03-21 01-57-37.zip'\n",
      "'Final Roboflow Export (841)AutoWeight <name> 21-03-21 01-58-39'\n",
      "'Final Roboflow Export (841)AutoWeight <name> 21-03-21 01-58-39.zip'\n",
      " fromIndex-296227\n",
      "'Image Repo'\n",
      " index.ipynb\n",
      " ipynb_tests\n",
      " LICENSE\n",
      " Makefile\n",
      " MANIFEST.in\n",
      " ModelAssistedLabel\n",
      "'ModelAssistedLabel config.json'\n",
      "'pre-trained weights'\n",
      " README.md\n",
      " settings.ini\n",
      " setup.py\n",
      " _Synch.ipynb\n",
      "'test (1)'\n",
      "'test (2)'\n",
      "'test (3)'\n",
      "'test (4)'\n",
      "'test (5)'\n",
      "'train (1)'\n",
      "'train (2)'\n",
      "'train (3)'\n",
      "'train (4)'\n",
      "'train (5)'\n",
      "'valid (1)'\n",
      "'valid (2)'\n",
      "'valid (3)'\n",
      "'valid (4)'\n",
      "'valid (5)'\n",
      " yolov5\n"
     ]
    }
   ],
   "source": [
    "!ls"
   ]
  },
  {
   "cell_type": "code",
   "execution_count": null,
   "metadata": {},
   "outputs": [],
   "source": [
    "rm -f -r 'test (1)' 'test (2)' 'test (3)' 'test (4)' 'test (5)' 'train (1)' 'train (2)' 'train (3)' 'train (4)' 'train (5)' 'valid (1)' 'valid (2)' 'valid (3)' 'valid (4)' 'valid (5)'"
   ]
  },
  {
   "cell_type": "code",
   "execution_count": null,
   "metadata": {},
   "outputs": [
    {
     "name": "stdout",
     "output_type": "stream",
     "text": [
      " 00_config.ipynb\n",
      " 01_split.ipynb\n",
      " 02_train.ipynb\n",
      " 03_detect.ipynb\n",
      "\u001b[0m\u001b[01;34m'AutoWeight <name>-160068'\u001b[0m/\n",
      "\u001b[01;34m'AutoWeight <name>2 - 1'\u001b[0m/\n",
      "\u001b[01;34m'AutoWeight <name>-277648'\u001b[0m/\n",
      "\u001b[01;34m'AutoWeight <name>-603604'\u001b[0m/\n",
      "'_capture input.ipynb'\n",
      " CONTRIBUTING.md\n",
      " data.yaml\n",
      " docker-compose.yml\n",
      " \u001b[01;34mdocs\u001b[0m/\n",
      "\u001b[01;34m'Final Roboflow Export (841)AutoWeight <name> 21-03-21 01-57-37'\u001b[0m/\n",
      "'Final Roboflow Export (841)AutoWeight <name> 21-03-21 01-57-37.zip'\n",
      "\u001b[01;34m'Final Roboflow Export (841)AutoWeight <name> 21-03-21 01-58-39'\u001b[0m/\n",
      "'Final Roboflow Export (841)AutoWeight <name> 21-03-21 01-58-39.zip'\n",
      " \u001b[01;34mfromIndex-296227\u001b[0m/\n",
      "\u001b[01;34m'Image Repo'\u001b[0m/\n",
      " index.ipynb\n",
      " \u001b[01;34mipynb_tests\u001b[0m/\n",
      " LICENSE\n",
      " Makefile\n",
      " MANIFEST.in\n",
      " \u001b[01;34mModelAssistedLabel\u001b[0m/\n",
      "'ModelAssistedLabel config.json'\n",
      "\u001b[01;34m'pre-trained weights'\u001b[0m/\n",
      " README.md\n",
      " settings.ini\n",
      " setup.py\n",
      " _Synch.ipynb\n",
      " \u001b[01;34myolov5\u001b[0m/\n"
     ]
    }
   ],
   "source": [
    "ls"
   ]
  },
  {
   "cell_type": "code",
   "execution_count": null,
   "metadata": {},
   "outputs": [],
   "source": [
    "!rm -f -r 'AutoWeight <name>-160068' 'AutoWeight <name>2 - 1' 'AutoWeight <name>-277648'\n",
    "'AutoWeight <name>-603604'"
   ]
  },
  {
   "cell_type": "code",
   "execution_count": null,
   "metadata": {},
   "outputs": [],
   "source": []
  }
 ],
 "metadata": {
  "kernelspec": {
   "display_name": "Python 3",
   "language": "python",
   "name": "python3"
  }
 },
 "nbformat": 4,
 "nbformat_minor": 0
}
