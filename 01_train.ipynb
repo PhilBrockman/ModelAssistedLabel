{
 "cells": [
  {
   "cell_type": "code",
   "execution_count": null,
   "metadata": {
    "id": "09QJSLNJeeK4"
   },
   "outputs": [],
   "source": [
    "# default_exp core"
   ]
  },
  {
   "cell_type": "code",
   "execution_count": null,
   "metadata": {
    "id": "Wp3gkESwzvlv"
   },
   "outputs": [],
   "source": []
  },
  {
   "cell_type": "markdown",
   "metadata": {
    "id": "m3awZlrTzxX3"
   },
   "source": [
    "# Pre-reqs"
   ]
  },
  {
   "cell_type": "code",
   "execution_count": 5,
   "metadata": {
    "colab": {
     "base_uri": "https://localhost:8080/"
    },
    "id": "NNApuO8teqsF",
    "outputId": "f5695b86-bf3d-4edf-b109-16c1f0c63cbe"
   },
   "outputs": [
    {
     "name": "stdout",
     "output_type": "stream",
     "text": [
      "Drive already mounted at /content/drive; to attempt to forcibly remount, call drive.mount(\"/content/drive\", force_remount=True).\n"
     ]
    }
   ],
   "source": [
    "#hide\n",
    "from google.colab import drive\n",
    "drive.mount(\"/content/drive\")"
   ]
  },
  {
   "cell_type": "code",
   "execution_count": null,
   "metadata": {
    "id": "QND7OdmreeK-"
   },
   "outputs": [],
   "source": [
    "#hide\n",
    "!pip install nbdev\n",
    "from nbdev.showdoc import *"
   ]
  },
  {
   "cell_type": "code",
   "execution_count": null,
   "metadata": {
    "id": "FFyKHtKsfFhV"
   },
   "outputs": [],
   "source": [
    "#hide\n",
    "!pip install nbdev\n",
    "import os\n",
    "# define pathway to the weights\n",
    "weight_filenames = {\n",
    "    \"lcd\": \"21-2-20-94-universal-lcd.pt\",\n",
    "    \"digits\":'21-2-25 1k-digits YOLOv5-weights.pt'\n",
    "    }\n",
    "\n",
    "resource_folder = \"/content/drive/MyDrive/Coding/Roboflow/try it out\"\n",
    "\n",
    "# detectors = []\n",
    "# for filename in weight_filenames:\n",
    "# weights_path = os.path.join(resource_folder, weights_filename)\n",
    "\n"
   ]
  },
  {
   "cell_type": "markdown",
   "metadata": {
    "id": "O9eNwYdgeeK-"
   },
   "source": [
    "# module name here\n",
    "\n",
    "> API details."
   ]
  },
  {
   "cell_type": "code",
   "execution_count": 1,
   "metadata": {
    "colab": {
     "base_uri": "https://localhost:8080/"
    },
    "id": "xR-SBpXexXko",
    "outputId": "a761c495-8628-404e-845c-47b871d9fed6"
   },
   "outputs": [
    {
     "name": "stdout",
     "output_type": "stream",
     "text": [
      "Setup complete. Using torch 1.8.0+cu101 _CudaDeviceProperties(name='Tesla P100-PCIE-16GB', major=6, minor=0, total_memory=16280MB, multi_processor_count=56)\n",
      "/content\n"
     ]
    }
   ],
   "source": [
    "import os\n",
    "\n",
    "# safety for re-executions\n",
    "if not os.path.exists(\"yolov5\"):\n",
    "  # clone YOLOv5 and reset to a specific git checkpoint that has been verified working\n",
    "  !git clone https://github.com/ultralytics/yolov5  # clone repo\n",
    "  !git reset --hard 68211f72c99915a15855f7b99bf5d93f5631330f\n",
    "\n",
    "# enter the yolov5 directory\n",
    "%cd yolov5\n",
    "\n",
    "# install dependencies as necessary\n",
    "!pip install -qr requirements.txt  # install dependencies (ignore errors)\n",
    "import torch\n",
    "\n",
    "from IPython.display import Image, clear_output  # to display images\n",
    "# from utils.google_utils import gdrive_download  # to download models/datasets\n",
    "\n",
    "clear_output()\n",
    "\n",
    "if torch.cuda.is_available():\n",
    "  print('Setup complete. Using torch %s %s' % (torch.__version__, torch.cuda.get_device_properties(0)))\n",
    "else:\n",
    "  raise Exception(\"You need to enable GPU in this runtime environment\")\n",
    "\n",
    "# return to parent directory\n",
    "%cd .."
   ]
  },
  {
   "cell_type": "code",
   "execution_count": 2,
   "metadata": {
    "id": "UoTOzx-jgzM-"
   },
   "outputs": [],
   "source": [
    "resource_map = {\"images\": \".jpg\", \"labels\": \".txt\"}"
   ]
  },
  {
   "cell_type": "code",
   "execution_count": 3,
   "metadata": {
    "id": "XBkuFWc2QQAz"
   },
   "outputs": [],
   "source": [
    "import glob\n",
    "\n",
    "def collect_files(walk_dir):\n",
    "  res = {}\n",
    "  for key, extension in resource_map.items():\n",
    "    resource_generator = glob.iglob(walk_dir + '/**/*' + extension, recursive=True)\n",
    "    res[key] = [{\"pair_id\": os.path.basename(x)[:-1*len(extension)], \"path\": x} for x in resource_generator]\n",
    "  return res\n",
    "\n",
    "def matched(res):\n",
    "  bn = lambda x: set([z[\"pair_id\"] for z in x])\n",
    "  matched = (bn(res[\"labels\"]).intersection(bn(res[\"images\"])))\n",
    "  pairs = []\n",
    "  for resource in matched:\n",
    "    tmp = {}\n",
    "    for k in resource_map:\n",
    "      tmp[k] = [x for x in res[k] if x[\"pair_id\"] == resource][0]\n",
    "    pairs.append(tmp)\n",
    "    \n",
    "  return pairs"
   ]
  },
  {
   "cell_type": "code",
   "execution_count": 4,
   "metadata": {
    "id": "htNVVNf5Si35"
   },
   "outputs": [],
   "source": [
    "default_split_ratio = {\n",
    "   \"train\": .7,\n",
    "   \"valid\": .2,\n",
    "   \"test\": .1 \n",
    "}\n",
    "\n",
    "split_ratio = default_split_ratio"
   ]
  },
  {
   "cell_type": "code",
   "execution_count": 5,
   "metadata": {
    "id": "uvPggPD38ALa"
   },
   "outputs": [],
   "source": [
    "repo = \"/content/drive/MyDrive/Coding/Roboflow Export (841)\""
   ]
  },
  {
   "cell_type": "code",
   "execution_count": 11,
   "metadata": {
    "colab": {
     "base_uri": "https://localhost:8080/"
    },
    "id": "eJXAiuw-ZH2t",
    "outputId": "e322e02f-722e-4f72-9869-fe4004255faa"
   },
   "outputs": [
    {
     "data": {
      "text/plain": [
       "[{'train': 589}, {'valid': 169}, {'test': 83}]"
      ]
     },
     "execution_count": 11,
     "metadata": {
      "tags": []
     },
     "output_type": "execute_result"
    }
   ],
   "source": [
    "import math, random\n",
    "\n",
    "files = matched(collect_files(repo))\n",
    "random.shuffle(files)\n",
    "\n",
    "train = math.ceil(len(files) * split_ratio[\"train\"])\n",
    "valid = train + math.ceil(len(files) * split_ratio[\"valid\"])\n",
    "\n",
    "split =  {\"train\": files[:train],\n",
    "\"valid\": files[train: valid],\n",
    "\"test\": files[valid:]}\n",
    "\n",
    "assert sum([len(split[x]) for x in split]) == len(files)\n",
    "\n",
    "[{x: len(split[x])} for x in split]"
   ]
  },
  {
   "cell_type": "code",
   "execution_count": 12,
   "metadata": {
    "id": "vDtk_wq8s-hW"
   },
   "outputs": [],
   "source": [
    "from os.path import join\n",
    "\n",
    "def mkdir(dir):\n",
    "  if not os.path.exists(dir):\n",
    "    !mkdir \"{dir}\"\n"
   ]
  },
  {
   "cell_type": "code",
   "execution_count": 13,
   "metadata": {
    "colab": {
     "base_uri": "https://localhost:8080/"
    },
    "id": "RfGzYegJb78b",
    "outputId": "ed2a89c8-3365-47f4-d808-1791fe0e8d52"
   },
   "outputs": [
    {
     "name": "stdout",
     "output_type": "stream",
     "text": [
      "CPU times: user 1.85 s, sys: 3.34 s, total: 5.2 s\n",
      "Wall time: 1min 27s\n"
     ]
    }
   ],
   "source": [
    "%%time\n",
    "\n",
    "for setname, pairs in split.items():\n",
    "  dir = join(\"./\", setname)\n",
    "  mkdir(dir)\n",
    "  for pair in pairs:\n",
    "    for resource, data in pair.items():\n",
    "      subdir = join(dir, resource)\n",
    "      mkdir(subdir)\n",
    "      target = data[\"path\"]\n",
    "      dest_filename = data[\"pair_id\"]+resource_map[resource]\n",
    "      destination = join(subdir, dest_filename)\n",
    "      if not os.path.exists(destination):\n",
    "        !cp \"{target}\" \"{destination}\"\n",
    "\n"
   ]
  },
  {
   "cell_type": "code",
   "execution_count": 14,
   "metadata": {
    "colab": {
     "base_uri": "https://localhost:8080/"
    },
    "id": "i3rJeOSwp_rM",
    "outputId": "e1421c3b-32eb-47a2-93e5-ea18432285b4"
   },
   "outputs": [
    {
     "data": {
      "text/plain": [
       "{'test-images': 161,\n",
       " 'test-labels': 161,\n",
       " 'train-images': 769,\n",
       " 'train-labels': 769,\n",
       " 'valid-images': 307,\n",
       " 'valid-labels': 307}"
      ]
     },
     "execution_count": 14,
     "metadata": {
      "tags": []
     },
     "output_type": "execute_result"
    }
   ],
   "source": [
    "lens = {}\n",
    "for x in split.keys():\n",
    "  for r in resource_map:\n",
    "    files = !ls \"{x}/{r}\"\n",
    "    lens[f\"{x}-{r}\"] = len(files)\n",
    "lens"
   ]
  },
  {
   "cell_type": "code",
   "execution_count": 15,
   "metadata": {
    "colab": {
     "base_uri": "https://localhost:8080/"
    },
    "id": "i1WzE7LVxwom",
    "outputId": "b27e6cbf-7744-4d1b-f6ee-044ec2fbeedf"
   },
   "outputs": [
    {
     "name": "stdout",
     "output_type": "stream",
     "text": [
      "Overwriting ./data.yaml\n"
     ]
    }
   ],
   "source": [
    "%%writefile ./data.yaml\n",
    "train: ../train/images\n",
    "val: ../valid/images\n",
    "\n",
    "nc: 10\n",
    "names: ['1', '2', '3', '4', '5', '6', '7', '8', '9', '0']"
   ]
  },
  {
   "cell_type": "markdown",
   "metadata": {
    "id": "DQlJKLji12yH"
   },
   "source": [
    "#####architecture"
   ]
  },
  {
   "cell_type": "code",
   "execution_count": 16,
   "metadata": {
    "id": "dby5JcxF1qIs"
   },
   "outputs": [],
   "source": [
    "# define number of classes based on YAML\n",
    "import yaml\n",
    "with open(\"data.yaml\", 'r') as stream:\n",
    "    num_classes = str(yaml.safe_load(stream)['nc'])"
   ]
  },
  {
   "cell_type": "code",
   "execution_count": 17,
   "metadata": {
    "colab": {
     "base_uri": "https://localhost:8080/"
    },
    "id": "ttkXcDI71ipz",
    "outputId": "2d9b93aa-f816-49d0-ac18-354693869870"
   },
   "outputs": [
    {
     "name": "stdout",
     "output_type": "stream",
     "text": [
      "# parameters\n",
      "nc: 80  # number of classes\n",
      "depth_multiple: 0.33  # model depth multiple\n",
      "width_multiple: 0.50  # layer channel multiple\n",
      "\n",
      "# anchors\n",
      "anchors:\n",
      "  - [10,13, 16,30, 33,23]  # P3/8\n",
      "  - [30,61, 62,45, 59,119]  # P4/16\n",
      "  - [116,90, 156,198, 373,326]  # P5/32\n",
      "\n",
      "# YOLOv5 backbone\n",
      "backbone:\n",
      "  # [from, number, module, args]\n",
      "  [[-1, 1, Focus, [64, 3]],  # 0-P1/2\n",
      "   [-1, 1, Conv, [128, 3, 2]],  # 1-P2/4\n",
      "   [-1, 3, C3, [128]],\n",
      "   [-1, 1, Conv, [256, 3, 2]],  # 3-P3/8\n",
      "   [-1, 9, C3, [256]],\n",
      "   [-1, 1, Conv, [512, 3, 2]],  # 5-P4/16\n",
      "   [-1, 9, C3, [512]],\n",
      "   [-1, 1, Conv, [1024, 3, 2]],  # 7-P5/32\n",
      "   [-1, 1, SPP, [1024, [5, 9, 13]]],\n",
      "   [-1, 3, C3, [1024, False]],  # 9\n",
      "  ]\n",
      "\n",
      "# YOLOv5 head\n",
      "head:\n",
      "  [[-1, 1, Conv, [512, 1, 1]],\n",
      "   [-1, 1, nn.Upsample, [None, 2, 'nearest']],\n",
      "   [[-1, 6], 1, Concat, [1]],  # cat backbone P4\n",
      "   [-1, 3, C3, [512, False]],  # 13\n",
      "\n",
      "   [-1, 1, Conv, [256, 1, 1]],\n",
      "   [-1, 1, nn.Upsample, [None, 2, 'nearest']],\n",
      "   [[-1, 4], 1, Concat, [1]],  # cat backbone P3\n",
      "   [-1, 3, C3, [256, False]],  # 17 (P3/8-small)\n",
      "\n",
      "   [-1, 1, Conv, [256, 3, 2]],\n",
      "   [[-1, 14], 1, Concat, [1]],  # cat head P4\n",
      "   [-1, 3, C3, [512, False]],  # 20 (P4/16-medium)\n",
      "\n",
      "   [-1, 1, Conv, [512, 3, 2]],\n",
      "   [[-1, 10], 1, Concat, [1]],  # cat head P5\n",
      "   [-1, 3, C3, [1024, False]],  # 23 (P5/32-large)\n",
      "\n",
      "   [[17, 20, 23], 1, Detect, [nc, anchors]],  # Detect(P3, P4, P5)\n",
      "  ]\n"
     ]
    }
   ],
   "source": [
    "#this is the model configuration we will use for our tutorial \n",
    "%cat /content/yolov5/models/yolov5s.yaml"
   ]
  },
  {
   "cell_type": "code",
   "execution_count": 18,
   "metadata": {
    "id": "R183Gk8z1v5s"
   },
   "outputs": [],
   "source": [
    "#customize iPython writefile so we can write variables\n",
    "from IPython.core.magic import register_line_cell_magic\n",
    "\n",
    "@register_line_cell_magic\n",
    "def writetemplate(line, cell):\n",
    "    with open(line, 'w') as f:\n",
    "        f.write(cell.format(**globals()))"
   ]
  },
  {
   "cell_type": "code",
   "execution_count": 19,
   "metadata": {
    "id": "XGVjUeKa1xhy"
   },
   "outputs": [],
   "source": [
    "%%writetemplate /content/yolov5/models/custom_yolov5s.yaml\n",
    "\n",
    "# parameters\n",
    "nc: {num_classes}  # number of classes\n",
    "depth_multiple: 0.33  # model depth multiple\n",
    "width_multiple: 0.50  # layer channel multiple\n",
    "\n",
    "# anchors\n",
    "anchors:\n",
    "  - [10,13, 16,30, 33,23]  # P3/8\n",
    "  - [30,61, 62,45, 59,119]  # P4/16\n",
    "  - [116,90, 156,198, 373,326]  # P5/32\n",
    "\n",
    "# YOLOv5 backbone\n",
    "backbone:\n",
    "  # [from, number, module, args]\n",
    "  [[-1, 1, Focus, [64, 3]],  # 0-P1/2\n",
    "   [-1, 1, Conv, [128, 3, 2]],  # 1-P2/4\n",
    "   [-1, 3, BottleneckCSP, [128]],\n",
    "   [-1, 1, Conv, [256, 3, 2]],  # 3-P3/8\n",
    "   [-1, 9, BottleneckCSP, [256]],\n",
    "   [-1, 1, Conv, [512, 3, 2]],  # 5-P4/16\n",
    "   [-1, 9, BottleneckCSP, [512]],\n",
    "   [-1, 1, Conv, [1024, 3, 2]],  # 7-P5/32\n",
    "   [-1, 1, SPP, [1024, [5, 9, 13]]],\n",
    "   [-1, 3, BottleneckCSP, [1024, False]],  # 9\n",
    "  ]\n",
    "\n",
    "# YOLOv5 head\n",
    "head:\n",
    "  [[-1, 1, Conv, [512, 1, 1]],\n",
    "   [-1, 1, nn.Upsample, [None, 2, 'nearest']],\n",
    "   [[-1, 6], 1, Concat, [1]],  # cat backbone P4\n",
    "   [-1, 3, BottleneckCSP, [512, False]],  # 13\n",
    "\n",
    "   [-1, 1, Conv, [256, 1, 1]],\n",
    "   [-1, 1, nn.Upsample, [None, 2, 'nearest']],\n",
    "   [[-1, 4], 1, Concat, [1]],  # cat backbone P3\n",
    "   [-1, 3, BottleneckCSP, [256, False]],  # 17 (P3/8-small)\n",
    "\n",
    "   [-1, 1, Conv, [256, 3, 2]],\n",
    "   [[-1, 14], 1, Concat, [1]],  # cat head P4\n",
    "   [-1, 3, BottleneckCSP, [512, False]],  # 20 (P4/16-medium)\n",
    "\n",
    "   [-1, 1, Conv, [512, 3, 2]],\n",
    "   [[-1, 10], 1, Concat, [1]],  # cat head P5\n",
    "   [-1, 3, BottleneckCSP, [1024, False]],  # 23 (P5/32-large)\n",
    "\n",
    "   [[17, 20, 23], 1, Detect, [nc, anchors]],  # Detect(P3, P4, P5)\n",
    "  ]"
   ]
  },
  {
   "cell_type": "code",
   "execution_count": 20,
   "metadata": {
    "colab": {
     "base_uri": "https://localhost:8080/"
    },
    "id": "PJQdZ1nd1yys",
    "outputId": "dc0f8be3-f7d5-4605-9896-1659ad8efde8"
   },
   "outputs": [
    {
     "name": "stdout",
     "output_type": "stream",
     "text": [
      "/content/yolov5\n",
      "remote: Enumerating objects: 11, done.\u001b[K\n",
      "remote: Counting objects: 100% (11/11), done.\u001b[K\n",
      "remote: Compressing objects: 100% (11/11), done.\u001b[K\n",
      "remote: Total 11 (delta 3), reused 0 (delta 0), pack-reused 0\u001b[K\n",
      "Unpacking objects: 100% (11/11), done.\n",
      "From https://github.com/ultralytics/yolov5\n",
      "   747c265..6f718ce  master     -> origin/master\n",
      "\u001b[34m\u001b[1mgithub: \u001b[0m⚠️ WARNING: code is out of date by 4 commits. Use 'git pull' to update or 'git clone https://github.com/ultralytics/yolov5' to download latest.\n",
      "YOLOv5 v4.0-130-g747c265 torch 1.8.0+cu101 CUDA:0 (Tesla P100-PCIE-16GB, 16280.875MB)\n",
      "\n",
      "Namespace(adam=False, batch_size=16, bucket='', cache_images=True, cfg='./models/custom_yolov5s.yaml', data='../data.yaml', device='', entity=None, epochs=10, evolve=False, exist_ok=False, global_rank=-1, hyp='data/hyp.scratch.yaml', image_weights=False, img_size=[416, 416], linear_lr=False, local_rank=-1, log_artifacts=False, log_imgs=16, multi_scale=False, name='yolov5s_results', noautoanchor=False, nosave=False, notest=False, project='runs/train', quad=False, rect=False, resume=False, save_dir='runs/train/yolov5s_results2', single_cls=False, sync_bn=False, total_batch_size=16, weights='', workers=8, world_size=1)\n",
      "\u001b[34m\u001b[1mwandb: \u001b[0mInstall Weights & Biases for YOLOv5 logging with 'pip install wandb' (recommended)\n",
      "Start Tensorboard with \"tensorboard --logdir runs/train\", view at http://localhost:6006/\n",
      "2021-03-14 04:34:06.981054: I tensorflow/stream_executor/platform/default/dso_loader.cc:49] Successfully opened dynamic library libcudart.so.11.0\n",
      "\u001b[34m\u001b[1mhyperparameters: \u001b[0mlr0=0.01, lrf=0.2, momentum=0.937, weight_decay=0.0005, warmup_epochs=3.0, warmup_momentum=0.8, warmup_bias_lr=0.1, box=0.05, cls=0.5, cls_pw=1.0, obj=1.0, obj_pw=1.0, iou_t=0.2, anchor_t=4.0, fl_gamma=0.0, hsv_h=0.015, hsv_s=0.7, hsv_v=0.4, degrees=0.0, translate=0.1, scale=0.5, shear=0.0, perspective=0.0, flipud=0.0, fliplr=0.5, mosaic=1.0, mixup=0.0\n",
      "\n",
      "                 from  n    params  module                                  arguments                     \n",
      "  0                -1  1      3520  models.common.Focus                     [3, 32, 3]                    \n",
      "  1                -1  1     18560  models.common.Conv                      [32, 64, 3, 2]                \n",
      "  2                -1  1     19904  models.common.BottleneckCSP             [64, 64, 1]                   \n",
      "  3                -1  1     73984  models.common.Conv                      [64, 128, 3, 2]               \n",
      "  4                -1  1    161152  models.common.BottleneckCSP             [128, 128, 3]                 \n",
      "  5                -1  1    295424  models.common.Conv                      [128, 256, 3, 2]              \n",
      "  6                -1  1    641792  models.common.BottleneckCSP             [256, 256, 3]                 \n",
      "  7                -1  1   1180672  models.common.Conv                      [256, 512, 3, 2]              \n",
      "  8                -1  1    656896  models.common.SPP                       [512, 512, [5, 9, 13]]        \n",
      "  9                -1  1   1248768  models.common.BottleneckCSP             [512, 512, 1, False]          \n",
      " 10                -1  1    131584  models.common.Conv                      [512, 256, 1, 1]              \n",
      " 11                -1  1         0  torch.nn.modules.upsampling.Upsample    [None, 2, 'nearest']          \n",
      " 12           [-1, 6]  1         0  models.common.Concat                    [1]                           \n",
      " 13                -1  1    378624  models.common.BottleneckCSP             [512, 256, 1, False]          \n",
      " 14                -1  1     33024  models.common.Conv                      [256, 128, 1, 1]              \n",
      " 15                -1  1         0  torch.nn.modules.upsampling.Upsample    [None, 2, 'nearest']          \n",
      " 16           [-1, 4]  1         0  models.common.Concat                    [1]                           \n",
      " 17                -1  1     95104  models.common.BottleneckCSP             [256, 128, 1, False]          \n",
      " 18                -1  1    147712  models.common.Conv                      [128, 128, 3, 2]              \n",
      " 19          [-1, 14]  1         0  models.common.Concat                    [1]                           \n",
      " 20                -1  1    313088  models.common.BottleneckCSP             [256, 256, 1, False]          \n",
      " 21                -1  1    590336  models.common.Conv                      [256, 256, 3, 2]              \n",
      " 22          [-1, 10]  1         0  models.common.Concat                    [1]                           \n",
      " 23                -1  1   1248768  models.common.BottleneckCSP             [512, 512, 1, False]          \n",
      " 24      [17, 20, 23]  1     40455  models.yolo.Detect                      [10, [[10, 13, 16, 30, 33, 23], [30, 61, 62, 45, 59, 119], [116, 90, 156, 198, 373, 326]], [128, 256, 512]]\n",
      "Model Summary: 283 layers, 7279367 parameters, 7279367 gradients, 16.9 GFLOPS\n",
      "\n",
      "Scaled weight_decay = 0.0005\n",
      "Optimizer groups: 62 .bias, 70 conv.weight, 59 other\n",
      "\u001b[34m\u001b[1mtrain: \u001b[0mScanning '../train/labels' for images and labels... 769 found, 0 missing, 0 empty, 0 corrupted: 100% 769/769 [00:00<00:00, 2094.69it/s]\n",
      "\u001b[34m\u001b[1mtrain: \u001b[0mNew cache created: ../train/labels.cache\n",
      "\u001b[34m\u001b[1mtrain: \u001b[0mCaching images (0.3GB): 100% 769/769 [00:02<00:00, 382.82it/s]\n",
      "\u001b[34m\u001b[1mval: \u001b[0mScanning '../valid/labels' for images and labels... 307 found, 0 missing, 0 empty, 0 corrupted: 100% 307/307 [00:00<00:00, 868.71it/s]\n",
      "\u001b[34m\u001b[1mval: \u001b[0mNew cache created: ../valid/labels.cache\n",
      "\u001b[34m\u001b[1mval: \u001b[0mCaching images (0.1GB): 100% 307/307 [00:00<00:00, 315.39it/s]\n",
      "Plotting labels... \n",
      "\n",
      "\u001b[34m\u001b[1mautoanchor: \u001b[0mAnalyzing anchors... anchors/target = 5.73, Best Possible Recall (BPR) = 1.0000\n",
      "Image sizes 416 train, 416 test\n",
      "Using 2 dataloader workers\n",
      "Logging results to runs/train/yolov5s_results2\n",
      "Starting training for 10 epochs...\n",
      "\n",
      "     Epoch   gpu_mem       box       obj       cls     total    labels  img_size\n",
      "       0/9      1.8G    0.1056   0.07499   0.06345     0.244         4       416: 100% 49/49 [00:08<00:00,  5.78it/s]\n",
      "               Class      Images      Labels           P           R      mAP@.5  mAP@.5:.95: 100% 10/10 [00:02<00:00,  4.30it/s]\n",
      "                 all         307        2687    7.55e-05      0.0108    1.32e-05    1.44e-06\n",
      "\n",
      "     Epoch   gpu_mem       box       obj       cls     total    labels  img_size\n",
      "       1/9     1.84G    0.1007   0.07926   0.06249    0.2424         4       416: 100% 49/49 [00:07<00:00,  6.62it/s]\n",
      "               Class      Images      Labels           P           R      mAP@.5  mAP@.5:.95: 100% 10/10 [00:01<00:00,  6.28it/s]\n",
      "                 all         307        2687    0.000139      0.0178    2.03e-05    2.17e-06\n",
      "\n",
      "     Epoch   gpu_mem       box       obj       cls     total    labels  img_size\n",
      "       2/9     1.84G   0.09938   0.08061   0.06165    0.2416         3       416: 100% 49/49 [00:07<00:00,  6.82it/s]\n",
      "               Class      Images      Labels           P           R      mAP@.5  mAP@.5:.95: 100% 10/10 [00:01<00:00,  5.80it/s]\n",
      "                 all         307        2687     0.00016      0.0203    3.37e-05    3.61e-06\n",
      "\n",
      "     Epoch   gpu_mem       box       obj       cls     total    labels  img_size\n",
      "       3/9     1.84G   0.09813   0.07731   0.06153     0.237         3       416: 100% 49/49 [00:06<00:00,  7.12it/s]\n",
      "               Class      Images      Labels           P           R      mAP@.5  mAP@.5:.95: 100% 10/10 [00:02<00:00,  3.49it/s]\n",
      "                 all         307        2687    0.000705       0.037      0.0001    1.24e-05\n",
      "\n",
      "     Epoch   gpu_mem       box       obj       cls     total    labels  img_size\n",
      "       4/9     1.84G   0.09725   0.08274    0.0611    0.2411         6       416: 100% 49/49 [00:06<00:00,  7.16it/s]\n",
      "               Class      Images      Labels           P           R      mAP@.5  mAP@.5:.95: 100% 10/10 [00:03<00:00,  3.09it/s]\n",
      "                 all         307        2687     0.00111      0.0372    0.000274    3.72e-05\n",
      "\n",
      "     Epoch   gpu_mem       box       obj       cls     total    labels  img_size\n",
      "       5/9     1.84G   0.09619   0.08142   0.06066    0.2383        12       416: 100% 49/49 [00:06<00:00,  7.39it/s]\n",
      "               Class      Images      Labels           P           R      mAP@.5  mAP@.5:.95: 100% 10/10 [00:04<00:00,  2.18it/s]\n",
      "                 all         307        2687     0.00365      0.0279    0.000976    0.000187\n",
      "\n",
      "     Epoch   gpu_mem       box       obj       cls     total    labels  img_size\n",
      "       6/9     1.84G   0.09475   0.07687   0.06003    0.2316         1       416: 100% 49/49 [00:06<00:00,  7.09it/s]\n",
      "               Class      Images      Labels           P           R      mAP@.5  mAP@.5:.95: 100% 10/10 [00:08<00:00,  1.18it/s]\n",
      "                 all         307        2687     0.00248      0.0708    0.000506    9.74e-05\n",
      "\n",
      "     Epoch   gpu_mem       box       obj       cls     total    labels  img_size\n",
      "       7/9     1.84G   0.09298   0.07643   0.05998    0.2294         4       416: 100% 49/49 [00:06<00:00,  7.36it/s]\n",
      "               Class      Images      Labels           P           R      mAP@.5  mAP@.5:.95: 100% 10/10 [00:07<00:00,  1.29it/s]\n",
      "                 all         307        2687      0.0184       0.133     0.00509    0.000893\n",
      "\n",
      "     Epoch   gpu_mem       box       obj       cls     total    labels  img_size\n",
      "       8/9     1.84G   0.09185   0.06983   0.06026    0.2219         6       416: 100% 49/49 [00:06<00:00,  7.38it/s]\n",
      "               Class      Images      Labels           P           R      mAP@.5  mAP@.5:.95: 100% 10/10 [00:07<00:00,  1.28it/s]\n",
      "                 all         307        2687      0.0316       0.169      0.0163     0.00309\n",
      "\n",
      "     Epoch   gpu_mem       box       obj       cls     total    labels  img_size\n",
      "       9/9     1.84G    0.0895   0.06971   0.06006    0.2193        17       416: 100% 49/49 [00:06<00:00,  7.27it/s]\n",
      "               Class      Images      Labels           P           R      mAP@.5  mAP@.5:.95: 100% 10/10 [00:10<00:00,  1.01s/it]\n",
      "                 all         307        2687       0.042       0.188      0.0203     0.00435\n",
      "                   1         307         351           0           0    0.000369    8.73e-05\n",
      "                   2         307         417      0.0364       0.396      0.0265     0.00671\n",
      "                   3         307         343      0.0509       0.198      0.0207     0.00506\n",
      "                   4         307         268      0.0174       0.216     0.00834     0.00182\n",
      "                   5         307         304      0.0457       0.273      0.0274     0.00568\n",
      "                   6         307         175       0.126       0.137      0.0356     0.00733\n",
      "                   7         307         148           0           0    0.000455    6.39e-05\n",
      "                   8         307         169      0.0829       0.124      0.0316     0.00596\n",
      "                   9         307         150      0.0325       0.367       0.035     0.00761\n",
      "                   0         307         362       0.028       0.169      0.0167     0.00318\n",
      "Optimizer stripped from runs/train/yolov5s_results2/weights/last.pt, 14.8MB\n",
      "Optimizer stripped from runs/train/yolov5s_results2/weights/best.pt, 14.8MB\n",
      "10 epochs completed in 0.037 hours.\n",
      "\n",
      "CPU times: user 676 ms, sys: 129 ms, total: 805 ms\n",
      "Wall time: 2min 26s\n"
     ]
    }
   ],
   "source": [
    "# train yolov5s on custom data for 100 epochs\n",
    "# time its performance\n",
    "%%time\n",
    "%cd /content/yolov5/\n",
    "!python train.py --img 416 --batch 16 --epochs 10 --data '../data.yaml' --cfg ./models/custom_yolov5s.yaml --weights '' --name yolov5s_results  --cache"
   ]
  },
  {
   "cell_type": "markdown",
   "metadata": {
    "id": "gmAFMot07MNz"
   },
   "source": [
    "#### Zip"
   ]
  },
  {
   "cell_type": "code",
   "execution_count": 54,
   "metadata": {
    "colab": {
     "base_uri": "https://localhost:8080/",
     "height": 35
    },
    "id": "ISO9wSuM8Jii",
    "outputId": "04fc6eec-c555-4b68-bc7b-2620641597dc"
   },
   "outputs": [
    {
     "data": {
      "application/vnd.google.colaboratory.intrinsic+json": {
       "type": "string"
      },
      "text/plain": [
       "'Roboflow Export (841) 21-03-14 04-47-42'"
      ]
     },
     "execution_count": 54,
     "metadata": {
      "tags": []
     },
     "output_type": "execute_result"
    }
   ],
   "source": [
    "from datetime import datetime\n",
    "now = datetime.now() # current date and time\n",
    "timestamp = now.strftime(\" %y-%m-%d %H-%M-%S\")\n",
    "zipname = repo.split(\"/\")[-1] + timestamp\n",
    "zipname"
   ]
  },
  {
   "cell_type": "code",
   "execution_count": 77,
   "metadata": {
    "colab": {
     "base_uri": "https://localhost:8080/",
     "height": 249
    },
    "id": "K7fc3b0z8DkO",
    "outputId": "7ad6329c-6b4d-4652-e71a-3b29b82eaea4"
   },
   "outputs": [
    {
     "name": "stdout",
     "output_type": "stream",
     "text": [
      "mv: cannot stat './valid': No such file or directory\n",
      "mv: cannot stat './train': No such file or directory\n"
     ]
    },
    {
     "ename": "IndexError",
     "evalue": "ignored",
     "output_type": "error",
     "traceback": [
      "\u001b[0;31m---------------------------------------------------------------------------\u001b[0m",
      "\u001b[0;31mIndexError\u001b[0m                                Traceback (most recent call last)",
      "\u001b[0;32m<ipython-input-77-f912951b335a>\u001b[0m in \u001b[0;36m<module>\u001b[0;34m()\u001b[0m\n\u001b[1;32m      3\u001b[0m   \u001b[0mget_ipython\u001b[0m\u001b[0;34m(\u001b[0m\u001b[0;34m)\u001b[0m\u001b[0;34m.\u001b[0m\u001b[0msystem\u001b[0m\u001b[0;34m(\u001b[0m\u001b[0;34m'mv \"./{subdir}\" \"{zipname}/\"'\u001b[0m\u001b[0;34m)\u001b[0m\u001b[0;34m\u001b[0m\u001b[0;34m\u001b[0m\u001b[0m\n\u001b[1;32m      4\u001b[0m \u001b[0;34m\u001b[0m\u001b[0m\n\u001b[0;32m----> 5\u001b[0;31m \u001b[0mresults_folder\u001b[0m \u001b[0;34m=\u001b[0m \u001b[0mjoin\u001b[0m\u001b[0;34m(\u001b[0m\u001b[0;34m\"runs/train\"\u001b[0m\u001b[0;34m,\u001b[0m \u001b[0mos\u001b[0m\u001b[0;34m.\u001b[0m\u001b[0mlistdir\u001b[0m\u001b[0;34m(\u001b[0m\u001b[0;34m\"runs/train\"\u001b[0m\u001b[0;34m)\u001b[0m\u001b[0;34m[\u001b[0m\u001b[0;34m-\u001b[0m\u001b[0;36m1\u001b[0m\u001b[0;34m]\u001b[0m\u001b[0;34m)\u001b[0m\u001b[0;34m\u001b[0m\u001b[0;34m\u001b[0m\u001b[0m\n\u001b[0m\u001b[1;32m      6\u001b[0m \u001b[0mget_ipython\u001b[0m\u001b[0;34m(\u001b[0m\u001b[0;34m)\u001b[0m\u001b[0;34m.\u001b[0m\u001b[0msystem\u001b[0m\u001b[0;34m(\u001b[0m\u001b[0;34m'mv \"./{results_folder}\" \"{zipname}/\"'\u001b[0m\u001b[0;34m)\u001b[0m\u001b[0;34m\u001b[0m\u001b[0;34m\u001b[0m\u001b[0m\n",
      "\u001b[0;31mIndexError\u001b[0m: list index out of range"
     ]
    }
   ],
   "source": [
    "mkdir(zipname)\n",
    "for subdir in [\"valid\", \"train\"]:\n",
    "  !mv \"./{subdir}\" \"{zipname}/\"\n",
    "\n",
    "results_folder = join(\"runs/train\", os.listdir(\"runs/train\")[-1])\n",
    "!mv \"./{results_folder}\" \"{zipname}/\"\n",
    "\n",
    "!zip \"{zipname}.zip\" \"{zipname}\"\n",
    "cp \"{zipname}.zip\" \"/content/drive/MyDrive/Coding/01_train\""
   ]
  }
 ],
 "metadata": {
  "accelerator": "GPU",
  "colab": {
   "name": "01_train.ipynb",
   "provenance": []
  },
  "kernelspec": {
   "display_name": "Python 3",
   "language": "python",
   "name": "python3"
  },
  "language_info": {
   "codemirror_mode": {
    "name": "ipython",
    "version": 3
   },
   "file_extension": ".py",
   "mimetype": "text/x-python",
   "name": "python",
   "nbconvert_exporter": "python",
   "pygments_lexer": "ipython3",
   "version": "3.8.5"
  }
 },
 "nbformat": 4,
 "nbformat_minor": 1
}
