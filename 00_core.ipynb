{
  "nbformat": 4,
  "nbformat_minor": 0,
  "metadata": {
    "kernelspec": {
      "display_name": "Python 3",
      "language": "python",
      "name": "python3"
    },
    "colab": {
      "name": "00_core.ipynb",
      "provenance": []
    },
    "accelerator": "GPU"
  },
  "cells": [
    {
      "cell_type": "code",
      "metadata": {
        "id": "09QJSLNJeeK4"
      },
      "source": [
        "# default_exp core"
      ],
      "execution_count": 1,
      "outputs": []
    },
    {
      "cell_type": "code",
      "metadata": {
        "colab": {
          "base_uri": "https://localhost:8080/"
        },
        "id": "NNApuO8teqsF",
        "outputId": "c590ef2a-cba6-419a-d4f5-d98ec39dc6aa"
      },
      "source": [
        "#hide\n",
        "from google.colab import drive\n",
        "drive.mount(\"/content/drive\")"
      ],
      "execution_count": 3,
      "outputs": [
        {
          "output_type": "stream",
          "text": [
            "Drive already mounted at /content/drive; to attempt to forcibly remount, call drive.mount(\"/content/drive\", force_remount=True).\n"
          ],
          "name": "stdout"
        }
      ]
    },
    {
      "cell_type": "code",
      "metadata": {
        "colab": {
          "base_uri": "https://localhost:8080/"
        },
        "id": "QND7OdmreeK-",
        "outputId": "cc8abcd7-f016-43cc-8330-166f61f2a954"
      },
      "source": [
        "#hide\n",
        "!pip install nbdev\n",
        "from nbdev.showdoc import *"
      ],
      "execution_count": 4,
      "outputs": [
        {
          "output_type": "stream",
          "text": [
            "Requirement already satisfied: nbdev in /usr/local/lib/python3.7/dist-packages (1.1.13)\n",
            "Requirement already satisfied: nbformat>=4.4.0 in /usr/local/lib/python3.7/dist-packages (from nbdev) (5.1.2)\n",
            "Requirement already satisfied: pip in /usr/local/lib/python3.7/dist-packages (from nbdev) (19.3.1)\n",
            "Requirement already satisfied: ghapi in /usr/local/lib/python3.7/dist-packages (from nbdev) (0.1.16)\n",
            "Requirement already satisfied: packaging in /usr/local/lib/python3.7/dist-packages (from nbdev) (20.9)\n",
            "Requirement already satisfied: pyyaml in /usr/local/lib/python3.7/dist-packages (from nbdev) (5.4.1)\n",
            "Requirement already satisfied: ipykernel in /usr/local/lib/python3.7/dist-packages (from nbdev) (4.10.1)\n",
            "Requirement already satisfied: fastrelease in /usr/local/lib/python3.7/dist-packages (from nbdev) (0.1.11)\n",
            "Requirement already satisfied: nbconvert<6 in /usr/local/lib/python3.7/dist-packages (from nbdev) (5.6.1)\n",
            "Requirement already satisfied: jupyter in /usr/local/lib/python3.7/dist-packages (from nbdev) (1.0.0)\n",
            "Requirement already satisfied: fastcore>=1.3.19 in /usr/local/lib/python3.7/dist-packages (from nbdev) (1.3.19)\n",
            "Requirement already satisfied: jupyter-client in /usr/local/lib/python3.7/dist-packages (from nbdev) (5.3.5)\n",
            "Requirement already satisfied: jupyter-core in /usr/local/lib/python3.7/dist-packages (from nbformat>=4.4.0->nbdev) (4.7.1)\n",
            "Requirement already satisfied: jsonschema!=2.5.0,>=2.4 in /usr/local/lib/python3.7/dist-packages (from nbformat>=4.4.0->nbdev) (2.6.0)\n",
            "Requirement already satisfied: ipython-genutils in /usr/local/lib/python3.7/dist-packages (from nbformat>=4.4.0->nbdev) (0.2.0)\n",
            "Requirement already satisfied: traitlets>=4.1 in /usr/local/lib/python3.7/dist-packages (from nbformat>=4.4.0->nbdev) (5.0.5)\n",
            "Requirement already satisfied: pyparsing>=2.0.2 in /usr/local/lib/python3.7/dist-packages (from packaging->nbdev) (2.4.7)\n",
            "Requirement already satisfied: ipython>=4.0.0 in /usr/local/lib/python3.7/dist-packages (from ipykernel->nbdev) (5.5.0)\n",
            "Requirement already satisfied: tornado>=4.0 in /usr/local/lib/python3.7/dist-packages (from ipykernel->nbdev) (5.1.1)\n",
            "Requirement already satisfied: bleach in /usr/local/lib/python3.7/dist-packages (from nbconvert<6->nbdev) (3.3.0)\n",
            "Requirement already satisfied: pandocfilters>=1.4.1 in /usr/local/lib/python3.7/dist-packages (from nbconvert<6->nbdev) (1.4.3)\n",
            "Requirement already satisfied: entrypoints>=0.2.2 in /usr/local/lib/python3.7/dist-packages (from nbconvert<6->nbdev) (0.3)\n",
            "Requirement already satisfied: pygments in /usr/local/lib/python3.7/dist-packages (from nbconvert<6->nbdev) (2.6.1)\n",
            "Requirement already satisfied: defusedxml in /usr/local/lib/python3.7/dist-packages (from nbconvert<6->nbdev) (0.7.0)\n",
            "Requirement already satisfied: jinja2>=2.4 in /usr/local/lib/python3.7/dist-packages (from nbconvert<6->nbdev) (2.11.3)\n",
            "Requirement already satisfied: testpath in /usr/local/lib/python3.7/dist-packages (from nbconvert<6->nbdev) (0.4.4)\n",
            "Requirement already satisfied: mistune<2,>=0.8.1 in /usr/local/lib/python3.7/dist-packages (from nbconvert<6->nbdev) (0.8.4)\n",
            "Requirement already satisfied: ipywidgets in /usr/local/lib/python3.7/dist-packages (from jupyter->nbdev) (7.6.3)\n",
            "Requirement already satisfied: notebook in /usr/local/lib/python3.7/dist-packages (from jupyter->nbdev) (5.3.1)\n",
            "Requirement already satisfied: jupyter-console in /usr/local/lib/python3.7/dist-packages (from jupyter->nbdev) (5.2.0)\n",
            "Requirement already satisfied: qtconsole in /usr/local/lib/python3.7/dist-packages (from jupyter->nbdev) (5.0.2)\n",
            "Requirement already satisfied: python-dateutil>=2.1 in /usr/local/lib/python3.7/dist-packages (from jupyter-client->nbdev) (2.8.1)\n",
            "Requirement already satisfied: pyzmq>=13 in /usr/local/lib/python3.7/dist-packages (from jupyter-client->nbdev) (22.0.3)\n",
            "Requirement already satisfied: decorator in /usr/local/lib/python3.7/dist-packages (from ipython>=4.0.0->ipykernel->nbdev) (4.4.2)\n",
            "Requirement already satisfied: prompt-toolkit<2.0.0,>=1.0.4 in /usr/local/lib/python3.7/dist-packages (from ipython>=4.0.0->ipykernel->nbdev) (1.0.18)\n",
            "Requirement already satisfied: simplegeneric>0.8 in /usr/local/lib/python3.7/dist-packages (from ipython>=4.0.0->ipykernel->nbdev) (0.8.1)\n",
            "Requirement already satisfied: setuptools>=18.5 in /usr/local/lib/python3.7/dist-packages (from ipython>=4.0.0->ipykernel->nbdev) (54.0.0)\n",
            "Requirement already satisfied: pexpect; sys_platform != \"win32\" in /usr/local/lib/python3.7/dist-packages (from ipython>=4.0.0->ipykernel->nbdev) (4.8.0)\n",
            "Requirement already satisfied: pickleshare in /usr/local/lib/python3.7/dist-packages (from ipython>=4.0.0->ipykernel->nbdev) (0.7.5)\n",
            "Requirement already satisfied: webencodings in /usr/local/lib/python3.7/dist-packages (from bleach->nbconvert<6->nbdev) (0.5.1)\n",
            "Requirement already satisfied: six>=1.9.0 in /usr/local/lib/python3.7/dist-packages (from bleach->nbconvert<6->nbdev) (1.15.0)\n",
            "Requirement already satisfied: MarkupSafe>=0.23 in /usr/local/lib/python3.7/dist-packages (from jinja2>=2.4->nbconvert<6->nbdev) (1.1.1)\n",
            "Requirement already satisfied: jupyterlab-widgets>=1.0.0; python_version >= \"3.6\" in /usr/local/lib/python3.7/dist-packages (from ipywidgets->jupyter->nbdev) (1.0.0)\n",
            "Requirement already satisfied: widgetsnbextension~=3.5.0 in /usr/local/lib/python3.7/dist-packages (from ipywidgets->jupyter->nbdev) (3.5.1)\n",
            "Requirement already satisfied: terminado>=0.8.1 in /usr/local/lib/python3.7/dist-packages (from notebook->jupyter->nbdev) (0.9.2)\n",
            "Requirement already satisfied: Send2Trash in /usr/local/lib/python3.7/dist-packages (from notebook->jupyter->nbdev) (1.5.0)\n",
            "Requirement already satisfied: qtpy in /usr/local/lib/python3.7/dist-packages (from qtconsole->jupyter->nbdev) (1.9.0)\n",
            "Requirement already satisfied: wcwidth in /usr/local/lib/python3.7/dist-packages (from prompt-toolkit<2.0.0,>=1.0.4->ipython>=4.0.0->ipykernel->nbdev) (0.2.5)\n",
            "Requirement already satisfied: ptyprocess>=0.5 in /usr/local/lib/python3.7/dist-packages (from pexpect; sys_platform != \"win32\"->ipython>=4.0.0->ipykernel->nbdev) (0.7.0)\n"
          ],
          "name": "stdout"
        }
      ]
    },
    {
      "cell_type": "code",
      "metadata": {
        "colab": {
          "base_uri": "https://localhost:8080/"
        },
        "id": "FFyKHtKsfFhV",
        "outputId": "72e0fa09-5ccd-4284-e82a-98649026dd1c"
      },
      "source": [
        "#hide\n",
        "!pip install nbdev\n",
        "import os\n",
        "# define pathway to the weights\n",
        "weight_filenames = {\n",
        "    \"lcd\": \"21-2-20-94-universal-lcd.pt\",\n",
        "    \"digits\":'21-2-25 1k-digits YOLOv5-weights.pt'\n",
        "    }\n",
        "\n",
        "resource_folder = \"/content/drive/MyDrive/Coding/Roboflow/try it out\"\n",
        "\n",
        "# detectors = []\n",
        "# for filename in weight_filenames:\n",
        "# weights_path = os.path.join(resource_folder, weights_filename)\n",
        "\n"
      ],
      "execution_count": 2,
      "outputs": [
        {
          "output_type": "stream",
          "text": [
            "Requirement already satisfied: nbdev in /usr/local/lib/python3.7/dist-packages (1.1.13)\n",
            "Requirement already satisfied: ipykernel in /usr/local/lib/python3.7/dist-packages (from nbdev) (4.10.1)\n",
            "Requirement already satisfied: pyyaml in /usr/local/lib/python3.7/dist-packages (from nbdev) (5.4.1)\n",
            "Requirement already satisfied: jupyter in /usr/local/lib/python3.7/dist-packages (from nbdev) (1.0.0)\n",
            "Requirement already satisfied: nbconvert<6 in /usr/local/lib/python3.7/dist-packages (from nbdev) (5.6.1)\n",
            "Requirement already satisfied: packaging in /usr/local/lib/python3.7/dist-packages (from nbdev) (20.9)\n",
            "Requirement already satisfied: jupyter-client in /usr/local/lib/python3.7/dist-packages (from nbdev) (5.3.5)\n",
            "Requirement already satisfied: pip in /usr/local/lib/python3.7/dist-packages (from nbdev) (19.3.1)\n",
            "Requirement already satisfied: ghapi in /usr/local/lib/python3.7/dist-packages (from nbdev) (0.1.16)\n",
            "Requirement already satisfied: nbformat>=4.4.0 in /usr/local/lib/python3.7/dist-packages (from nbdev) (5.1.2)\n",
            "Requirement already satisfied: fastcore>=1.3.19 in /usr/local/lib/python3.7/dist-packages (from nbdev) (1.3.19)\n",
            "Requirement already satisfied: fastrelease in /usr/local/lib/python3.7/dist-packages (from nbdev) (0.1.11)\n",
            "Requirement already satisfied: traitlets>=4.1.0 in /usr/local/lib/python3.7/dist-packages (from ipykernel->nbdev) (5.0.5)\n",
            "Requirement already satisfied: ipython>=4.0.0 in /usr/local/lib/python3.7/dist-packages (from ipykernel->nbdev) (5.5.0)\n",
            "Requirement already satisfied: tornado>=4.0 in /usr/local/lib/python3.7/dist-packages (from ipykernel->nbdev) (5.1.1)\n",
            "Requirement already satisfied: ipywidgets in /usr/local/lib/python3.7/dist-packages (from jupyter->nbdev) (7.6.3)\n",
            "Requirement already satisfied: jupyter-console in /usr/local/lib/python3.7/dist-packages (from jupyter->nbdev) (5.2.0)\n",
            "Requirement already satisfied: qtconsole in /usr/local/lib/python3.7/dist-packages (from jupyter->nbdev) (5.0.2)\n",
            "Requirement already satisfied: notebook in /usr/local/lib/python3.7/dist-packages (from jupyter->nbdev) (5.3.1)\n",
            "Requirement already satisfied: entrypoints>=0.2.2 in /usr/local/lib/python3.7/dist-packages (from nbconvert<6->nbdev) (0.3)\n",
            "Requirement already satisfied: pygments in /usr/local/lib/python3.7/dist-packages (from nbconvert<6->nbdev) (2.6.1)\n",
            "Requirement already satisfied: mistune<2,>=0.8.1 in /usr/local/lib/python3.7/dist-packages (from nbconvert<6->nbdev) (0.8.4)\n",
            "Requirement already satisfied: pandocfilters>=1.4.1 in /usr/local/lib/python3.7/dist-packages (from nbconvert<6->nbdev) (1.4.3)\n",
            "Requirement already satisfied: defusedxml in /usr/local/lib/python3.7/dist-packages (from nbconvert<6->nbdev) (0.7.0)\n",
            "Requirement already satisfied: jinja2>=2.4 in /usr/local/lib/python3.7/dist-packages (from nbconvert<6->nbdev) (2.11.3)\n",
            "Requirement already satisfied: jupyter-core in /usr/local/lib/python3.7/dist-packages (from nbconvert<6->nbdev) (4.7.1)\n",
            "Requirement already satisfied: bleach in /usr/local/lib/python3.7/dist-packages (from nbconvert<6->nbdev) (3.3.0)\n",
            "Requirement already satisfied: testpath in /usr/local/lib/python3.7/dist-packages (from nbconvert<6->nbdev) (0.4.4)\n",
            "Requirement already satisfied: pyparsing>=2.0.2 in /usr/local/lib/python3.7/dist-packages (from packaging->nbdev) (2.4.7)\n",
            "Requirement already satisfied: pyzmq>=13 in /usr/local/lib/python3.7/dist-packages (from jupyter-client->nbdev) (22.0.3)\n",
            "Requirement already satisfied: python-dateutil>=2.1 in /usr/local/lib/python3.7/dist-packages (from jupyter-client->nbdev) (2.8.1)\n",
            "Requirement already satisfied: ipython-genutils in /usr/local/lib/python3.7/dist-packages (from nbformat>=4.4.0->nbdev) (0.2.0)\n",
            "Requirement already satisfied: jsonschema!=2.5.0,>=2.4 in /usr/local/lib/python3.7/dist-packages (from nbformat>=4.4.0->nbdev) (2.6.0)\n",
            "Requirement already satisfied: prompt-toolkit<2.0.0,>=1.0.4 in /usr/local/lib/python3.7/dist-packages (from ipython>=4.0.0->ipykernel->nbdev) (1.0.18)\n",
            "Requirement already satisfied: setuptools>=18.5 in /usr/local/lib/python3.7/dist-packages (from ipython>=4.0.0->ipykernel->nbdev) (54.0.0)\n",
            "Requirement already satisfied: pickleshare in /usr/local/lib/python3.7/dist-packages (from ipython>=4.0.0->ipykernel->nbdev) (0.7.5)\n",
            "Requirement already satisfied: simplegeneric>0.8 in /usr/local/lib/python3.7/dist-packages (from ipython>=4.0.0->ipykernel->nbdev) (0.8.1)\n",
            "Requirement already satisfied: decorator in /usr/local/lib/python3.7/dist-packages (from ipython>=4.0.0->ipykernel->nbdev) (4.4.2)\n",
            "Requirement already satisfied: pexpect; sys_platform != \"win32\" in /usr/local/lib/python3.7/dist-packages (from ipython>=4.0.0->ipykernel->nbdev) (4.8.0)\n",
            "Requirement already satisfied: widgetsnbextension~=3.5.0 in /usr/local/lib/python3.7/dist-packages (from ipywidgets->jupyter->nbdev) (3.5.1)\n",
            "Requirement already satisfied: jupyterlab-widgets>=1.0.0; python_version >= \"3.6\" in /usr/local/lib/python3.7/dist-packages (from ipywidgets->jupyter->nbdev) (1.0.0)\n",
            "Requirement already satisfied: qtpy in /usr/local/lib/python3.7/dist-packages (from qtconsole->jupyter->nbdev) (1.9.0)\n",
            "Requirement already satisfied: Send2Trash in /usr/local/lib/python3.7/dist-packages (from notebook->jupyter->nbdev) (1.5.0)\n",
            "Requirement already satisfied: terminado>=0.8.1 in /usr/local/lib/python3.7/dist-packages (from notebook->jupyter->nbdev) (0.9.2)\n",
            "Requirement already satisfied: MarkupSafe>=0.23 in /usr/local/lib/python3.7/dist-packages (from jinja2>=2.4->nbconvert<6->nbdev) (1.1.1)\n",
            "Requirement already satisfied: six>=1.9.0 in /usr/local/lib/python3.7/dist-packages (from bleach->nbconvert<6->nbdev) (1.15.0)\n",
            "Requirement already satisfied: webencodings in /usr/local/lib/python3.7/dist-packages (from bleach->nbconvert<6->nbdev) (0.5.1)\n",
            "Requirement already satisfied: wcwidth in /usr/local/lib/python3.7/dist-packages (from prompt-toolkit<2.0.0,>=1.0.4->ipython>=4.0.0->ipykernel->nbdev) (0.2.5)\n",
            "Requirement already satisfied: ptyprocess>=0.5 in /usr/local/lib/python3.7/dist-packages (from pexpect; sys_platform != \"win32\"->ipython>=4.0.0->ipykernel->nbdev) (0.7.0)\n"
          ],
          "name": "stdout"
        }
      ]
    },
    {
      "cell_type": "markdown",
      "metadata": {
        "id": "O9eNwYdgeeK-"
      },
      "source": [
        "# module name here\n",
        "\n",
        "> API details."
      ]
    },
    {
      "cell_type": "code",
      "metadata": {
        "colab": {
          "base_uri": "https://localhost:8080/"
        },
        "id": "xR-SBpXexXko",
        "outputId": "8beff71e-f6c3-4be5-e982-000ff2c58d00"
      },
      "source": [
        "import os\n",
        "\n",
        "# safety for re-executions\n",
        "if not os.path.exists(\"yolov5\"):\n",
        "  # clone YOLOv5 and reset to a specific git checkpoint that has been verified working\n",
        "  !git clone https://github.com/ultralytics/yolov5  # clone repo\n",
        "  !git reset --hard 68211f72c99915a15855f7b99bf5d93f5631330f\n",
        "\n",
        "# enter the yolov5 directory\n",
        "%cd yolov5\n",
        "\n",
        "# install dependencies as necessary\n",
        "!pip install -qr requirements.txt  # install dependencies (ignore errors)\n",
        "import torch\n",
        "\n",
        "from IPython.display import Image, clear_output  # to display images\n",
        "# from utils.google_utils import gdrive_download  # to download models/datasets\n",
        "\n",
        "clear_output()\n",
        "\n",
        "if torch.cuda.is_available():\n",
        "  print('Setup complete. Using torch %s %s' % (torch.__version__, torch.cuda.get_device_properties(0)))\n",
        "else:\n",
        "  raise Exception(\"You need to enable GPU in this runtime environment\")\n",
        "\n",
        "# return to parent directory\n",
        "%cd .."
      ],
      "execution_count": 4,
      "outputs": [
        {
          "output_type": "stream",
          "text": [
            "Setup complete. Using torch 1.8.0+cu101 _CudaDeviceProperties(name='Tesla V100-SXM2-16GB', major=7, minor=0, total_memory=16160MB, multi_processor_count=80)\n",
            "/content\n"
          ],
          "name": "stdout"
        }
      ]
    },
    {
      "cell_type": "code",
      "metadata": {
        "id": "UoTOzx-jgzM-"
      },
      "source": [
        "resource_map = {\"images\": \".jpg\", \"labels\": \".txt\"}"
      ],
      "execution_count": 5,
      "outputs": []
    },
    {
      "cell_type": "code",
      "metadata": {
        "id": "XBkuFWc2QQAz"
      },
      "source": [
        "import glob\n",
        "\n",
        "def collect_files(walk_dir):\n",
        "  res = {}\n",
        "  for key, extension in resource_map.items():\n",
        "    resource_generator = glob.iglob(walk_dir + '/**/*' + extension, recursive=True)\n",
        "    res[key] = [{\"pair_id\": os.path.basename(x)[:-1*len(extension)], \"path\": x} for x in resource_generator]\n",
        "  return res\n",
        "\n",
        "def matched(res):\n",
        "  bn = lambda x: set([z[\"pair_id\"] for z in x])\n",
        "  matched = (bn(res[\"labels\"]).intersection(bn(res[\"images\"])))\n",
        "  pairs = []\n",
        "  for resource in matched:\n",
        "    tmp = {}\n",
        "    for k in resource_map:\n",
        "      tmp[k] = [x for x in res[k] if x[\"pair_id\"] == resource][0]\n",
        "    pairs.append(tmp)\n",
        "    \n",
        "  return pairs"
      ],
      "execution_count": 6,
      "outputs": []
    },
    {
      "cell_type": "code",
      "metadata": {
        "id": "htNVVNf5Si35"
      },
      "source": [
        "default_split_ratio = {\n",
        "   \"train\": .7,\n",
        "   \"valid\": .2,\n",
        "   \"test\": .1 \n",
        "}\n",
        "\n",
        "split_ratio = default_split_ratio"
      ],
      "execution_count": 7,
      "outputs": []
    },
    {
      "cell_type": "code",
      "metadata": {
        "colab": {
          "base_uri": "https://localhost:8080/"
        },
        "id": "eJXAiuw-ZH2t",
        "outputId": "26486d26-acd6-48d3-9a70-97b35bffbc57"
      },
      "source": [
        "import math\n",
        "files = matched(collect_files(\"/content/drive/MyDrive/Coding/Roboflow Export (841)\"))\n",
        "\n",
        "train = math.ceil(len(files) * split_ratio[\"train\"])\n",
        "valid = train + math.ceil(len(files) * split_ratio[\"valid\"])\n",
        "\n",
        "split =  {\"train\": files[:train],\n",
        "\"valid\": files[train: valid],\n",
        "\"test\": files[valid:]}\n",
        "\n",
        "assert sum([len(split[x]) for x in split]) == len(files)\n",
        "\n",
        "[{x: len(split[x])} for x in split]"
      ],
      "execution_count": 8,
      "outputs": [
        {
          "output_type": "execute_result",
          "data": {
            "text/plain": [
              "[{'train': 589}, {'valid': 169}, {'test': 83}]"
            ]
          },
          "metadata": {
            "tags": []
          },
          "execution_count": 8
        }
      ]
    },
    {
      "cell_type": "code",
      "metadata": {
        "id": "vDtk_wq8s-hW"
      },
      "source": [
        "from os.path import join\n",
        "\n",
        "def mkdir(dir):\n",
        "  if not os.path.exists(dir):\n",
        "    !mkdir {dir}\n"
      ],
      "execution_count": 29,
      "outputs": []
    },
    {
      "cell_type": "code",
      "metadata": {
        "id": "-JhHWQ5JrDti"
      },
      "source": [
        "setname = \"train\"\n",
        "pairs = split[setname]\n",
        "\n",
        "dir = join(\"./\", setname)\n",
        "mkdir(dir)"
      ],
      "execution_count": 42,
      "outputs": []
    },
    {
      "cell_type": "code",
      "metadata": {
        "id": "8Fo-tKwts5vw"
      },
      "source": [
        "pair = pairs[2]\n",
        "for resource, data in pair.items():\n",
        "  subdir = join(dir, resource)\n",
        "  mkdir(subdir)\n",
        "  target = data[\"path\"]\n",
        "  dest_filename = data[\"pair_id\"]+resource_map[resource]\n",
        "  destination = join(subdir, dest_filename)\n",
        "  if not os.path.exists(destination):\n",
        "    !cp \"{target}\" \"{destination}\"\n",
        "  else:\n",
        "    print(\"already exists\")"
      ],
      "execution_count": 57,
      "outputs": []
    },
    {
      "cell_type": "code",
      "metadata": {
        "id": "c83PBaqauChm",
        "outputId": "d33368cf-1059-42e1-bc82-eb593e23132a",
        "colab": {
          "base_uri": "https://localhost:8080/"
        }
      },
      "source": [
        "ls train/images"
      ],
      "execution_count": 54,
      "outputs": [
        {
          "output_type": "stream",
          "text": [
            "digittake-150-jpg_jpg.rf.abaf9d50852e6d9ab016909ca4f79c50.jpg\n",
            "digittake-323-jpg_jpg.rf.e7c67a25ed108f594a719603ea28cc70.jpg\n"
          ],
          "name": "stdout"
        }
      ]
    },
    {
      "cell_type": "code",
      "metadata": {
        "id": "RfGzYegJb78b"
      },
      "source": [
        "\n",
        "for setname, pairs in split.items():\n",
        "  dir = join(\"./\", setname)\n",
        "  mkdir(dir)\n",
        "  for pair in pairs:\n",
        "    for resource, data in pair.items():\n",
        "      subdir = join(dir, resource)\n",
        "      mkdir(subdir)\n",
        "      target = data[\"path\"]\n",
        "      dest_filename = data[\"pair_id\"]+resource_map[resource]\n",
        "      destination = join(subdir, dest_filename)\n",
        "      if not os.path.exists(destination):\n",
        "        !cp \"{target}\" \"{destination}\"\n",
        "\n"
      ],
      "execution_count": null,
      "outputs": []
    },
    {
      "cell_type": "code",
      "metadata": {
        "id": "i3rJeOSwp_rM",
        "outputId": "1efdd1e1-f2e4-499a-c363-6af1eea837d2",
        "colab": {
          "base_uri": "https://localhost:8080/"
        }
      },
      "source": [
        "lens = {}\n",
        "for x in split.keys():\n",
        "  for r in [\"images\", \"labels\"]:\n",
        "    res = !ls \"{x}/{r}\"\n",
        "    lens[f\"{x}-{r}\"] = len(res)\n",
        "lens"
      ],
      "execution_count": 21,
      "outputs": [
        {
          "output_type": "execute_result",
          "data": {
            "text/plain": [
              "{'test-images': 1,\n",
              " 'test-labels': 1,\n",
              " 'train-images': 771,\n",
              " 'train-labels': 595,\n",
              " 'valid-images': 107,\n",
              " 'valid-labels': 1}"
            ]
          },
          "metadata": {
            "tags": []
          },
          "execution_count": 21
        }
      ]
    },
    {
      "cell_type": "code",
      "metadata": {
        "id": "NW79bt5ueeK-"
      },
      "source": [
        "import pandas as pd\n",
        "import json\n",
        "\n",
        "class ProcessedResult:\n",
        "  def __init__(self, alias, filename = None, data_in_memory=None):\n",
        "    if data_in_memory is None:\n",
        "      with open(filename, \"r\") as infile:\n",
        "        data = json.load(infile)\n",
        "    if filename is None and data is None:\n",
        "      raise\n",
        "      \n",
        "    # instantiate the predictions dataframe\n",
        "    self.data = data\n",
        "    self.processed = data[\"processed\"]\n",
        "    df = pd.DataFrame.from_dict(data[\"df\"])\n",
        "    \n",
        "    self.alias = alias\n",
        "    self.filename = filename\n",
        "\n",
        "    print( len(self.data),len(self.processed))\n",
        "    "
      ],
      "execution_count": 14,
      "outputs": []
    },
    {
      "cell_type": "code",
      "metadata": {
        "colab": {
          "base_uri": "https://localhost:8080/"
        },
        "id": "JfgTYk-CfRyb",
        "outputId": "f3ac7b24-f8e8-4af3-f5e9-05d54e08d821"
      },
      "source": [
        "filename = os.path.join(resource_folder, \"additional lcd images/21-3-4 control-camera-light ground truth.json\")\n",
        "a = ProcessedResult(alias=\"alias\", filename = filename)"
      ],
      "execution_count": 15,
      "outputs": [
        {
          "output_type": "stream",
          "text": [
            "3 200\n"
          ],
          "name": "stdout"
        }
      ]
    },
    {
      "cell_type": "code",
      "metadata": {
        "id": "-3e8QNJaoutO"
      },
      "source": [
        "index = 121\n",
        "imgstring = a.data['processed'][index]['base64']"
      ],
      "execution_count": 16,
      "outputs": []
    },
    {
      "cell_type": "code",
      "metadata": {
        "id": "062blALBr3lP"
      },
      "source": [
        "import base64\n",
        "imgdata = base64.b64decode(imgstring)\n",
        "filename = 'some_image.jpg'  # I assume you have a way of picking unique filenames\n",
        "with open(filename, 'wb') as f:\n",
        "    f.write(imgdata)"
      ],
      "execution_count": 17,
      "outputs": []
    },
    {
      "cell_type": "code",
      "metadata": {
        "colab": {
          "base_uri": "https://localhost:8080/",
          "height": 649
        },
        "id": "zEHJ0EBWr440",
        "outputId": "4186cf06-ba38-468b-ada1-db0094c7e33e"
      },
      "source": [
        "import numpy as np\n",
        "import cv2 as cv\n",
        "im = cv.imread('some_image.jpg')\n",
        "imgray = cv.cvtColor(im, cv.COLOR_BGR2GRAY)\n",
        "# ret, thresh = cv.adaptiveThreshold(imgray, 127, 255, 0)\n",
        "thresh = cv.adaptiveThreshold(imgray,255,cv.ADAPTIVE_THRESH_MEAN_C, cv.THRESH_BINARY, 19, 2)\n",
        "contours, hierarchy = cv.findContours(thresh, cv.RETR_TREE, cv.CHAIN_APPROX_SIMPLE)\n",
        "\n",
        "from google.colab.patches import cv2_imshow\n",
        "cv2_imshow(thresh)"
      ],
      "execution_count": 47,
      "outputs": [
        {
          "output_type": "display_data",
          "data": {
            "image/png": "[encoded data removed]",
            "text/plain": [
              "<PIL.Image.Image image mode=L size=1280x720 at 0x7F91F9C4E4D0>"
            ]
          },
          "metadata": {
            "tags": []
          }
        }
      ]
    },
    {
      "cell_type": "code",
      "metadata": {
        "id": "1C7O6Se9r653"
      },
      "source": [
        "num_labels, labels_im = cv.connectedComponents(thresh)"
      ],
      "execution_count": 49,
      "outputs": []
    },
    {
      "cell_type": "code",
      "metadata": {
        "colab": {
          "base_uri": "https://localhost:8080/"
        },
        "id": "rkSXKaoGr929",
        "outputId": "425568cb-8453-4cb1-e5cc-7f8324ec50aa"
      },
      "source": [
        "num_labels"
      ],
      "execution_count": 50,
      "outputs": [
        {
          "output_type": "execute_result",
          "data": {
            "text/plain": [
              "412"
            ]
          },
          "metadata": {
            "tags": []
          },
          "execution_count": 50
        }
      ]
    },
    {
      "cell_type": "code",
      "metadata": {
        "id": "00SO9BSPvneN"
      },
      "source": [
        ""
      ],
      "execution_count": null,
      "outputs": []
    },
    {
      "cell_type": "markdown",
      "metadata": {
        "id": "HoRLpvwBxCbg"
      },
      "source": [
        "# module name here\n",
        "\n",
        "> API details."
      ]
    },
    {
      "cell_type": "code",
      "metadata": {
        "id": "REZVCG4RxDBB"
      },
      "source": [
        ""
      ],
      "execution_count": null,
      "outputs": []
    }
  ]
}